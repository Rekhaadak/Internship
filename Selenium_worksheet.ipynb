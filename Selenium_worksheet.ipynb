{
 "cells": [
  {
   "cell_type": "markdown",
   "metadata": {},
   "source": [
    " Q1: Write a python program to scrape data for “Data Analyst” Job position in \n",
    "“Bangalore” location. You have to scrape the job-title, job-location, company_name,\n",
    "experience_required. You have to scrape first 10 jobs data"
   ]
  },
  {
   "cell_type": "code",
   "execution_count": null,
   "metadata": {},
   "outputs": [],
   "source": [
    "!pip install selenium"
   ]
  },
  {
   "cell_type": "code",
   "execution_count": 18,
   "metadata": {},
   "outputs": [],
   "source": [
    "# Importing required libraries\n",
    "\n",
    "import pandas as pd\n",
    "import selenium\n",
    "from bs4 import BeautifulSoup\n",
    "import time\n",
    "\n",
    "#Importing selenium web driver \n",
    "from selenium import webdriver\n",
    "\n",
    "# Importing required Exceptions which needs to be handled\n",
    "from selenium.common.exceptions import NoSuchElementException, StaleElementReferenceException\n",
    "\n",
    "# IMporting requests\n",
    "import requests\n",
    "\n",
    "# Importing regex\n",
    "import re\n"
   ]
  },
  {
   "cell_type": "code",
   "execution_count": 19,
   "metadata": {},
   "outputs": [],
   "source": [
    "#get the web driver\n",
    "driver=webdriver.Chrome(r\"C:\\Users\\dell\\Downloads\\chromedriver_win32\\chromedriver.exe\")"
   ]
  },
  {
   "cell_type": "code",
   "execution_count": 22,
   "metadata": {},
   "outputs": [],
   "source": [
    "#open the webpage naukari.com\n",
    "url=\"https://www.naukri.com/\"\n",
    "driver.get(url)"
   ]
  },
  {
   "cell_type": "code",
   "execution_count": 23,
   "metadata": {
    "scrolled": true
   },
   "outputs": [
    {
     "data": {
      "text/plain": [
       "<selenium.webdriver.remote.webelement.WebElement (session=\"20c99e6b40c44a5bb45dc4773a6f1a6e\", element=\"cdf5be8a-5a20-49d0-9bc5-59487b6f2807\")>"
      ]
     },
     "execution_count": 23,
     "metadata": {},
     "output_type": "execute_result"
    }
   ],
   "source": [
    "#Get the web element for job title\n",
    "search_job=driver.find_element_by_xpath('//input[@class=\"sugInp\"]')\n",
    "search_job\n"
   ]
  },
  {
   "cell_type": "code",
   "execution_count": 24,
   "metadata": {},
   "outputs": [],
   "source": [
    "#searching job title Data Analyst\n",
    "search_job.send_keys(\"Data Analyst\")"
   ]
  },
  {
   "cell_type": "code",
   "execution_count": 25,
   "metadata": {},
   "outputs": [
    {
     "data": {
      "text/plain": [
       "<selenium.webdriver.remote.webelement.WebElement (session=\"20c99e6b40c44a5bb45dc4773a6f1a6e\", element=\"ee7cb66e-d6e1-475c-b6d4-5ed4c91974c4\")>"
      ]
     },
     "execution_count": 25,
     "metadata": {},
     "output_type": "execute_result"
    }
   ],
   "source": [
    "#get the web element for job location\n",
    "search_loc=driver.find_element_by_id('qsb-location-sugg')\n",
    "search_loc"
   ]
  },
  {
   "cell_type": "code",
   "execution_count": 26,
   "metadata": {},
   "outputs": [],
   "source": [
    "# search job location as Banglore\n",
    "search_loc.send_keys(\"Bangalore\")"
   ]
  },
  {
   "cell_type": "code",
   "execution_count": 27,
   "metadata": {},
   "outputs": [
    {
     "data": {
      "text/plain": [
       "<selenium.webdriver.remote.webelement.WebElement (session=\"20c99e6b40c44a5bb45dc4773a6f1a6e\", element=\"650a79e0-eab9-4a3d-92bc-40dd7899ce51\")>"
      ]
     },
     "execution_count": 27,
     "metadata": {},
     "output_type": "execute_result"
    }
   ],
   "source": [
    "# get the web element for search button\n",
    "search_btn=driver.find_element_by_xpath('//button[@class=\"btn\"]')\n",
    "search_btn"
   ]
  },
  {
   "cell_type": "code",
   "execution_count": 28,
   "metadata": {},
   "outputs": [],
   "source": [
    "search_btn.click()"
   ]
  },
  {
   "cell_type": "code",
   "execution_count": 49,
   "metadata": {},
   "outputs": [
    {
     "data": {
      "text/plain": [
       "['Business Data Analyst - Google Data Studio & SQL',\n",
       " 'Executive Data Analyst',\n",
       " 'Senior Data Analyst',\n",
       " 'Data Analyst - I/II',\n",
       " 'Data Analyst',\n",
       " 'Hiring For the role - DATA Analyst (Flipkart)',\n",
       " 'Hiring For the role - DATA Analyst (Flipkart)',\n",
       " 'Business Data Analyst - MIS & Reporting',\n",
       " 'Senior Data Analyst',\n",
       " 'Senior Data Analyst',\n",
       " 'Senior Associate, Data Hierarchy Analyst( MDM)',\n",
       " 'Lead , Data Analyst',\n",
       " 'Product Data Analyst',\n",
       " 'Data Analyst/Sr.Analyst - Bangalore',\n",
       " 'SENIOR MARKETING DATA ANALYST',\n",
       " 'Data Analyst - Quantitative Support Team',\n",
       " 'MIS / Data Analyst',\n",
       " 'Data Analyst with SAS & Python',\n",
       " 'Data Analyst',\n",
       " 'Data Analyst']"
      ]
     },
     "execution_count": 49,
     "metadata": {},
     "output_type": "execute_result"
    }
   ],
   "source": [
    "title_tags=driver.find_elements_by_xpath('//a[@class=\"title fw500 ellipsis\"]')\n",
    "title_tags\n",
    "job_title=[]\n",
    "for i in title_tags:\n",
    "    job_title.append(i.text)\n",
    "job_title"
   ]
  },
  {
   "cell_type": "code",
   "execution_count": 48,
   "metadata": {},
   "outputs": [
    {
     "data": {
      "text/plain": [
       "['AVE-Promagne',\n",
       " 'Gokaldas Exports Ltd',\n",
       " 'Virtusa Consulting Services Pvt Ltd',\n",
       " 'Philips India Limited',\n",
       " 'IBM India Pvt. Limited',\n",
       " 'Allegis Services India Pvt. Ltd.',\n",
       " 'Allegis Services India Pvt. Ltd.',\n",
       " 'INTERTRUST GROUP',\n",
       " 'Flipkart',\n",
       " 'Flipkart',\n",
       " 'GENPACT India Private Limited',\n",
       " 'Near Pte. Ltd.',\n",
       " 'Trifacta',\n",
       " 'Cocentrus',\n",
       " 'McAfee Software (India) Pvt. Ltd',\n",
       " 'TresVista Financial',\n",
       " 'MediBuddy',\n",
       " 'Podium Systems',\n",
       " 'Coda Payments',\n",
       " 'FedEx Express']"
      ]
     },
     "execution_count": 48,
     "metadata": {},
     "output_type": "execute_result"
    }
   ],
   "source": [
    "company_name=driver.find_elements_by_xpath('//a[@class=\"subTitle ellipsis fleft\"]')\n",
    "company_name\n",
    "compname=[]\n",
    "for i in company_name:\n",
    "    compname.append(i.text)\n",
    "compname"
   ]
  },
  {
   "cell_type": "code",
   "execution_count": 47,
   "metadata": {},
   "outputs": [
    {
     "data": {
      "text/plain": [
       "['Bangalore/Bengaluru',\n",
       " 'Bangalore/Bengaluru',\n",
       " 'Hyderabad/Secunderabad, Pune, Gurgaon/Gurugram, Chennai, Bangalore/Bengaluru, Mumbai (All Areas)\\n(WFH during Covid)',\n",
       " 'Bangalore/Bengaluru',\n",
       " 'Bengaluru/Bangalore',\n",
       " 'Bangalore/Bengaluru(Bellandur)\\n(WFH during Covid)',\n",
       " 'Bangalore/Bengaluru(Bellandur)\\n(WFH during Covid)',\n",
       " 'Mumbai, Bangalore/Bengaluru',\n",
       " 'Bangalore/Bengaluru',\n",
       " 'Bangalore/Bengaluru',\n",
       " 'Bangalore/Bengaluru',\n",
       " 'Bangalore/Bengaluru',\n",
       " 'Bangalore/Bengaluru',\n",
       " 'Bangalore/Bengaluru',\n",
       " 'Bangalore/Bengaluru',\n",
       " 'Mumbai, Pune, Bangalore/Bengaluru',\n",
       " 'Bangalore/Bengaluru',\n",
       " 'Gurgaon/Gurugram, Chennai, Bangalore',\n",
       " 'Bangalore/Bengaluru',\n",
       " 'Gurgaon/Gurugram, Bangalore/Bengaluru, Mumbai (All Areas)']"
      ]
     },
     "execution_count": 47,
     "metadata": {},
     "output_type": "execute_result"
    }
   ],
   "source": [
    "loc=driver.find_elements_by_xpath('//li[@class=\"fleft grey-text br2 placeHolderLi location\"]')\n",
    "loc\n",
    "location=[]\n",
    "for i in loc:\n",
    "    location.append(i.text.strip())\n",
    "location"
   ]
  },
  {
   "cell_type": "code",
   "execution_count": 46,
   "metadata": {},
   "outputs": [
    {
     "data": {
      "text/plain": [
       "['3-8 Yrs',\n",
       " '0-3 Yrs',\n",
       " '8-12 Yrs',\n",
       " '3-6 Yrs',\n",
       " '1-4 Yrs',\n",
       " '1-6 Yrs',\n",
       " '1-6 Yrs',\n",
       " '3-8 Yrs',\n",
       " '2-3 Yrs',\n",
       " '3-8 Yrs',\n",
       " '1-3 Yrs',\n",
       " '6-11 Yrs',\n",
       " '2-5 Yrs',\n",
       " '5-10 Yrs',\n",
       " '3-7 Yrs',\n",
       " '0-1 Yrs',\n",
       " '1-3 Yrs',\n",
       " '4-7 Yrs',\n",
       " '3-4 Yrs',\n",
       " '2-6 Yrs']"
      ]
     },
     "execution_count": 46,
     "metadata": {},
     "output_type": "execute_result"
    }
   ],
   "source": [
    "exp=driver.find_elements_by_xpath('//li[@class=\"fleft grey-text br2 placeHolderLi experience\"]')\n",
    "exp\n",
    "exp1=[]\n",
    "for i in exp:\n",
    "    exp1.append(i.text)\n",
    "exp1"
   ]
  },
  {
   "cell_type": "code",
   "execution_count": 50,
   "metadata": {},
   "outputs": [
    {
     "data": {
      "text/html": [
       "<div>\n",
       "<style scoped>\n",
       "    .dataframe tbody tr th:only-of-type {\n",
       "        vertical-align: middle;\n",
       "    }\n",
       "\n",
       "    .dataframe tbody tr th {\n",
       "        vertical-align: top;\n",
       "    }\n",
       "\n",
       "    .dataframe thead th {\n",
       "        text-align: right;\n",
       "    }\n",
       "</style>\n",
       "<table border=\"1\" class=\"dataframe\">\n",
       "  <thead>\n",
       "    <tr style=\"text-align: right;\">\n",
       "      <th></th>\n",
       "      <th>JOB TITLE</th>\n",
       "      <th>JOB LOCATION</th>\n",
       "      <th>COMPANY NAME</th>\n",
       "      <th>EXPERIENCE REQUIRED</th>\n",
       "    </tr>\n",
       "  </thead>\n",
       "  <tbody>\n",
       "    <tr>\n",
       "      <th>0</th>\n",
       "      <td>Business Data Analyst - Google Data Studio &amp; SQL</td>\n",
       "      <td>Bangalore/Bengaluru</td>\n",
       "      <td>AVE-Promagne</td>\n",
       "      <td>3-8 Yrs</td>\n",
       "    </tr>\n",
       "    <tr>\n",
       "      <th>1</th>\n",
       "      <td>Executive Data Analyst</td>\n",
       "      <td>Bangalore/Bengaluru</td>\n",
       "      <td>Gokaldas Exports Ltd</td>\n",
       "      <td>0-3 Yrs</td>\n",
       "    </tr>\n",
       "    <tr>\n",
       "      <th>2</th>\n",
       "      <td>Senior Data Analyst</td>\n",
       "      <td>Hyderabad/Secunderabad, Pune, Gurgaon/Gurugram...</td>\n",
       "      <td>Virtusa Consulting Services Pvt Ltd</td>\n",
       "      <td>8-12 Yrs</td>\n",
       "    </tr>\n",
       "    <tr>\n",
       "      <th>3</th>\n",
       "      <td>Data Analyst - I/II</td>\n",
       "      <td>Bangalore/Bengaluru</td>\n",
       "      <td>Philips India Limited</td>\n",
       "      <td>3-6 Yrs</td>\n",
       "    </tr>\n",
       "    <tr>\n",
       "      <th>4</th>\n",
       "      <td>Data Analyst</td>\n",
       "      <td>Bengaluru/Bangalore</td>\n",
       "      <td>IBM India Pvt. Limited</td>\n",
       "      <td>1-4 Yrs</td>\n",
       "    </tr>\n",
       "    <tr>\n",
       "      <th>5</th>\n",
       "      <td>Hiring For the role - DATA Analyst (Flipkart)</td>\n",
       "      <td>Bangalore/Bengaluru(Bellandur)\\n(WFH during Co...</td>\n",
       "      <td>Allegis Services India Pvt. Ltd.</td>\n",
       "      <td>1-6 Yrs</td>\n",
       "    </tr>\n",
       "    <tr>\n",
       "      <th>6</th>\n",
       "      <td>Hiring For the role - DATA Analyst (Flipkart)</td>\n",
       "      <td>Bangalore/Bengaluru(Bellandur)\\n(WFH during Co...</td>\n",
       "      <td>Allegis Services India Pvt. Ltd.</td>\n",
       "      <td>1-6 Yrs</td>\n",
       "    </tr>\n",
       "    <tr>\n",
       "      <th>7</th>\n",
       "      <td>Business Data Analyst - MIS &amp; Reporting</td>\n",
       "      <td>Mumbai, Bangalore/Bengaluru</td>\n",
       "      <td>INTERTRUST GROUP</td>\n",
       "      <td>3-8 Yrs</td>\n",
       "    </tr>\n",
       "    <tr>\n",
       "      <th>8</th>\n",
       "      <td>Senior Data Analyst</td>\n",
       "      <td>Bangalore/Bengaluru</td>\n",
       "      <td>Flipkart</td>\n",
       "      <td>2-3 Yrs</td>\n",
       "    </tr>\n",
       "    <tr>\n",
       "      <th>9</th>\n",
       "      <td>Senior Data Analyst</td>\n",
       "      <td>Bangalore/Bengaluru</td>\n",
       "      <td>Flipkart</td>\n",
       "      <td>3-8 Yrs</td>\n",
       "    </tr>\n",
       "  </tbody>\n",
       "</table>\n",
       "</div>"
      ],
      "text/plain": [
       "                                          JOB TITLE  \\\n",
       "0  Business Data Analyst - Google Data Studio & SQL   \n",
       "1                            Executive Data Analyst   \n",
       "2                               Senior Data Analyst   \n",
       "3                               Data Analyst - I/II   \n",
       "4                                      Data Analyst   \n",
       "5     Hiring For the role - DATA Analyst (Flipkart)   \n",
       "6     Hiring For the role - DATA Analyst (Flipkart)   \n",
       "7           Business Data Analyst - MIS & Reporting   \n",
       "8                               Senior Data Analyst   \n",
       "9                               Senior Data Analyst   \n",
       "\n",
       "                                        JOB LOCATION  \\\n",
       "0                                Bangalore/Bengaluru   \n",
       "1                                Bangalore/Bengaluru   \n",
       "2  Hyderabad/Secunderabad, Pune, Gurgaon/Gurugram...   \n",
       "3                                Bangalore/Bengaluru   \n",
       "4                                Bengaluru/Bangalore   \n",
       "5  Bangalore/Bengaluru(Bellandur)\\n(WFH during Co...   \n",
       "6  Bangalore/Bengaluru(Bellandur)\\n(WFH during Co...   \n",
       "7                        Mumbai, Bangalore/Bengaluru   \n",
       "8                                Bangalore/Bengaluru   \n",
       "9                                Bangalore/Bengaluru   \n",
       "\n",
       "                          COMPANY NAME EXPERIENCE REQUIRED  \n",
       "0                         AVE-Promagne             3-8 Yrs  \n",
       "1                 Gokaldas Exports Ltd             0-3 Yrs  \n",
       "2  Virtusa Consulting Services Pvt Ltd            8-12 Yrs  \n",
       "3                Philips India Limited             3-6 Yrs  \n",
       "4               IBM India Pvt. Limited             1-4 Yrs  \n",
       "5     Allegis Services India Pvt. Ltd.             1-6 Yrs  \n",
       "6     Allegis Services India Pvt. Ltd.             1-6 Yrs  \n",
       "7                     INTERTRUST GROUP             3-8 Yrs  \n",
       "8                             Flipkart             2-3 Yrs  \n",
       "9                             Flipkart             3-8 Yrs  "
      ]
     },
     "execution_count": 50,
     "metadata": {},
     "output_type": "execute_result"
    }
   ],
   "source": [
    "df=pd.DataFrame({})\n",
    "df['JOB TITLE']=job_title[:10]\n",
    "df['JOB LOCATION']=location[:10]\n",
    "df['COMPANY NAME']=compname[:10]\n",
    "df['EXPERIENCE REQUIRED']=exp1[:10]\n",
    "df\n"
   ]
  },
  {
   "cell_type": "markdown",
   "metadata": {},
   "source": [
    "Q2: Write a python program to scrape data for “Data Scientist” Job position in \n",
    "“Bangalore” location. You have to scrape the job-title, job-location,\n",
    "company_name, full job-description. You have to scrape first 10 jobs data."
   ]
  },
  {
   "cell_type": "code",
   "execution_count": 53,
   "metadata": {},
   "outputs": [],
   "source": [
    "# import libraries\n",
    "import selenium\n",
    "import pandas as pd\n",
    "from selenium import webdriver"
   ]
  },
  {
   "cell_type": "code",
   "execution_count": 2,
   "metadata": {},
   "outputs": [],
   "source": [
    "# web drvier\n",
    "driver=webdriver.Chrome(r\"C:\\Users\\dell\\Downloads\\chromedriver_win32\\chromedriver.exe\")"
   ]
  },
  {
   "cell_type": "code",
   "execution_count": 3,
   "metadata": {},
   "outputs": [],
   "source": [
    "# opening of web page through URL\n",
    "url=\"https://www.naukri.com/\"\n",
    "driver.get(url)\n"
   ]
  },
  {
   "cell_type": "code",
   "execution_count": 4,
   "metadata": {},
   "outputs": [
    {
     "data": {
      "text/plain": [
       "<selenium.webdriver.remote.webelement.WebElement (session=\"8fa5dac6f507d57f11be0d0e5377dcd5\", element=\"53eebd49-538f-40f4-b24e-46d0e2ee1f64\")>"
      ]
     },
     "execution_count": 4,
     "metadata": {},
     "output_type": "execute_result"
    }
   ],
   "source": [
    "search_job=driver.find_element_by_xpath('//input[@class=\"sugInp\"]')\n",
    "search_job"
   ]
  },
  {
   "cell_type": "code",
   "execution_count": 5,
   "metadata": {},
   "outputs": [],
   "source": [
    "search_job.send_keys(\"Data Scientist\")"
   ]
  },
  {
   "cell_type": "code",
   "execution_count": 6,
   "metadata": {},
   "outputs": [
    {
     "data": {
      "text/plain": [
       "<selenium.webdriver.remote.webelement.WebElement (session=\"8fa5dac6f507d57f11be0d0e5377dcd5\", element=\"5d6eb1c7-1ec9-4190-a805-a4fdd80d20bb\")>"
      ]
     },
     "execution_count": 6,
     "metadata": {},
     "output_type": "execute_result"
    }
   ],
   "source": [
    "search_loc=driver.find_element_by_id('qsb-location-sugg')\n",
    "search_loc\n"
   ]
  },
  {
   "cell_type": "code",
   "execution_count": 7,
   "metadata": {},
   "outputs": [],
   "source": [
    "search_loc.send_keys(\"Bangalore\")"
   ]
  },
  {
   "cell_type": "code",
   "execution_count": 9,
   "metadata": {},
   "outputs": [
    {
     "data": {
      "text/plain": [
       "<selenium.webdriver.remote.webelement.WebElement (session=\"8fa5dac6f507d57f11be0d0e5377dcd5\", element=\"861fecf4-e30c-4d94-bc4e-3690eb6c0e6c\")>"
      ]
     },
     "execution_count": 9,
     "metadata": {},
     "output_type": "execute_result"
    }
   ],
   "source": [
    "search_btn=driver.find_element_by_xpath('//button[@class=\"btn\"]')\n",
    "search_btn"
   ]
  },
  {
   "cell_type": "code",
   "execution_count": 10,
   "metadata": {},
   "outputs": [],
   "source": [
    "search_btn.click()"
   ]
  },
  {
   "cell_type": "code",
   "execution_count": 11,
   "metadata": {
    "collapsed": true
   },
   "outputs": [
    {
     "data": {
      "text/plain": [
       "[<selenium.webdriver.remote.webelement.WebElement (session=\"8fa5dac6f507d57f11be0d0e5377dcd5\", element=\"2d1f61cf-8eec-4377-8ff8-297712f23444\")>,\n",
       " <selenium.webdriver.remote.webelement.WebElement (session=\"8fa5dac6f507d57f11be0d0e5377dcd5\", element=\"a962827b-9e4d-4122-80f4-ca33d43de72e\")>,\n",
       " <selenium.webdriver.remote.webelement.WebElement (session=\"8fa5dac6f507d57f11be0d0e5377dcd5\", element=\"123106d5-c774-448f-8383-2c656c9a6083\")>,\n",
       " <selenium.webdriver.remote.webelement.WebElement (session=\"8fa5dac6f507d57f11be0d0e5377dcd5\", element=\"393efda2-47fe-44ef-8b84-502d7c6f8f5e\")>,\n",
       " <selenium.webdriver.remote.webelement.WebElement (session=\"8fa5dac6f507d57f11be0d0e5377dcd5\", element=\"127ce4ff-04c8-43f9-843b-74ed0b17db45\")>,\n",
       " <selenium.webdriver.remote.webelement.WebElement (session=\"8fa5dac6f507d57f11be0d0e5377dcd5\", element=\"d2e4fe3c-fc86-4d62-90f9-13834ca58302\")>,\n",
       " <selenium.webdriver.remote.webelement.WebElement (session=\"8fa5dac6f507d57f11be0d0e5377dcd5\", element=\"6df3c8d9-7925-4ee0-a04b-fcc826f64f9a\")>,\n",
       " <selenium.webdriver.remote.webelement.WebElement (session=\"8fa5dac6f507d57f11be0d0e5377dcd5\", element=\"a44198cf-b899-4eb6-8975-e56104b88ca7\")>,\n",
       " <selenium.webdriver.remote.webelement.WebElement (session=\"8fa5dac6f507d57f11be0d0e5377dcd5\", element=\"fead868b-9654-48f7-b54c-7d631c6b559f\")>,\n",
       " <selenium.webdriver.remote.webelement.WebElement (session=\"8fa5dac6f507d57f11be0d0e5377dcd5\", element=\"b79564c0-d90c-4f4e-9076-bb160311f440\")>,\n",
       " <selenium.webdriver.remote.webelement.WebElement (session=\"8fa5dac6f507d57f11be0d0e5377dcd5\", element=\"dedf74d4-6bca-491f-ba1a-54cf051ffb49\")>,\n",
       " <selenium.webdriver.remote.webelement.WebElement (session=\"8fa5dac6f507d57f11be0d0e5377dcd5\", element=\"be28673a-7502-4b86-a0ed-42bde1f852a0\")>,\n",
       " <selenium.webdriver.remote.webelement.WebElement (session=\"8fa5dac6f507d57f11be0d0e5377dcd5\", element=\"4e0a32b8-4d95-4980-bd57-46cdca92b051\")>,\n",
       " <selenium.webdriver.remote.webelement.WebElement (session=\"8fa5dac6f507d57f11be0d0e5377dcd5\", element=\"b016f94a-3331-4ccf-8977-facd99a094b5\")>,\n",
       " <selenium.webdriver.remote.webelement.WebElement (session=\"8fa5dac6f507d57f11be0d0e5377dcd5\", element=\"1b0cb01f-7709-4f60-8494-1ac8a96d1e2a\")>,\n",
       " <selenium.webdriver.remote.webelement.WebElement (session=\"8fa5dac6f507d57f11be0d0e5377dcd5\", element=\"87b3736e-7966-40db-82e0-f363c66ffb1c\")>,\n",
       " <selenium.webdriver.remote.webelement.WebElement (session=\"8fa5dac6f507d57f11be0d0e5377dcd5\", element=\"b4c4b051-3f5c-4f3c-b6d3-54ffa3bbee95\")>,\n",
       " <selenium.webdriver.remote.webelement.WebElement (session=\"8fa5dac6f507d57f11be0d0e5377dcd5\", element=\"3517382b-5c7b-4e4e-8284-849254619c39\")>,\n",
       " <selenium.webdriver.remote.webelement.WebElement (session=\"8fa5dac6f507d57f11be0d0e5377dcd5\", element=\"cbad8c58-15d2-4d28-9db6-c5a3cf5700db\")>,\n",
       " <selenium.webdriver.remote.webelement.WebElement (session=\"8fa5dac6f507d57f11be0d0e5377dcd5\", element=\"977dbe52-c69e-4573-b286-713c911b5167\")>]"
      ]
     },
     "execution_count": 11,
     "metadata": {},
     "output_type": "execute_result"
    }
   ],
   "source": [
    "title_tags=driver.find_elements_by_xpath('//a[@class=\"title fw500 ellipsis\"]')\n",
    "title_tags\n"
   ]
  },
  {
   "cell_type": "code",
   "execution_count": 12,
   "metadata": {},
   "outputs": [
    {
     "data": {
      "text/plain": [
       "['Lead Data Scientist BFSI',\n",
       " 'Data Scientist: Advanced Analytics',\n",
       " 'Senior Data Scientist',\n",
       " 'SENIOR DATA SCIENTIST',\n",
       " 'Requirement For Data Scientist - Mumbai & Bangalore',\n",
       " 'Hiring For Data Scientist / Statistical Analyst',\n",
       " 'Associate Data Scientist',\n",
       " 'Data Scientist',\n",
       " 'Data Scientist',\n",
       " 'Data Scientist',\n",
       " 'Data Scientist',\n",
       " 'Data Scientist',\n",
       " 'Cognitive Data Scientist',\n",
       " 'Senior Data Scientist, Payments compliance',\n",
       " 'Senior Data Scientist',\n",
       " 'Sr Data Scientist',\n",
       " 'Sr Data Scientist',\n",
       " 'Senior Data Scientist',\n",
       " 'Data Scientist (Python & SQL)',\n",
       " 'Lead Data Scientist BFSI']"
      ]
     },
     "execution_count": 12,
     "metadata": {},
     "output_type": "execute_result"
    }
   ],
   "source": [
    "job_title=[]\n",
    "for i in title_tags:\n",
    "    job_title.append(i.text)\n",
    "job_title"
   ]
  },
  {
   "cell_type": "code",
   "execution_count": 13,
   "metadata": {
    "collapsed": true
   },
   "outputs": [
    {
     "data": {
      "text/plain": [
       "[<selenium.webdriver.remote.webelement.WebElement (session=\"8fa5dac6f507d57f11be0d0e5377dcd5\", element=\"fbe89c94-fe45-42d3-aaee-8f5ab872f50c\")>,\n",
       " <selenium.webdriver.remote.webelement.WebElement (session=\"8fa5dac6f507d57f11be0d0e5377dcd5\", element=\"503014b4-fa70-4617-aa1f-e224bf028bbe\")>,\n",
       " <selenium.webdriver.remote.webelement.WebElement (session=\"8fa5dac6f507d57f11be0d0e5377dcd5\", element=\"a3a4958f-77e4-4a59-b8d7-65e2ee4aa427\")>,\n",
       " <selenium.webdriver.remote.webelement.WebElement (session=\"8fa5dac6f507d57f11be0d0e5377dcd5\", element=\"a91f9ded-a068-4a1a-8006-b02a017d2fcf\")>,\n",
       " <selenium.webdriver.remote.webelement.WebElement (session=\"8fa5dac6f507d57f11be0d0e5377dcd5\", element=\"620ebb54-74b2-448d-ac0d-26d021ff8a49\")>,\n",
       " <selenium.webdriver.remote.webelement.WebElement (session=\"8fa5dac6f507d57f11be0d0e5377dcd5\", element=\"3aaa5404-73cc-4d09-92f4-6fa503fadbc0\")>,\n",
       " <selenium.webdriver.remote.webelement.WebElement (session=\"8fa5dac6f507d57f11be0d0e5377dcd5\", element=\"93627f4e-7ce5-446c-9839-24bc3ccfdf5d\")>,\n",
       " <selenium.webdriver.remote.webelement.WebElement (session=\"8fa5dac6f507d57f11be0d0e5377dcd5\", element=\"efde344b-b7d8-4c8c-8841-1a021239fd8c\")>,\n",
       " <selenium.webdriver.remote.webelement.WebElement (session=\"8fa5dac6f507d57f11be0d0e5377dcd5\", element=\"3b4dea0f-0bd6-4da7-bc5f-b801ec9226c0\")>,\n",
       " <selenium.webdriver.remote.webelement.WebElement (session=\"8fa5dac6f507d57f11be0d0e5377dcd5\", element=\"2502588a-160e-47c8-89b9-4513b223988f\")>,\n",
       " <selenium.webdriver.remote.webelement.WebElement (session=\"8fa5dac6f507d57f11be0d0e5377dcd5\", element=\"e6d4284a-314b-48b5-bc6f-0225ed00238f\")>,\n",
       " <selenium.webdriver.remote.webelement.WebElement (session=\"8fa5dac6f507d57f11be0d0e5377dcd5\", element=\"869b2fd6-cfaa-411b-8441-29c3f50f6d47\")>,\n",
       " <selenium.webdriver.remote.webelement.WebElement (session=\"8fa5dac6f507d57f11be0d0e5377dcd5\", element=\"4045a3dc-87b6-4954-9199-f9437c701f41\")>,\n",
       " <selenium.webdriver.remote.webelement.WebElement (session=\"8fa5dac6f507d57f11be0d0e5377dcd5\", element=\"4ef0e607-5dff-4176-937b-1b2b425d761c\")>,\n",
       " <selenium.webdriver.remote.webelement.WebElement (session=\"8fa5dac6f507d57f11be0d0e5377dcd5\", element=\"9e1b4892-34cb-4114-92ef-49c717196bf8\")>,\n",
       " <selenium.webdriver.remote.webelement.WebElement (session=\"8fa5dac6f507d57f11be0d0e5377dcd5\", element=\"ee7f6a1d-be6e-45dd-ade0-a2028f5ad6f8\")>,\n",
       " <selenium.webdriver.remote.webelement.WebElement (session=\"8fa5dac6f507d57f11be0d0e5377dcd5\", element=\"24bcf13b-e408-4eb3-9315-0b2b972be882\")>,\n",
       " <selenium.webdriver.remote.webelement.WebElement (session=\"8fa5dac6f507d57f11be0d0e5377dcd5\", element=\"8f04df9d-0945-4a63-85d6-de62a9f741b5\")>,\n",
       " <selenium.webdriver.remote.webelement.WebElement (session=\"8fa5dac6f507d57f11be0d0e5377dcd5\", element=\"b4a851f8-527b-4d78-a65f-10059fb935ee\")>,\n",
       " <selenium.webdriver.remote.webelement.WebElement (session=\"8fa5dac6f507d57f11be0d0e5377dcd5\", element=\"1f58677b-a291-4c85-8225-8bcd8f14e84e\")>]"
      ]
     },
     "execution_count": 13,
     "metadata": {},
     "output_type": "execute_result"
    }
   ],
   "source": [
    "company_name=driver.find_elements_by_xpath('//a[@class=\"subTitle ellipsis fleft\"]')\n",
    "company_name"
   ]
  },
  {
   "cell_type": "code",
   "execution_count": 14,
   "metadata": {},
   "outputs": [
    {
     "data": {
      "text/plain": [
       "['IBM India Pvt. Limited',\n",
       " 'IBM India Pvt. Limited',\n",
       " 'Airbnb',\n",
       " 'Happiest Minds Technologies Pvt.Ltd',\n",
       " 'CRISIL LIMITED',\n",
       " 'ManpowerGroup Services India Private Limited',\n",
       " 'Philips India Limited',\n",
       " 'NeenOpal Intelligent Solutions Private Limited',\n",
       " 'PRESCIENCE DECISION SOLUTIONS PRIVATE LIMITED',\n",
       " 'ELPIS IT SOLUTIONS PVT LTD',\n",
       " 'ELPIS IT SOLUTIONS PVT LTD',\n",
       " 'Oracle India Pvt. Ltd.',\n",
       " 'IBM India Pvt. Limited',\n",
       " 'AIRBNB GLOBAL CAPABILITY CENTER PRIVATE LIMITED',\n",
       " 'ANT work',\n",
       " 'IBM India Pvt. Limited',\n",
       " 'IBM India Pvt. Limited',\n",
       " 'Philips India Limited',\n",
       " 'AVE-Promagne',\n",
       " 'IBM India Pvt. Limited']"
      ]
     },
     "execution_count": 14,
     "metadata": {},
     "output_type": "execute_result"
    }
   ],
   "source": [
    "compname=[]\n",
    "for i in company_name:\n",
    "    compname.append(i.text)\n",
    "compname"
   ]
  },
  {
   "cell_type": "code",
   "execution_count": 15,
   "metadata": {
    "collapsed": true
   },
   "outputs": [
    {
     "data": {
      "text/plain": [
       "[<selenium.webdriver.remote.webelement.WebElement (session=\"8fa5dac6f507d57f11be0d0e5377dcd5\", element=\"d76fdf59-4856-4bee-b5d2-b83238775ad3\")>,\n",
       " <selenium.webdriver.remote.webelement.WebElement (session=\"8fa5dac6f507d57f11be0d0e5377dcd5\", element=\"76e0bde3-7baa-4814-831f-5487edf80619\")>,\n",
       " <selenium.webdriver.remote.webelement.WebElement (session=\"8fa5dac6f507d57f11be0d0e5377dcd5\", element=\"a4feac0a-54b9-4a3b-8e89-1c386f49d5a7\")>,\n",
       " <selenium.webdriver.remote.webelement.WebElement (session=\"8fa5dac6f507d57f11be0d0e5377dcd5\", element=\"fdcae251-79cd-4ceb-8b65-8428725e74af\")>,\n",
       " <selenium.webdriver.remote.webelement.WebElement (session=\"8fa5dac6f507d57f11be0d0e5377dcd5\", element=\"076276b2-90b0-47cf-8e70-69ed0128ea28\")>,\n",
       " <selenium.webdriver.remote.webelement.WebElement (session=\"8fa5dac6f507d57f11be0d0e5377dcd5\", element=\"32c63a78-1f90-4b9f-88c1-ae364a4404dd\")>,\n",
       " <selenium.webdriver.remote.webelement.WebElement (session=\"8fa5dac6f507d57f11be0d0e5377dcd5\", element=\"1cbae4ac-b7ad-429b-a8c5-fb2eb8388f91\")>,\n",
       " <selenium.webdriver.remote.webelement.WebElement (session=\"8fa5dac6f507d57f11be0d0e5377dcd5\", element=\"3b988ec7-5cd3-4b2f-97ca-b7514fccf7ff\")>,\n",
       " <selenium.webdriver.remote.webelement.WebElement (session=\"8fa5dac6f507d57f11be0d0e5377dcd5\", element=\"567b8091-7d11-4a10-ae1c-6a3208d7f482\")>,\n",
       " <selenium.webdriver.remote.webelement.WebElement (session=\"8fa5dac6f507d57f11be0d0e5377dcd5\", element=\"e2f669b6-7277-43c5-a99d-52cd810a1f24\")>,\n",
       " <selenium.webdriver.remote.webelement.WebElement (session=\"8fa5dac6f507d57f11be0d0e5377dcd5\", element=\"e111c6aa-3a6d-42df-a365-162dc94ee0ea\")>,\n",
       " <selenium.webdriver.remote.webelement.WebElement (session=\"8fa5dac6f507d57f11be0d0e5377dcd5\", element=\"96e0302c-97eb-4b90-853c-7742a2817a2d\")>,\n",
       " <selenium.webdriver.remote.webelement.WebElement (session=\"8fa5dac6f507d57f11be0d0e5377dcd5\", element=\"8b2f0018-915a-47ef-89bf-86f11887197e\")>,\n",
       " <selenium.webdriver.remote.webelement.WebElement (session=\"8fa5dac6f507d57f11be0d0e5377dcd5\", element=\"0ca7173c-67e3-49d9-9f5f-a8c1c2887100\")>,\n",
       " <selenium.webdriver.remote.webelement.WebElement (session=\"8fa5dac6f507d57f11be0d0e5377dcd5\", element=\"11ab5780-baf2-43c8-8057-ca25c0bd7ac9\")>,\n",
       " <selenium.webdriver.remote.webelement.WebElement (session=\"8fa5dac6f507d57f11be0d0e5377dcd5\", element=\"8698e374-f613-45aa-94be-d6861d8702e6\")>,\n",
       " <selenium.webdriver.remote.webelement.WebElement (session=\"8fa5dac6f507d57f11be0d0e5377dcd5\", element=\"052755ac-2d4c-402f-a897-46d0914abd0c\")>,\n",
       " <selenium.webdriver.remote.webelement.WebElement (session=\"8fa5dac6f507d57f11be0d0e5377dcd5\", element=\"4417a0ec-db1e-4081-a3ca-bfc6c15eaef7\")>,\n",
       " <selenium.webdriver.remote.webelement.WebElement (session=\"8fa5dac6f507d57f11be0d0e5377dcd5\", element=\"1e3a02e6-29e8-418d-840e-161286295547\")>,\n",
       " <selenium.webdriver.remote.webelement.WebElement (session=\"8fa5dac6f507d57f11be0d0e5377dcd5\", element=\"a8a3902d-53b0-4023-b476-ed41067603ef\")>]"
      ]
     },
     "execution_count": 15,
     "metadata": {},
     "output_type": "execute_result"
    }
   ],
   "source": [
    "loc=driver.find_elements_by_xpath('//li[@class=\"fleft grey-text br2 placeHolderLi location\"]')\n",
    "loc"
   ]
  },
  {
   "cell_type": "code",
   "execution_count": 16,
   "metadata": {},
   "outputs": [
    {
     "data": {
      "text/plain": [
       "['Bengaluru/Bangalore',\n",
       " 'Bengaluru/Bangalore',\n",
       " 'Bangalore/Bengaluru',\n",
       " 'Bangalore/Bengaluru',\n",
       " 'Bangalore/Bengaluru, Mumbai (All Areas)',\n",
       " 'Bangalore/Bengaluru',\n",
       " 'Bangalore/Bengaluru',\n",
       " 'Bangalore/Bengaluru\\n(WFH during Covid)',\n",
       " 'Bangalore/Bengaluru\\n(WFH during Covid)',\n",
       " 'Bangalore/Bengaluru',\n",
       " 'Bangalore/Bengaluru',\n",
       " 'Noida, Bangalore/Bengaluru',\n",
       " 'Bengaluru/Bangalore',\n",
       " 'Bangalore/Bengaluru',\n",
       " 'Bangalore/Bengaluru',\n",
       " 'Bengaluru/Bangalore',\n",
       " 'Bangalore/Bengaluru',\n",
       " 'Bangalore/Bengaluru',\n",
       " 'Hyderabad/Secunderabad, Chennai, Bangalore/Bengaluru',\n",
       " 'Bengaluru/Bangalore']"
      ]
     },
     "execution_count": 16,
     "metadata": {},
     "output_type": "execute_result"
    }
   ],
   "source": [
    "location=[]\n",
    "for i in loc:\n",
    "    location.append(i.text)\n",
    "location"
   ]
  },
  {
   "cell_type": "code",
   "execution_count": 17,
   "metadata": {
    "collapsed": true
   },
   "outputs": [
    {
     "data": {
      "text/plain": [
       "[<selenium.webdriver.remote.webelement.WebElement (session=\"8fa5dac6f507d57f11be0d0e5377dcd5\", element=\"d654771a-4b93-4d39-87ea-ae056542fdba\")>,\n",
       " <selenium.webdriver.remote.webelement.WebElement (session=\"8fa5dac6f507d57f11be0d0e5377dcd5\", element=\"53757816-bee1-437d-a3e2-fd2be6eb6937\")>,\n",
       " <selenium.webdriver.remote.webelement.WebElement (session=\"8fa5dac6f507d57f11be0d0e5377dcd5\", element=\"02994fcf-abf4-48cf-975d-b2356a3ed76f\")>,\n",
       " <selenium.webdriver.remote.webelement.WebElement (session=\"8fa5dac6f507d57f11be0d0e5377dcd5\", element=\"b2f86316-fbe9-427e-8996-777f9faea58a\")>,\n",
       " <selenium.webdriver.remote.webelement.WebElement (session=\"8fa5dac6f507d57f11be0d0e5377dcd5\", element=\"653a816f-b4af-4ff9-80bd-79e7a1a88b8c\")>,\n",
       " <selenium.webdriver.remote.webelement.WebElement (session=\"8fa5dac6f507d57f11be0d0e5377dcd5\", element=\"5b53e79a-9236-4c91-9bde-c7c259067d95\")>,\n",
       " <selenium.webdriver.remote.webelement.WebElement (session=\"8fa5dac6f507d57f11be0d0e5377dcd5\", element=\"11b25241-3258-4622-89e1-d6b87b749868\")>,\n",
       " <selenium.webdriver.remote.webelement.WebElement (session=\"8fa5dac6f507d57f11be0d0e5377dcd5\", element=\"0560d41b-1811-42a9-83be-8d3a72875ecc\")>,\n",
       " <selenium.webdriver.remote.webelement.WebElement (session=\"8fa5dac6f507d57f11be0d0e5377dcd5\", element=\"a89660e3-2105-4ade-ac5e-6980b366a3f4\")>,\n",
       " <selenium.webdriver.remote.webelement.WebElement (session=\"8fa5dac6f507d57f11be0d0e5377dcd5\", element=\"5555a580-3d06-4779-b7dd-7d0e3b699ab2\")>,\n",
       " <selenium.webdriver.remote.webelement.WebElement (session=\"8fa5dac6f507d57f11be0d0e5377dcd5\", element=\"7def4168-54fe-4fde-a60b-ec7fdba09acc\")>,\n",
       " <selenium.webdriver.remote.webelement.WebElement (session=\"8fa5dac6f507d57f11be0d0e5377dcd5\", element=\"ad74374b-58bf-47c9-b771-1f19bb40e084\")>,\n",
       " <selenium.webdriver.remote.webelement.WebElement (session=\"8fa5dac6f507d57f11be0d0e5377dcd5\", element=\"d71cba4a-80f7-4d73-afa6-0866b8fb330f\")>,\n",
       " <selenium.webdriver.remote.webelement.WebElement (session=\"8fa5dac6f507d57f11be0d0e5377dcd5\", element=\"8c119f83-6ccc-4805-b35c-de5f72c4077b\")>,\n",
       " <selenium.webdriver.remote.webelement.WebElement (session=\"8fa5dac6f507d57f11be0d0e5377dcd5\", element=\"541e421a-545d-47cc-9861-f23d8b175599\")>,\n",
       " <selenium.webdriver.remote.webelement.WebElement (session=\"8fa5dac6f507d57f11be0d0e5377dcd5\", element=\"4b364b4d-1538-46f0-ae60-c115b1925d08\")>,\n",
       " <selenium.webdriver.remote.webelement.WebElement (session=\"8fa5dac6f507d57f11be0d0e5377dcd5\", element=\"53f2c2ce-50bd-4d1c-9dd1-742875f514bf\")>,\n",
       " <selenium.webdriver.remote.webelement.WebElement (session=\"8fa5dac6f507d57f11be0d0e5377dcd5\", element=\"2d8aa7d6-c96e-47bb-a781-85bd81e98bc0\")>,\n",
       " <selenium.webdriver.remote.webelement.WebElement (session=\"8fa5dac6f507d57f11be0d0e5377dcd5\", element=\"e39ec6dd-5cb5-4b04-9877-a4cff70e571b\")>,\n",
       " <selenium.webdriver.remote.webelement.WebElement (session=\"8fa5dac6f507d57f11be0d0e5377dcd5\", element=\"614590c5-83a6-420d-afe1-83815dc04f6c\")>]"
      ]
     },
     "execution_count": 17,
     "metadata": {},
     "output_type": "execute_result"
    }
   ],
   "source": [
    "exp=driver.find_elements_by_xpath('//li[@class=\"fleft grey-text br2 placeHolderLi experience\"]')\n",
    "exp"
   ]
  },
  {
   "cell_type": "code",
   "execution_count": 18,
   "metadata": {},
   "outputs": [
    {
     "data": {
      "text/plain": [
       "['5-9 Yrs',\n",
       " '3-7 Yrs',\n",
       " '7-12 Yrs',\n",
       " '5-10 Yrs',\n",
       " '2-6 Yrs',\n",
       " '2-4 Yrs',\n",
       " '3-5 Yrs',\n",
       " '2-5 Yrs',\n",
       " '5-10 Yrs',\n",
       " '3-8 Yrs',\n",
       " '3-8 Yrs',\n",
       " '5-9 Yrs',\n",
       " '3-7 Yrs',\n",
       " '4-9 Yrs',\n",
       " '9-14 Yrs',\n",
       " '6-8 Yrs',\n",
       " '6-8 Yrs',\n",
       " '8-10 Yrs',\n",
       " '6-8 Yrs',\n",
       " '7-9 Yrs']"
      ]
     },
     "execution_count": 18,
     "metadata": {},
     "output_type": "execute_result"
    }
   ],
   "source": [
    "# extracting experiance details in array\n",
    "exp1=[]\n",
    "for i in exp:\n",
    "    exp1.append(i.text)\n",
    "exp1"
   ]
  },
  {
   "cell_type": "code",
   "execution_count": 19,
   "metadata": {
    "collapsed": true
   },
   "outputs": [
    {
     "data": {
      "text/plain": [
       "['https://www.naukri.com/job-listings-lead-data-scientist-bfsi-ibm-india-pvt-limited-bengaluru-bangalore-5-to-9-years-070921901691?src=jobsearchDesk&sid=16311945490076495&xp=1&px=1',\n",
       " 'https://www.naukri.com/job-listings-data-scientist-advanced-analytics-ibm-india-pvt-limited-bengaluru-bangalore-3-to-7-years-070921901677?src=jobsearchDesk&sid=16311945490076495&xp=2&px=1',\n",
       " 'https://www.naukri.com/job-listings-senior-data-scientist-airbnb-bangalore-bengaluru-7-to-12-years-080921500017?src=jobsearchDesk&sid=16311945490076495&xp=3&px=1',\n",
       " 'https://www.naukri.com/job-listings-senior-data-scientist-happiest-minds-technologies-pvt-ltd-bangalore-bengaluru-5-to-10-years-070921501517?src=jobsearchDesk&sid=16311945490076495&xp=4&px=1',\n",
       " 'https://www.naukri.com/job-listings-requirement-for-data-scientist-mumbai-bangalore-crisil-limited-bangalore-bengaluru-mumbai-all-areas-2-to-6-years-080921005523?src=jobsearchDesk&sid=16311945490076495&xp=5&px=1',\n",
       " 'https://www.naukri.com/job-listings-hiring-for-data-scientist-statistical-analyst-manpowergroup-services-india-private-limited-bangalore-bengaluru-2-to-4-years-080921011029?src=jobsearchDesk&sid=16311945490076495&xp=6&px=1',\n",
       " 'https://www.naukri.com/job-listings-associate-data-scientist-philips-india-limited-bangalore-bengaluru-3-to-5-years-060921501985?src=jobsearchDesk&sid=16311945490076495&xp=7&px=1',\n",
       " 'https://www.naukri.com/job-listings-data-scientist-neenopal-intelligent-solutions-private-limited-bangalore-bengaluru-2-to-5-years-080921006998?src=jobsearchDesk&sid=16311945490076495&xp=8&px=1',\n",
       " 'https://www.naukri.com/job-listings-data-scientist-prescience-decision-solutions-private-limited-bangalore-bengaluru-5-to-10-years-080921005624?src=jobsearchDesk&sid=16311945490076495&xp=9&px=1',\n",
       " 'https://www.naukri.com/job-listings-data-scientist-elpis-it-solutions-pvt-ltd-bangalore-bengaluru-3-to-8-years-070921602158?src=jobsearchDesk&sid=16311945490076495&xp=10&px=1',\n",
       " 'https://www.naukri.com/job-listings-data-scientist-elpis-it-solutions-pvt-ltd-bangalore-bengaluru-3-to-8-years-070921002157?src=jobsearchDesk&sid=16311945490076495&xp=11&px=1',\n",
       " 'https://www.naukri.com/job-listings-data-scientist-oracle-india-pvt-ltd-noida-bangalore-bengaluru-5-to-9-years-010621004567?src=jobsearchDesk&sid=16311945490076495&xp=12&px=1',\n",
       " 'https://www.naukri.com/job-listings-cognitive-data-scientist-ibm-india-pvt-limited-bengaluru-bangalore-3-to-7-years-030921904668?src=jobsearchDesk&sid=16311945490076495&xp=13&px=1',\n",
       " 'https://www.naukri.com/job-listings-senior-data-scientist-payments-compliance-airbnb-global-capability-center-private-limited-bangalore-bengaluru-4-to-9-years-020921903258?src=jobsearchDesk&sid=16311945490076495&xp=14&px=1',\n",
       " 'https://www.naukri.com/job-listings-senior-data-scientist-ant-work-bangalore-bengaluru-9-to-14-years-020921501606?src=jobsearchDesk&sid=16311945490076495&xp=15&px=1',\n",
       " 'https://www.naukri.com/job-listings-sr-data-scientist-ibm-india-pvt-limited-bengaluru-bangalore-6-to-8-years-010921906637?src=jobsearchDesk&sid=16311945490076495&xp=16&px=1',\n",
       " 'https://www.naukri.com/job-listings-sr-data-scientist-ibm-india-pvt-limited-bangalore-bengaluru-6-to-8-years-010921906105?src=jobsearchDesk&sid=16311945490076495&xp=17&px=1',\n",
       " 'https://www.naukri.com/job-listings-senior-data-scientist-philips-india-limited-bangalore-bengaluru-8-to-10-years-250821500891?src=jobsearchDesk&sid=16311945490076495&xp=18&px=1',\n",
       " 'https://www.naukri.com/job-listings-data-scientist-python-sql-ave-promagne-hyderabad-secunderabad-chennai-bangalore-bengaluru-6-to-8-years-060921904967?src=jobsearchDesk&sid=16311945490076495&xp=19&px=1',\n",
       " 'https://www.naukri.com/job-listings-lead-data-scientist-bfsi-ibm-india-pvt-limited-bengaluru-bangalore-7-to-9-years-280821904112?src=jobsearchDesk&sid=16311945490076495&xp=20&px=1']"
      ]
     },
     "execution_count": 19,
     "metadata": {},
     "output_type": "execute_result"
    }
   ],
   "source": [
    "# Now we'll extract the JDs (Job Descriptions). For this we'll extract the web elements.\n",
    "\n",
    "jd_urls = []\n",
    "\n",
    "urls = driver.find_elements_by_xpath('//a[@class=\"title fw500 ellipsis\"]')\n",
    "\n",
    "for u in urls:\n",
    "    jd_urls.append(u.get_attribute('href'))\n",
    "    \n",
    "jd_urls"
   ]
  },
  {
   "cell_type": "code",
   "execution_count": 21,
   "metadata": {},
   "outputs": [
    {
     "data": {
      "text/plain": [
       "['--',\n",
       " '--',\n",
       " 'Job descriptionResponsibilities include:Defining and evaluating key metrics and understanding what moves them and whyOwnership of conceptualizing, developing, and maintaining dashboards and visualizationsInvestigating evolving fraud trends to extract patterns, identify root causes and propose actionable solutionsCommunicating analyses and recommendations to cross functional stakeholders for decision makingEmpowering the team to answer data questions quickly and easily by building high-quality ground truth data setsHere are example traits we value:Professional industry experience in a quantitative analysis role (7+ years preferred)Comfortable in SQL and some experience with a programming language (Python or R a plus)Ability to communicate clearly and effectively to cross functional partners of varying technical levelsAbility to define relevant metrics that can guide and influence stakeholders to the appropriate and accurate insightsExperience or willingness to learn tools to create data pipelines using AirflowBuilding clear and easy to understand dashboards (Tableau) and presentationsRoleGraphic/Web DesignerIndustry TypeInternetFunctional AreaIT Software - DBA, DatawarehousingEmployment TypeFull Time, PermanentRole CategoryProgramming & DesignEducationUG :Any GraduatePG :Any PostgraduateKey SkillsData ScienceRData ScientistTableauPythonSql',\n",
       " 'Job description  SkillsRequired Skills: Data Science, Machine Learning, Deep Learning, Python, NLPDesired Skills: Computer VisionRoles and responsibilitiesExperience in Data Modelling, R, Python, SQL, Data Science, Machine Learning, Deep Learning, NLP, StatisticsHave ability to solve Business problems using DataShould possess extensive knowledge of and experience in applying data mining and machine learning techniques on large amount of datasetsHigh level of proficiency in statistical tools like R, PythonCandidate will be expected to communicate analytical results in a way that is meaningful for business stakeholders and provides actionable insights.Have the ability to discover new opportunities where advanced analytical techniques can be leveraged for solving business problemsGood to HaveExpertise in programming languages like Java/C/C /PythonExperience with relational databases and SQL is good to haveExperience in audio and video analyticsRelevant experience in Big Data platforms like Hadoop eco-systemCome up with innovative algorithms and solutionsStaffing Type:PermanentRoleClinical Research Associate/ScientistIndustry TypeIT Services & ConsultingFunctional AreaMedical, Healthcare, R&D, Pharmaceuticals, BiotechnologyEmployment TypeFull Time, PermanentRole CategoryR&DEducationUG :Any GraduatePG :Any PostgraduateKey SkillsHospitalityNSEStaffingBfsiAnalyticalAgileData miningAnalyticsAutomotiveSQL',\n",
       " '--',\n",
       " '--',\n",
       " 'Job descriptionUse predictive modeling to increase and optimize customer experiences, revenue generation, campaign optimization and other business outcomesWork with product management to develop data use cases and embed predictive models in workflows on resource constrained platforms and cloud enabled.Selecting features, building and optimizing classifiers using machine learning and deep learning techniquesCollaborates with Data Engineers to enhance data collection and ingestion/curation techniques to include information that is relevant for building analytic systemsProcessing, cleansing, and verifying the integrity of data used for analysisDevelop processes and tools to monitor and analyze model performance and data accuracy. Life cycle management of predictive models.Adherence to compliance procedures in accordance with regulatory standards, requirements, and policies. Managing and designing the reporting environment, including data sources security, and metadata.Job Qualifications:Master s degree or PhD in Computer Science, Information management, Statistics or related field, with 3 to 5 years of experience in the Consumer or Healthcare industry manipulating data sets and building predictive models with focus on product developmentExperience in statistical modelling, machine learning, data mining, unstructured data analytics and natural language processing. Sound understanding of - Bayesian Modelling, Classification Models, Cluster Analysis, Neural Network, Nonparametric Methods, Multivariate Statistics, etc.Strong hands on knowledge of ML techniques like regression algorithms, K-NN, Na ve Bayes, SVM and ensemble techniques like Random forest, AdaBoost etcHaving strong knowledge in unsupervised learning algorithms using Neural networks and Deep-LearningStrong knowledge in Data Wrangling and Exploration techniques to identify the patterns, trends and outliners.Deep knowledge and practical experience with data science toolkits, such as NumPy, Pandas, scikit-learn or equivalentExperience with data visualization tools, such as QlikView, Matplotlib, seaborn or equivalent tools.Proficiency in using query languages, such as SQL, PL/SQLHands on experience in the one or more databases like Hadoop, AWS Redshift, Snowflake etc.Good applied statistics skills, such as distributions, statistical testing, regression, etc.Good ETL scripting and programming skills, such as Python, R or Scala to integrate developed solution into the proposition.A team player capable of working and integrating across cross-functional team for implementing project requirements. Experience in technical requirements gathering and documentation.Ability to work effectively and independently in a fast-paced global collaborative agile team environment with tight deadlinesA flexible, pragmatic and collaborative team player with innate ability to engage with stakeholders at all levels in the organization.A self-starter with high levels of drive, energy, resilience and a desire for professional excellence with a passion for data and data scienceRoleClinical Research Associate/ScientistIndustry TypeMedical Services / HospitalFunctional AreaMedical, Healthcare, R&D, Pharmaceuticals, BiotechnologyEmployment TypeFull Time, PermanentRole CategoryR&DEducationUG :Any GraduatePG :Post Graduation Not RequiredKey SkillsProduct managementComputer sciencemetadataMachine learningAgilePLSQLHealthcareQlikViewData miningPython',\n",
       " 'Job descriptionRoles and ResponsibilitiesWe are looking for someone who would be responsible for analyzing data and providing business insights. As a Data Scientist your responsibilities will include understanding the business problem and experimenting with different modelling architectures to create the best possible setup from model performance as well as computational performance. To do this job successfully, you need exceptional skills in Machine Learning and Programming. Your ultimate goal will be to find the best data-based solution for the problem at hand.Moreover, you are expected to learn fast and deliver quickly in a fast-paced startup environment. If you thrive on ambiguity and are a problem solver and yet deliver value to clients, feel free to reach out to us.We are looking ONLY FOR SELF DRIVEN INDIVIDUALS with a desire to excel in Data Science Domain.Understanding business objectives and developing models that help to achieve them, along with metrics to track their progressDevelop and maintain robust data processing pipelines and reproducible modeling pipelinesBuild mathematical models to solve various problems ranging from Time Series forecasting to Neural Networks and ensure seamless deployment in production pipelines.Analyze experimental results, iterate and refine models to create significant business impactFollow strict coding standards and other software engineering best practicesDesired Candidate ProfileProven experience as a Data Scientist or similar roleStrong SQL, R/Python SkillsShould have familiarity with Machine Learning Models and fundamentals in Forecasting and Optimization TechniquesShould have strong mathematical background & analytical bent of mindStrong Problem-Solving AbilityAbility to communicate well in a highly collaborative team environment, consisting of both technical and non-technical personnelReliable self-starter that is capable of working with a high degree of autonomyPerks and BenefitsNeenOpal is a global management consulting firm with a unique and specialized focus on Data Science.We provide services across the whole value chain of an organization - Digital Strategy, Sales & Marketing, Supply Chain & Logistics as well as Finance. Youll have a blast doing it in our fun, passionate environment.RoleData scientistIndustry TypeManagement ConsultingFunctional AreaIT Software - OtherEmployment TypeFull Time, PermanentRole CategoryNot mentionedEducationUG :Any GraduatePG :Any PostgraduateKey SkillsData SciencePythonSQLExcelSoftware EngineeringProblem SolvingNeural NetworksTime SeriesData AnalysisBusiness InsightsData ProcessingMachine LearningSkills highlighted with ‘‘ are preferred keyskills',\n",
       " 'Job descriptionHi,We at Prescience www.prescienceds.com looking for Data Scientist @ Bangalore .Roles and ResponsibilitiesAs a Data Scientist you will be working with senior management of clients to understand the business requirements, define right problem statement and come up with a framework for the solution. You will also work on the solution and at time guide a small team to deliver the same. Part of job role would be develop products in the area of Natural Language Processing, Conversational Interfaces, Text Mining etc.Desired Candidate ProfileWhat we are looking for:Good applied statistics skills, such as distributions, statistical testing, regression, etc. Experience in Natural Language Processing, Computer Vision. Exposure to common data science business problems like clustering, classification, anomaly detection, prediction etc.Good understanding of machine learning techniques and algorithmsExperience with common data science toolkits Python, R, SASProficiency in using query languages such as SQL, Hive, etc Experience with NoSQL database, SQL Server, PostgreSQL, MongoDBGreat communication skillsData-oriented personality and excellent business analysis skillsExperience in solutioning for data science related problems, work with business stakeholders to define right problem statement and solution.Open to professionals who have data analytics / BI background and then moved to Data Scientist roles.Perks and BenefitsRoleOtherIndustry TypeIT Services & ConsultingFunctional AreaAnalytics & Business IntelligenceEmployment TypeFull Time, PermanentRole CategoryOtherEducationUG :Any GraduateKey SkillsTensorflowPostgreSQLNatural Language ProcessingNeural NetworksMachine LearningStatisticsSQLData ScienceAnomaly DetectionPytorchRNLPMongoDBQlikViewComputer VisionData AnalyticsPython',\n",
       " 'Job descriptionRoles and ResponsibilitiesJob Description:Develop data powered insights deriving from distributed, real time streaming applications, and develop AI systems leveraging on such data powered insights.Looking for candidates with passion and energy to work in a high energy team with entrepreneurial culture: Self starter attitude, quick learning aptitude, passion and willingness to deliver on time with quality.Job Skills Required:Expert data science skills using supervised and unsupervised learning. Deep learning.Compute: Spark/Storm/NiFi/Flink/Redis, or other.Visualization: Banana UI, Kibana, or other,Tools: H2O, TensorFlow, Mlib, Scikit, Keras or other.Messaging: Kafka, RabbitMQ, or other.Strong Analytical and Math/Statistics skills.Qualification :M.Tech/M.E./M.S. in Computer Science, Engineering or a related field, preferably with a concentration, major or minor in Data Science or Machine Learning. PhD would be added advantage.Desired Candidate ProfileDesirable s that would strengthen candidacy: Proven track record from public competitions such as from Kagel, Analytics Vidya, etc. Expertise in one or more high level programming languages such as Java, Scala, Python, Go, Erlang, etc.Expertise in developing scalable applications in a distributed environment.Strong SQL or NoSQL skills with one or more open source DBMS such as MySql, MongoDB, Cassandra.Expertise in containerized environments on private or public clouds - Aws Azure, etc.RoleSoftware DeveloperIndustry TypeIT Services & ConsultingFunctional AreaIT Software - Application Programming, MaintenanceEmployment TypeFull Time, Temporary/ContractualRole CategoryProgramming & DesignEducationUG :Any GraduatePG :Any PostgraduateKey Skillsdeep learningKibanatensorflowdata scienceKafkakerasSparkMachine Learning',\n",
       " 'Job descriptionRoles and ResponsibilitiesJob Description:Develop data powered insights deriving from distributed, real time streaming applications, and develop AI systems leveraging on such data powered insights.Looking for candidates with passion and energy to work in a high energy team with entrepreneurial culture: Self starter attitude, quick learning aptitude, passion and willingness to deliver on time with quality.Job Skills Required:Expert data science skills using supervised and unsupervised learning. Deep learning.Compute: Spark/Storm/NiFi/Flink/Redis, or other.Visualization: Banana UI, Kibana, or other,Tools: H2O, TensorFlow, Mlib, Scikit, Keras or other.Messaging: Kafka, RabbitMQ, or other.Strong Analytical and Math/Statistics skills.Qualification :M.Tech/M.E./M.S. in Computer Science, Engineering or a related field, preferably with a concentration, major or minor in Data Science or Machine Learning. PhD would be added advantage.Desired Candidate ProfileDesirable s that would strengthen candidacy: Proven track record from public competitions such as from Kagel, Analytics Vidya, etc. Expertise in one or more high level programming languages such as Java, Scala, Python, Go, Erlang, etc.Expertise in developing scalable applications in a distributed environment.Strong SQL or NoSQL skills with one or more open source DBMS such as MySql, MongoDB, Cassandra.Expertise in containerized environments on private or public clouds - Aws Azure, etc.RoleSoftware DeveloperIndustry TypeIT Services & ConsultingFunctional AreaIT Software - Application Programming, MaintenanceEmployment TypeFull Time, Temporary/ContractualRole CategoryProgramming & DesignEducationUG :Any GraduatePG :Any PostgraduateKey Skillsdeep learningKibanatensorflowdata scienceKafkakerasSparkMachine Learning',\n",
       " '--',\n",
       " '--',\n",
       " 'Job descriptionThe ChallengeBe a thought leader, partner with your cross-functional partners to foster a data driven payments organization.With a focus on Payments compliance and keeping our platform safe, anticipate and detect new fraud trends and regulatory requirements.Define and evaluate key metrics. Build the data foundation you need, in partnership with the data engineering team.Deliver actionable user-insights to build the best products and modelsDesign experiments to measure the impact of new payments featuresEmpower the product and engineering teams to make data-driven decisionsWhat you need to succeed4+ years industry experience in a quantitative analysis role. Experience in Payments a strong plusFluent in SQL and proficiency in analytical tools such as Python, R, etc.Background in statistics and experience with experimentationSolid understanding of product analyticsExperience or willingness to learn tools to create data pipelines using Airflow/MinervaAbility to communicate clearly and effectively to cross functional partners of varying technical levelsRoleData AnalystIndustry TypeTravel & TourismFunctional AreaAnalytics & Business IntelligenceEmployment TypeFull Time, PermanentRole CategoryAnalytics & BIEducationUG :Any GraduatePG :Any PostgraduateKey SkillsQuantitative AnalysisRData EngineeringData ScientistStatisticsAnalyticsPythonSQL',\n",
       " 'Job descriptionPurpose of the positionThe position should be able to liaison seamlessly with the Product Engineering, Sales Engineering and Delivery teams to deliver quality work products within scope, time and budget focused on ensuring client satisfaction. The position should also be able to mentor junior data scientists in day-to-day tasks.Essential Job FunctionA senior data scientist who can demonstrate thought leadership and translate them into actionable work products in text/image-based artificial intelligence. The ideal candidate should possess programming experience in Python/R (C++ will be a plus) for analysing structured and unstructured data and build models using deep learning techniques. He/she should be an innovative thinker and possesses the ability to bring a varied perspective to problem-solving using data, statistical, algorithmic, deep learning and visualization techniques. He/she should possess a proven track record of leading and mentoring a team of high performing data scientists.Basic QualificationEducation: PhD/Master s degree in Computer Science/Data Science / Mathematics / Statistics /Allied FieldsEssential Qualification:At least 9 years of experience in machine learning with at least at least 4 years of hands-on experience in developing enterprise class and scalable models using deep learning/Natural Language Processing including Natural Language Understanding/Natural Language InferenceHands-on experience in achieving data parallelism/model parallelism using multiple GPUsExposure to pre-processing techniques to enhance documents to aid accuracy of extractionSolid mathematical foundations of machine learning/deep learning/computer visionHands-on experience in Tensor Flow, Keras, PyTorch, NLTKHands-on experience in Python/R/C programmingCompilers: Anaconda/ ANTExcellent communication skillsBusiness mindsetDesirable Technical backgroundExposure to various opensource and proprietary OCR/ICR for extracting both Latin and non-Latin scriptsExposure to MLOps implementing and automating continuous integration (CI), continuous delivery (CD), and continuous training (CT) for machine learning (ML) systemsExperience in building NLP solutions for Japanese/Thai/Arabic/Chinese LanguagesExperience in Natural Language Processing including Natural Language Understanding/Natural Language InferenceExperience in developing enterprise class scalable and self-learning NLP solutions/enginesFractal Structures and DistributionsFractal dimension for data miningImage based fractal analysisSelf-resonance and self-similarityRoleOutside Technical ConsultantIndustry TypeIT Services & ConsultingFunctional AreaIT Software - Application Programming, MaintenanceEmployment TypeFull Time, PermanentRole CategorySystem Design/Implementation/ERP/CRMEducationUG :Any GraduatePG :Post Graduation Not RequiredKey SkillsData ScienceNlpArtificial IntelligenceTensor FlowData ScientistNatural Language ProcessingComputer VisionMachine LearningDeep LearningPython',\n",
       " '--',\n",
       " '--',\n",
       " 'Job descriptionMain purpose of this role:Be a part of the Enterprise IT , Information and Data Science team and drive a strategic and actionable Data Science architecture to activate the needed business capabilities. Deliver business use cases like Care Provider (Customer, Product , IB ) 360 initiative, Product bundling , Value Based pricing , Conversational AI, Indirect Trade partner classification , Data pipeline predictions etc - an ambition to better understand the needs of Healthcare Providers, the way Philips serves its customers and how and where Philips can add value to the customer decision journey.Your responsibilitiesEnsure strategic direction for data science capabilities for Philips is created and kept up to date on a regular basisContinuously evaluate the latest techniques in Artificial intelligence, machine learning, robotics, statistical analysisImplement advanced algorithms for business problems based on statistical analysis, coding, deep learning, advanced data mining techniques etc.Develop new algorithms if necessary, to bring predictive, advanced statistics / learning based solutionsDevelop algorithms to further automate processes and feed insights back into PIL for better business outcomeCo-create with business / market / functions or IT platforms on requirementsEnsure quality of data and solution developedLead and drive data mining, creating algorithms, collection of data, collection of procedures during the design, build phases of a projectLead and drive in deploy and testing of the solutions and insightsSpot and evaluate emerging/cutting edge, open source, data science/machine learning librariesYou are part of:You will be part of Group IT , Information and Data Management team that drives business impact through Data Science and Advanced analytics. A team that instigates collaboration across diverse teams globally to manage Data as an asset at Philips.Core competencies needed to be successful:A Master s Degree or PhD in Computer Science, Econometrics, Artificial Intelligence, Applied Mathematics, Statistics or equivalent;8-10 years of overall experience in data science, data analytics roles8+ years of experience in multiple of machine learning, data mining, deep learning, artificial intelligence, pattern recognition areasExperience in driving implementation of solutions, data and algorithms on data warehouse and lakes like Azure , AWS, SQL etcDemonstrable advanced programming experience in Python or another programming language such as Azure ML/R/Python etc ;Strong analytical and social skills and the capability to translate data intelligence into valuable insights for the senior stakeholders in the companyAbility to formulate multiple complex business problems into hypothesis and proof of concepts for testingManage Projects and lead a sub-portfolio of data science project teams to deliver resultsCoach, Guide and direct teams of internal and vendor resourcesCollaborate across IT platform teams to deploy solutions and drive continuous improvementsManage senior stakeholder in the company in a matrix organization i.e. Market / BG / Function leadersRoleBusiness/EDP AnalystIndustry TypeMedical Services / HospitalFunctional AreaITES, BPO, KPO, LPO, Customer Service, OperationsEmployment TypeFull Time, PermanentRole CategoryOperationsEducationUG :Any GraduatePG :Post Graduation Not RequiredKey SkillsComputer scienceData managementCodingAnalyticalMachine learningHealthcareData miningRoboticsSQLPython',\n",
       " 'Job descriptionRequired Technical and Professional Expertise• 6+ years of industry work experience in data scientist projects• Master’s degree or higher in Statistics/Math/Computer Science or related field• Background in applied statistical modeling on large experimental or observational data sets• Experience extracting data from a variety of sources, and a desire to expand those skills (working knowledge SQL is required, Spark is a plus)• Experience with one or more statistical or machine learning software such as R, Python, etc.• Must showcase past work through published articles/GitHub/social mediaPreferred Technical and Professional Expertise• Knowledge of distributed computing systems, e.g. Cosmos, Spark, Hadoop, and relational database management system• PhD. in Statistics is preferred• You love collaborative environments that use agile methodologies to encourage creative design thinking and find innovative ways to develop with cutting edge technologies• Ambitious individual who can work under their own direction towards agreed targets/goals and with creative approach to work• Intuitive individual with an ability to manage change and proven time management• Proven interpersonal skills while contributing to team effort by accomplishing related results as neededRoleData AnalystIndustry TypeIT Services & ConsultingFunctional AreaAnalytics & Business IntelligenceEmployment TypeFull Time, PermanentRole CategoryAnalytics & BIEducationUG :B.Sc in Maths, StatisticsPG :MS/M.Sc(Science) in Maths, StatisticsDoctorate :Doctorate Not RequiredKey SkillsRData scienceData analyticsSQLPython',\n",
       " '--']"
      ]
     },
     "execution_count": 21,
     "metadata": {},
     "output_type": "execute_result"
    }
   ],
   "source": [
    "job_desc = []\n",
    "\n",
    "for j in jd_urls:\n",
    "    driver.get(j)\n",
    "    try:\n",
    "        job_jd = driver.find_element_by_xpath('//section[@class=\"job-desc\"]')\n",
    "        job_desc.append(job_jd.text.replace('\\n',''))\n",
    "    except:\n",
    "        job_desc.append('--')\n",
    "job_desc"
   ]
  },
  {
   "cell_type": "code",
   "execution_count": 22,
   "metadata": {},
   "outputs": [
    {
     "data": {
      "text/html": [
       "<div>\n",
       "<style scoped>\n",
       "    .dataframe tbody tr th:only-of-type {\n",
       "        vertical-align: middle;\n",
       "    }\n",
       "\n",
       "    .dataframe tbody tr th {\n",
       "        vertical-align: top;\n",
       "    }\n",
       "\n",
       "    .dataframe thead th {\n",
       "        text-align: right;\n",
       "    }\n",
       "</style>\n",
       "<table border=\"1\" class=\"dataframe\">\n",
       "  <thead>\n",
       "    <tr style=\"text-align: right;\">\n",
       "      <th></th>\n",
       "      <th>JOB TITLE</th>\n",
       "      <th>JOB LOCATION</th>\n",
       "      <th>COMPANY NAME</th>\n",
       "      <th>EXPERIENCE REQUIRED</th>\n",
       "      <th>JOB DESCRIPTION</th>\n",
       "    </tr>\n",
       "  </thead>\n",
       "  <tbody>\n",
       "    <tr>\n",
       "      <th>0</th>\n",
       "      <td>Lead Data Scientist BFSI</td>\n",
       "      <td>Bengaluru/Bangalore</td>\n",
       "      <td>IBM India Pvt. Limited</td>\n",
       "      <td>5-9 Yrs</td>\n",
       "      <td>--</td>\n",
       "    </tr>\n",
       "    <tr>\n",
       "      <th>1</th>\n",
       "      <td>Data Scientist: Advanced Analytics</td>\n",
       "      <td>Bengaluru/Bangalore</td>\n",
       "      <td>IBM India Pvt. Limited</td>\n",
       "      <td>3-7 Yrs</td>\n",
       "      <td>--</td>\n",
       "    </tr>\n",
       "    <tr>\n",
       "      <th>2</th>\n",
       "      <td>Senior Data Scientist</td>\n",
       "      <td>Bangalore/Bengaluru</td>\n",
       "      <td>Airbnb</td>\n",
       "      <td>7-12 Yrs</td>\n",
       "      <td>Job descriptionResponsibilities include:Defini...</td>\n",
       "    </tr>\n",
       "    <tr>\n",
       "      <th>3</th>\n",
       "      <td>SENIOR DATA SCIENTIST</td>\n",
       "      <td>Bangalore/Bengaluru</td>\n",
       "      <td>Happiest Minds Technologies Pvt.Ltd</td>\n",
       "      <td>5-10 Yrs</td>\n",
       "      <td>Job description  SkillsRequired Skills: Data S...</td>\n",
       "    </tr>\n",
       "    <tr>\n",
       "      <th>4</th>\n",
       "      <td>Requirement For Data Scientist - Mumbai &amp; Bang...</td>\n",
       "      <td>Bangalore/Bengaluru, Mumbai (All Areas)</td>\n",
       "      <td>CRISIL LIMITED</td>\n",
       "      <td>2-6 Yrs</td>\n",
       "      <td>--</td>\n",
       "    </tr>\n",
       "    <tr>\n",
       "      <th>5</th>\n",
       "      <td>Hiring For Data Scientist / Statistical Analyst</td>\n",
       "      <td>Bangalore/Bengaluru</td>\n",
       "      <td>ManpowerGroup Services India Private Limited</td>\n",
       "      <td>2-4 Yrs</td>\n",
       "      <td>--</td>\n",
       "    </tr>\n",
       "    <tr>\n",
       "      <th>6</th>\n",
       "      <td>Associate Data Scientist</td>\n",
       "      <td>Bangalore/Bengaluru</td>\n",
       "      <td>Philips India Limited</td>\n",
       "      <td>3-5 Yrs</td>\n",
       "      <td>Job descriptionUse predictive modeling to incr...</td>\n",
       "    </tr>\n",
       "    <tr>\n",
       "      <th>7</th>\n",
       "      <td>Data Scientist</td>\n",
       "      <td>Bangalore/Bengaluru\\n(WFH during Covid)</td>\n",
       "      <td>NeenOpal Intelligent Solutions Private Limited</td>\n",
       "      <td>2-5 Yrs</td>\n",
       "      <td>Job descriptionRoles and ResponsibilitiesWe ar...</td>\n",
       "    </tr>\n",
       "    <tr>\n",
       "      <th>8</th>\n",
       "      <td>Data Scientist</td>\n",
       "      <td>Bangalore/Bengaluru\\n(WFH during Covid)</td>\n",
       "      <td>PRESCIENCE DECISION SOLUTIONS PRIVATE LIMITED</td>\n",
       "      <td>5-10 Yrs</td>\n",
       "      <td>Job descriptionHi,We at Prescience www.prescie...</td>\n",
       "    </tr>\n",
       "    <tr>\n",
       "      <th>9</th>\n",
       "      <td>Data Scientist</td>\n",
       "      <td>Bangalore/Bengaluru</td>\n",
       "      <td>ELPIS IT SOLUTIONS PVT LTD</td>\n",
       "      <td>3-8 Yrs</td>\n",
       "      <td>Job descriptionRoles and ResponsibilitiesJob D...</td>\n",
       "    </tr>\n",
       "  </tbody>\n",
       "</table>\n",
       "</div>"
      ],
      "text/plain": [
       "                                           JOB TITLE  \\\n",
       "0                           Lead Data Scientist BFSI   \n",
       "1                 Data Scientist: Advanced Analytics   \n",
       "2                              Senior Data Scientist   \n",
       "3                              SENIOR DATA SCIENTIST   \n",
       "4  Requirement For Data Scientist - Mumbai & Bang...   \n",
       "5    Hiring For Data Scientist / Statistical Analyst   \n",
       "6                           Associate Data Scientist   \n",
       "7                                     Data Scientist   \n",
       "8                                     Data Scientist   \n",
       "9                                     Data Scientist   \n",
       "\n",
       "                              JOB LOCATION  \\\n",
       "0                      Bengaluru/Bangalore   \n",
       "1                      Bengaluru/Bangalore   \n",
       "2                      Bangalore/Bengaluru   \n",
       "3                      Bangalore/Bengaluru   \n",
       "4  Bangalore/Bengaluru, Mumbai (All Areas)   \n",
       "5                      Bangalore/Bengaluru   \n",
       "6                      Bangalore/Bengaluru   \n",
       "7  Bangalore/Bengaluru\\n(WFH during Covid)   \n",
       "8  Bangalore/Bengaluru\\n(WFH during Covid)   \n",
       "9                      Bangalore/Bengaluru   \n",
       "\n",
       "                                     COMPANY NAME EXPERIENCE REQUIRED  \\\n",
       "0                          IBM India Pvt. Limited             5-9 Yrs   \n",
       "1                          IBM India Pvt. Limited             3-7 Yrs   \n",
       "2                                          Airbnb            7-12 Yrs   \n",
       "3             Happiest Minds Technologies Pvt.Ltd            5-10 Yrs   \n",
       "4                                  CRISIL LIMITED             2-6 Yrs   \n",
       "5    ManpowerGroup Services India Private Limited             2-4 Yrs   \n",
       "6                           Philips India Limited             3-5 Yrs   \n",
       "7  NeenOpal Intelligent Solutions Private Limited             2-5 Yrs   \n",
       "8   PRESCIENCE DECISION SOLUTIONS PRIVATE LIMITED            5-10 Yrs   \n",
       "9                      ELPIS IT SOLUTIONS PVT LTD             3-8 Yrs   \n",
       "\n",
       "                                     JOB DESCRIPTION  \n",
       "0                                                 --  \n",
       "1                                                 --  \n",
       "2  Job descriptionResponsibilities include:Defini...  \n",
       "3  Job description  SkillsRequired Skills: Data S...  \n",
       "4                                                 --  \n",
       "5                                                 --  \n",
       "6  Job descriptionUse predictive modeling to incr...  \n",
       "7  Job descriptionRoles and ResponsibilitiesWe ar...  \n",
       "8  Job descriptionHi,We at Prescience www.prescie...  \n",
       "9  Job descriptionRoles and ResponsibilitiesJob D...  "
      ]
     },
     "execution_count": 22,
     "metadata": {},
     "output_type": "execute_result"
    }
   ],
   "source": [
    "# storing 10 records in dataframe\n",
    "df1=pd.DataFrame({})\n",
    "df1['JOB TITLE']=job_title[:10]\n",
    "df1['JOB LOCATION']=location[:10]\n",
    "df1['COMPANY NAME']=compname[:10]\n",
    "df1['EXPERIENCE REQUIRED']=exp1[:10]\n",
    "df1['JOB DESCRIPTION']=job_desc[:10]\n",
    "df1"
   ]
  },
  {
   "cell_type": "markdown",
   "metadata": {},
   "source": [
    "Q.No. 3 :- scrape data for “Data Scientist” designation for first 10 job results using filters on location and salary\n"
   ]
  },
  {
   "cell_type": "code",
   "execution_count": 3,
   "metadata": {},
   "outputs": [],
   "source": [
    "# import libraries\n",
    "import selenium\n",
    "import pandas as pd\n",
    "from selenium import webdriver"
   ]
  },
  {
   "cell_type": "code",
   "execution_count": 4,
   "metadata": {},
   "outputs": [],
   "source": [
    "driver=webdriver.Chrome(r\"C:\\Users\\dell\\Downloads\\chromedriver_win32\\chromedriver.exe\")"
   ]
  },
  {
   "cell_type": "code",
   "execution_count": 25,
   "metadata": {},
   "outputs": [],
   "source": [
    "# opening of web page through URL\n",
    "url=\"https://www.naukri.com/\"\n",
    "driver.get(url)\n"
   ]
  },
  {
   "cell_type": "code",
   "execution_count": 26,
   "metadata": {},
   "outputs": [
    {
     "data": {
      "text/plain": [
       "<selenium.webdriver.remote.webelement.WebElement (session=\"8fa5dac6f507d57f11be0d0e5377dcd5\", element=\"733c2606-7436-4255-b5e2-98ee43b74619\")>"
      ]
     },
     "execution_count": 26,
     "metadata": {},
     "output_type": "execute_result"
    }
   ],
   "source": [
    "search_job=driver.find_element_by_xpath('//input[@class=\"sugInp\"]')\n",
    "search_job"
   ]
  },
  {
   "cell_type": "code",
   "execution_count": 27,
   "metadata": {},
   "outputs": [],
   "source": [
    "search_job.send_keys(\"Data Scientist\")"
   ]
  },
  {
   "cell_type": "code",
   "execution_count": 28,
   "metadata": {},
   "outputs": [
    {
     "data": {
      "text/plain": [
       "<selenium.webdriver.remote.webelement.WebElement (session=\"8fa5dac6f507d57f11be0d0e5377dcd5\", element=\"4d51474f-07c7-444b-86cb-99ffd1dc63d9\")>"
      ]
     },
     "execution_count": 28,
     "metadata": {},
     "output_type": "execute_result"
    }
   ],
   "source": [
    "search_btn=driver.find_element_by_xpath('//button[@class=\"btn\"]' )\n",
    "search_btn"
   ]
  },
  {
   "cell_type": "code",
   "execution_count": 29,
   "metadata": {},
   "outputs": [],
   "source": [
    "search_btn.click()"
   ]
  },
  {
   "cell_type": "code",
   "execution_count": 40,
   "metadata": {},
   "outputs": [],
   "source": [
    "location=driver.find_element_by_xpath(\"//span[@title='Delhi / NCR']\")\n",
    "location.click()"
   ]
  },
  {
   "cell_type": "code",
   "execution_count": 41,
   "metadata": {},
   "outputs": [],
   "source": [
    "salary=driver.find_element_by_xpath(\"//span[@title='3-6 Lakhs']\")\n",
    "salary.click()"
   ]
  },
  {
   "cell_type": "code",
   "execution_count": 42,
   "metadata": {},
   "outputs": [
    {
     "data": {
      "text/plain": [
       "['Data Analyst/Data Scientist',\n",
       " 'Only Fresher / Data Scientist / Data Analyst / Analytics - MNC Jobs',\n",
       " 'Data Scientist',\n",
       " 'Data Scientist/ Machine Learning Engineer',\n",
       " 'Data Scientist / Data Analyst / Business Analytics - MNC Jobs Freshers',\n",
       " 'Data Scientist / Data Analyst',\n",
       " 'Immediate Openings For Data Scientist For Wipro C2H',\n",
       " 'Data Scientist - WFH - MIND Infotech',\n",
       " 'Data Scientist',\n",
       " 'Data Scientist',\n",
       " 'Data Scientist-immediate Joiners',\n",
       " 'Junior Data Scientists & Engineers',\n",
       " 'Data Scientist - Machine Learning/ NLP',\n",
       " 'Data Scientist',\n",
       " 'Data Scientist Internship',\n",
       " 'Senior Data Scientist',\n",
       " 'Data Scientist',\n",
       " 'Senior Data Scientist',\n",
       " 'Hiring Data Scientist Develope || IDS Infotech LTD || (Permanent WFH)',\n",
       " 'Data Scientist']"
      ]
     },
     "execution_count": 42,
     "metadata": {},
     "output_type": "execute_result"
    }
   ],
   "source": [
    "title_tags1=driver.find_elements_by_xpath('//a[@class=\"title fw500 ellipsis\"]')\n",
    "title_tags1\n",
    "job=[]\n",
    "for i in title_tags1:\n",
    "    job.append(i.text)\n",
    "job"
   ]
  },
  {
   "cell_type": "code",
   "execution_count": 46,
   "metadata": {},
   "outputs": [
    {
     "data": {
      "text/plain": [
       "['Bangalore/Bengaluru, Delhi / NCR, Mumbai (All Areas)',\n",
       " 'Noida, Gurgaon/Gurugram, Delhi / NCR',\n",
       " 'Gurgaon/Gurugram\\n(WFH during Covid)',\n",
       " 'Mohali/SAS Nagar, Hyderabad/Secunderabad, Ahmedabad, Gurgaon/Gurugram, Chennai, Bangalore/Bengaluru',\n",
       " 'Noida, New Delhi, Gurgaon/Gurugram',\n",
       " 'Gurgaon/Gurugram',\n",
       " 'Gurgaon/Gurugram',\n",
       " 'Pune, Chennai, Bangalore/Bengaluru, Delhi / NCR, Mumbai (All Areas)',\n",
       " 'Noida\\n(WFH during Covid)',\n",
       " 'Delhi / NCR(Okhla)',\n",
       " 'Noida',\n",
       " 'New Delhi, Delhi / NCR',\n",
       " 'Gurgaon/Gurugram',\n",
       " 'Mumbai, Gurgaon/Gurugram, Bangalore/Bengaluru',\n",
       " 'New Delhi',\n",
       " 'Hyderabad/Secunderabad, Gurgaon/Gurugram, Bangalore/Bengaluru',\n",
       " 'Bharuch, Jaipur, Bhopal, Mumbai, Jhansi, Nagpur, Ghaziabad, Jaunpur, Kanpur, Delhi, Lucknow, Agra, Gurgaon, Rajkot, Bengaluru',\n",
       " 'Delhi',\n",
       " 'Chandigarh, Hyderabad/Secunderabad, Chennai, Bangalore/Bengaluru, Delhi / NCR',\n",
       " 'Delhi']"
      ]
     },
     "execution_count": 46,
     "metadata": {},
     "output_type": "execute_result"
    }
   ],
   "source": [
    "job_loc=driver.find_elements_by_xpath('//li[@class=\"fleft grey-text br2 placeHolderLi location\"]')\n",
    "\n",
    "jobloc=[]\n",
    "for i in job_loc:\n",
    "    jobloc.append(i.text)\n",
    "jobloc\n"
   ]
  },
  {
   "cell_type": "code",
   "execution_count": 43,
   "metadata": {},
   "outputs": [
    {
     "data": {
      "text/plain": [
       "['2-5 Yrs',\n",
       " '0-0 Yrs',\n",
       " '1-3 Yrs',\n",
       " '0-0 Yrs',\n",
       " '0-0 Yrs',\n",
       " '1-5 Yrs',\n",
       " '5-10 Yrs',\n",
       " '3-7 Yrs',\n",
       " '3-6 Yrs',\n",
       " '4-6 Yrs',\n",
       " '2-5 Yrs',\n",
       " '0-3 Yrs',\n",
       " '2-6 Yrs',\n",
       " '3-7 Yrs',\n",
       " '0-1 Yrs',\n",
       " '3-6 Yrs',\n",
       " '1-3 Yrs',\n",
       " '1-5 Yrs',\n",
       " '5-10 Yrs',\n",
       " '2-7 Yrs']"
      ]
     },
     "execution_count": 43,
     "metadata": {},
     "output_type": "execute_result"
    }
   ],
   "source": [
    "job_exp=driver.find_elements_by_xpath('//li[@class=\"fleft grey-text br2 placeHolderLi experience\"]')\n",
    "\n",
    "jobexp=[]\n",
    "for i in job_exp:\n",
    "    jobexp.append(i.text)\n",
    "jobexp"
   ]
  },
  {
   "cell_type": "code",
   "execution_count": 44,
   "metadata": {},
   "outputs": [
    {
     "data": {
      "text/plain": [
       "['Skillenable Fintech Private Limited',\n",
       " 'GABA Consultancy services',\n",
       " 'PROCESS NINE TECHNOLOGIES PVT.LTD.',\n",
       " 'Creative Hands HR Consultancy',\n",
       " 'GABA Consultancy services',\n",
       " 'CARS24',\n",
       " 'IDESLABS PRIVATE LIMITED',\n",
       " 'MOTHERSONSUMI INFOTECH & DESIGNS LIMITED',\n",
       " 'R Systems International Ltd.',\n",
       " 'Kusum Healthcare Pvt. Ltd.',\n",
       " 'Quikruit Consulting LLP',\n",
       " 'PY Consultancy',\n",
       " 'TalPro',\n",
       " 'Fractal Analytics',\n",
       " 'iHackers Inc',\n",
       " 'inVentiv International Pharma Services Pvt. Ltd.',\n",
       " 'Country Veggie',\n",
       " 'iNICU',\n",
       " 'IDS Infotech Ltd.',\n",
       " 'Sentieo']"
      ]
     },
     "execution_count": 44,
     "metadata": {},
     "output_type": "execute_result"
    }
   ],
   "source": [
    "company=driver.find_elements_by_xpath('//a[@class=\"subTitle ellipsis fleft\"]')\n",
    "\n",
    "com=[]\n",
    "for i in company:\n",
    "    com.append(i.text)\n",
    "com"
   ]
  },
  {
   "cell_type": "code",
   "execution_count": 47,
   "metadata": {},
   "outputs": [
    {
     "data": {
      "text/html": [
       "<div>\n",
       "<style scoped>\n",
       "    .dataframe tbody tr th:only-of-type {\n",
       "        vertical-align: middle;\n",
       "    }\n",
       "\n",
       "    .dataframe tbody tr th {\n",
       "        vertical-align: top;\n",
       "    }\n",
       "\n",
       "    .dataframe thead th {\n",
       "        text-align: right;\n",
       "    }\n",
       "</style>\n",
       "<table border=\"1\" class=\"dataframe\">\n",
       "  <thead>\n",
       "    <tr style=\"text-align: right;\">\n",
       "      <th></th>\n",
       "      <th>JOB TITLE</th>\n",
       "      <th>JOB LOCATION</th>\n",
       "      <th>COMPANY NAME</th>\n",
       "      <th>EXPERIENCE REQUIRED</th>\n",
       "    </tr>\n",
       "  </thead>\n",
       "  <tbody>\n",
       "    <tr>\n",
       "      <th>0</th>\n",
       "      <td>Data Analyst/Data Scientist</td>\n",
       "      <td>Bangalore/Bengaluru, Delhi / NCR, Mumbai (All ...</td>\n",
       "      <td>Skillenable Fintech Private Limited</td>\n",
       "      <td>2-5 Yrs</td>\n",
       "    </tr>\n",
       "    <tr>\n",
       "      <th>1</th>\n",
       "      <td>Only Fresher / Data Scientist / Data Analyst /...</td>\n",
       "      <td>Noida, Gurgaon/Gurugram, Delhi / NCR</td>\n",
       "      <td>GABA Consultancy services</td>\n",
       "      <td>0-0 Yrs</td>\n",
       "    </tr>\n",
       "    <tr>\n",
       "      <th>2</th>\n",
       "      <td>Data Scientist</td>\n",
       "      <td>Gurgaon/Gurugram\\n(WFH during Covid)</td>\n",
       "      <td>PROCESS NINE TECHNOLOGIES PVT.LTD.</td>\n",
       "      <td>1-3 Yrs</td>\n",
       "    </tr>\n",
       "    <tr>\n",
       "      <th>3</th>\n",
       "      <td>Data Scientist/ Machine Learning Engineer</td>\n",
       "      <td>Mohali/SAS Nagar, Hyderabad/Secunderabad, Ahme...</td>\n",
       "      <td>Creative Hands HR Consultancy</td>\n",
       "      <td>0-0 Yrs</td>\n",
       "    </tr>\n",
       "    <tr>\n",
       "      <th>4</th>\n",
       "      <td>Data Scientist / Data Analyst / Business Analy...</td>\n",
       "      <td>Noida, New Delhi, Gurgaon/Gurugram</td>\n",
       "      <td>GABA Consultancy services</td>\n",
       "      <td>0-0 Yrs</td>\n",
       "    </tr>\n",
       "    <tr>\n",
       "      <th>5</th>\n",
       "      <td>Data Scientist / Data Analyst</td>\n",
       "      <td>Gurgaon/Gurugram</td>\n",
       "      <td>CARS24</td>\n",
       "      <td>1-5 Yrs</td>\n",
       "    </tr>\n",
       "    <tr>\n",
       "      <th>6</th>\n",
       "      <td>Immediate Openings For Data Scientist For Wipr...</td>\n",
       "      <td>Gurgaon/Gurugram</td>\n",
       "      <td>IDESLABS PRIVATE LIMITED</td>\n",
       "      <td>5-10 Yrs</td>\n",
       "    </tr>\n",
       "    <tr>\n",
       "      <th>7</th>\n",
       "      <td>Data Scientist - WFH - MIND Infotech</td>\n",
       "      <td>Pune, Chennai, Bangalore/Bengaluru, Delhi / NC...</td>\n",
       "      <td>MOTHERSONSUMI INFOTECH &amp; DESIGNS LIMITED</td>\n",
       "      <td>3-7 Yrs</td>\n",
       "    </tr>\n",
       "    <tr>\n",
       "      <th>8</th>\n",
       "      <td>Data Scientist</td>\n",
       "      <td>Noida\\n(WFH during Covid)</td>\n",
       "      <td>R Systems International Ltd.</td>\n",
       "      <td>3-6 Yrs</td>\n",
       "    </tr>\n",
       "    <tr>\n",
       "      <th>9</th>\n",
       "      <td>Data Scientist</td>\n",
       "      <td>Delhi / NCR(Okhla)</td>\n",
       "      <td>Kusum Healthcare Pvt. Ltd.</td>\n",
       "      <td>4-6 Yrs</td>\n",
       "    </tr>\n",
       "  </tbody>\n",
       "</table>\n",
       "</div>"
      ],
      "text/plain": [
       "                                           JOB TITLE  \\\n",
       "0                        Data Analyst/Data Scientist   \n",
       "1  Only Fresher / Data Scientist / Data Analyst /...   \n",
       "2                                     Data Scientist   \n",
       "3          Data Scientist/ Machine Learning Engineer   \n",
       "4  Data Scientist / Data Analyst / Business Analy...   \n",
       "5                      Data Scientist / Data Analyst   \n",
       "6  Immediate Openings For Data Scientist For Wipr...   \n",
       "7               Data Scientist - WFH - MIND Infotech   \n",
       "8                                     Data Scientist   \n",
       "9                                     Data Scientist   \n",
       "\n",
       "                                        JOB LOCATION  \\\n",
       "0  Bangalore/Bengaluru, Delhi / NCR, Mumbai (All ...   \n",
       "1               Noida, Gurgaon/Gurugram, Delhi / NCR   \n",
       "2               Gurgaon/Gurugram\\n(WFH during Covid)   \n",
       "3  Mohali/SAS Nagar, Hyderabad/Secunderabad, Ahme...   \n",
       "4                 Noida, New Delhi, Gurgaon/Gurugram   \n",
       "5                                   Gurgaon/Gurugram   \n",
       "6                                   Gurgaon/Gurugram   \n",
       "7  Pune, Chennai, Bangalore/Bengaluru, Delhi / NC...   \n",
       "8                          Noida\\n(WFH during Covid)   \n",
       "9                                 Delhi / NCR(Okhla)   \n",
       "\n",
       "                               COMPANY NAME EXPERIENCE REQUIRED  \n",
       "0       Skillenable Fintech Private Limited             2-5 Yrs  \n",
       "1                 GABA Consultancy services             0-0 Yrs  \n",
       "2        PROCESS NINE TECHNOLOGIES PVT.LTD.             1-3 Yrs  \n",
       "3             Creative Hands HR Consultancy             0-0 Yrs  \n",
       "4                 GABA Consultancy services             0-0 Yrs  \n",
       "5                                    CARS24             1-5 Yrs  \n",
       "6                  IDESLABS PRIVATE LIMITED            5-10 Yrs  \n",
       "7  MOTHERSONSUMI INFOTECH & DESIGNS LIMITED             3-7 Yrs  \n",
       "8              R Systems International Ltd.             3-6 Yrs  \n",
       "9                Kusum Healthcare Pvt. Ltd.             4-6 Yrs  "
      ]
     },
     "execution_count": 47,
     "metadata": {},
     "output_type": "execute_result"
    }
   ],
   "source": [
    "df2=pd.DataFrame({})\n",
    "df2['JOB TITLE']=job[:10]\n",
    "df2['JOB LOCATION']=jobloc[:10]\n",
    "df2['COMPANY NAME']=com[:10]\n",
    "df2['EXPERIENCE REQUIRED']=jobexp[:10]\n",
    "df2"
   ]
  },
  {
   "cell_type": "markdown",
   "metadata": {},
   "source": [
    "Q. No. 4 :- Write a python program to scrape data for first 10 job results for Data scientist Designation in Noida location. You have to scrape company_name, No. of days ago when job was posted, Rating of the company.\n"
   ]
  },
  {
   "cell_type": "code",
   "execution_count": 41,
   "metadata": {},
   "outputs": [],
   "source": [
    "# import libraries\n",
    "import selenium\n",
    "import pandas as pd\n",
    "from selenium import webdriver"
   ]
  },
  {
   "cell_type": "code",
   "execution_count": 65,
   "metadata": {},
   "outputs": [],
   "source": [
    "driver=webdriver.Chrome(r\"C:\\Users\\dell\\Downloads\\chromedriver_win32\\chromedriver.exe\")"
   ]
  },
  {
   "cell_type": "code",
   "execution_count": 66,
   "metadata": {},
   "outputs": [],
   "source": [
    "# opening of web page through URL\n",
    "url=\"https://www.glassdoor.co.in/index.htm\"\n",
    "driver.get(url)\n"
   ]
  },
  {
   "cell_type": "code",
   "execution_count": 67,
   "metadata": {},
   "outputs": [],
   "source": [
    "# Extracting the web element of the sign in button and clicking on it.\n",
    "\n",
    "sign_in_tag = driver.find_element_by_xpath('//button[@class=\"d-none d-lg-block p-0 LockedHomeHeaderStyles__signInButton\"]')\n",
    "\n",
    "sign_in_tag.click()"
   ]
  },
  {
   "cell_type": "code",
   "execution_count": 72,
   "metadata": {},
   "outputs": [
    {
     "data": {
      "text/plain": [
       "<selenium.webdriver.remote.webelement.WebElement (session=\"fd2e93417aa3fd110fe80c889011a3ce\", element=\"3a433c65-647f-460d-b37e-ac6954321291\")>"
      ]
     },
     "execution_count": 72,
     "metadata": {},
     "output_type": "execute_result"
    }
   ],
   "source": [
    "# Extracting the web element of the email input field.\n",
    "\n",
    "email_tag = driver.find_element_by_xpath('//input[@id=\"userEmail\"]')\n",
    "\n",
    "email_tag"
   ]
  },
  {
   "cell_type": "code",
   "execution_count": 73,
   "metadata": {},
   "outputs": [],
   "source": [
    "# Entering my email id.\n",
    "\n",
    "email_tag.send_keys('rekhaadak@gmail.com')\n"
   ]
  },
  {
   "cell_type": "code",
   "execution_count": 74,
   "metadata": {},
   "outputs": [],
   "source": [
    "# Extracting the web element and entering the password of my account.\n",
    "\n",
    "password_tag = driver.find_element_by_xpath('//input[@id=\"userPassword\"]')\n",
    "\n",
    "password_tag.send_keys('Santosh@1707')\n"
   ]
  },
  {
   "cell_type": "code",
   "execution_count": 75,
   "metadata": {},
   "outputs": [],
   "source": [
    "# Clicking on the sign in button.\n",
    "\n",
    "sign_tag = driver.find_element_by_xpath('//button[@class=\"gd-ui-button minWidthBtn css-8i7bc2\"]')\n",
    "sign_tag.click()"
   ]
  },
  {
   "cell_type": "code",
   "execution_count": 76,
   "metadata": {},
   "outputs": [],
   "source": [
    "# Extracting the web element of the job search bar and entering 'Data Scientist'.\n",
    "\n",
    "jb_src = driver.find_element_by_xpath('//input[@id=\"sc.keyword\"]')\n",
    "\n",
    "jb_src.send_keys('Data Scientist')\n"
   ]
  },
  {
   "cell_type": "code",
   "execution_count": 77,
   "metadata": {},
   "outputs": [],
   "source": [
    "# Extracting the web element of the location search bar and entering 'Noida'.\n",
    "\n",
    "loc_src = driver.find_element_by_xpath('//input[@id=\"sc.location\"]')\n",
    "\n",
    "\n",
    "loc_src.send_keys('Noida')\n"
   ]
  },
  {
   "cell_type": "code",
   "execution_count": 80,
   "metadata": {
    "collapsed": true
   },
   "outputs": [
    {
     "ename": "NoSuchElementException",
     "evalue": "Message: no such element: Unable to locate element: {\"method\":\"xpath\",\"selector\":\"//button[@class=\"gd-ui-button ml-std col-auto SearchStyles__newSearchButton css-iixdfr\"]\"}\n  (Session info: chrome=93.0.4577.63)\n",
     "output_type": "error",
     "traceback": [
      "\u001b[1;31m---------------------------------------------------------------------------\u001b[0m",
      "\u001b[1;31mNoSuchElementException\u001b[0m                    Traceback (most recent call last)",
      "\u001b[1;32m<ipython-input-80-96288c96abb2>\u001b[0m in \u001b[0;36m<module>\u001b[1;34m\u001b[0m\n\u001b[0;32m      1\u001b[0m \u001b[1;31m# Extracting the web element of the search button and clicking on it.\u001b[0m\u001b[1;33m\u001b[0m\u001b[1;33m\u001b[0m\u001b[1;33m\u001b[0m\u001b[0m\n\u001b[0;32m      2\u001b[0m \u001b[1;33m\u001b[0m\u001b[0m\n\u001b[1;32m----> 3\u001b[1;33m \u001b[0msrc_btn_tag4\u001b[0m \u001b[1;33m=\u001b[0m \u001b[0mdriver\u001b[0m\u001b[1;33m.\u001b[0m\u001b[0mfind_element_by_xpath\u001b[0m\u001b[1;33m(\u001b[0m\u001b[1;34m'//button[@class=\"gd-ui-button ml-std col-auto SearchStyles__newSearchButton css-iixdfr\"]'\u001b[0m\u001b[1;33m)\u001b[0m\u001b[1;33m\u001b[0m\u001b[1;33m\u001b[0m\u001b[0m\n\u001b[0m\u001b[0;32m      4\u001b[0m \u001b[1;33m\u001b[0m\u001b[0m\n\u001b[0;32m      5\u001b[0m \u001b[0msrc_btn_tag4\u001b[0m\u001b[1;33m.\u001b[0m\u001b[0mclick\u001b[0m\u001b[1;33m(\u001b[0m\u001b[1;33m)\u001b[0m\u001b[1;33m\u001b[0m\u001b[1;33m\u001b[0m\u001b[0m\n",
      "\u001b[1;32m~\\anaconda3\\lib\\site-packages\\selenium\\webdriver\\remote\\webdriver.py\u001b[0m in \u001b[0;36mfind_element_by_xpath\u001b[1;34m(self, xpath)\u001b[0m\n\u001b[0;32m    392\u001b[0m             \u001b[0melement\u001b[0m \u001b[1;33m=\u001b[0m \u001b[0mdriver\u001b[0m\u001b[1;33m.\u001b[0m\u001b[0mfind_element_by_xpath\u001b[0m\u001b[1;33m(\u001b[0m\u001b[1;34m'//div/td[1]'\u001b[0m\u001b[1;33m)\u001b[0m\u001b[1;33m\u001b[0m\u001b[1;33m\u001b[0m\u001b[0m\n\u001b[0;32m    393\u001b[0m         \"\"\"\n\u001b[1;32m--> 394\u001b[1;33m         \u001b[1;32mreturn\u001b[0m \u001b[0mself\u001b[0m\u001b[1;33m.\u001b[0m\u001b[0mfind_element\u001b[0m\u001b[1;33m(\u001b[0m\u001b[0mby\u001b[0m\u001b[1;33m=\u001b[0m\u001b[0mBy\u001b[0m\u001b[1;33m.\u001b[0m\u001b[0mXPATH\u001b[0m\u001b[1;33m,\u001b[0m \u001b[0mvalue\u001b[0m\u001b[1;33m=\u001b[0m\u001b[0mxpath\u001b[0m\u001b[1;33m)\u001b[0m\u001b[1;33m\u001b[0m\u001b[1;33m\u001b[0m\u001b[0m\n\u001b[0m\u001b[0;32m    395\u001b[0m \u001b[1;33m\u001b[0m\u001b[0m\n\u001b[0;32m    396\u001b[0m     \u001b[1;32mdef\u001b[0m \u001b[0mfind_elements_by_xpath\u001b[0m\u001b[1;33m(\u001b[0m\u001b[0mself\u001b[0m\u001b[1;33m,\u001b[0m \u001b[0mxpath\u001b[0m\u001b[1;33m)\u001b[0m\u001b[1;33m:\u001b[0m\u001b[1;33m\u001b[0m\u001b[1;33m\u001b[0m\u001b[0m\n",
      "\u001b[1;32m~\\anaconda3\\lib\\site-packages\\selenium\\webdriver\\remote\\webdriver.py\u001b[0m in \u001b[0;36mfind_element\u001b[1;34m(self, by, value)\u001b[0m\n\u001b[0;32m    974\u001b[0m                 \u001b[0mby\u001b[0m \u001b[1;33m=\u001b[0m \u001b[0mBy\u001b[0m\u001b[1;33m.\u001b[0m\u001b[0mCSS_SELECTOR\u001b[0m\u001b[1;33m\u001b[0m\u001b[1;33m\u001b[0m\u001b[0m\n\u001b[0;32m    975\u001b[0m                 \u001b[0mvalue\u001b[0m \u001b[1;33m=\u001b[0m \u001b[1;34m'[name=\"%s\"]'\u001b[0m \u001b[1;33m%\u001b[0m \u001b[0mvalue\u001b[0m\u001b[1;33m\u001b[0m\u001b[1;33m\u001b[0m\u001b[0m\n\u001b[1;32m--> 976\u001b[1;33m         return self.execute(Command.FIND_ELEMENT, {\n\u001b[0m\u001b[0;32m    977\u001b[0m             \u001b[1;34m'using'\u001b[0m\u001b[1;33m:\u001b[0m \u001b[0mby\u001b[0m\u001b[1;33m,\u001b[0m\u001b[1;33m\u001b[0m\u001b[1;33m\u001b[0m\u001b[0m\n\u001b[0;32m    978\u001b[0m             'value': value})['value']\n",
      "\u001b[1;32m~\\anaconda3\\lib\\site-packages\\selenium\\webdriver\\remote\\webdriver.py\u001b[0m in \u001b[0;36mexecute\u001b[1;34m(self, driver_command, params)\u001b[0m\n\u001b[0;32m    319\u001b[0m         \u001b[0mresponse\u001b[0m \u001b[1;33m=\u001b[0m \u001b[0mself\u001b[0m\u001b[1;33m.\u001b[0m\u001b[0mcommand_executor\u001b[0m\u001b[1;33m.\u001b[0m\u001b[0mexecute\u001b[0m\u001b[1;33m(\u001b[0m\u001b[0mdriver_command\u001b[0m\u001b[1;33m,\u001b[0m \u001b[0mparams\u001b[0m\u001b[1;33m)\u001b[0m\u001b[1;33m\u001b[0m\u001b[1;33m\u001b[0m\u001b[0m\n\u001b[0;32m    320\u001b[0m         \u001b[1;32mif\u001b[0m \u001b[0mresponse\u001b[0m\u001b[1;33m:\u001b[0m\u001b[1;33m\u001b[0m\u001b[1;33m\u001b[0m\u001b[0m\n\u001b[1;32m--> 321\u001b[1;33m             \u001b[0mself\u001b[0m\u001b[1;33m.\u001b[0m\u001b[0merror_handler\u001b[0m\u001b[1;33m.\u001b[0m\u001b[0mcheck_response\u001b[0m\u001b[1;33m(\u001b[0m\u001b[0mresponse\u001b[0m\u001b[1;33m)\u001b[0m\u001b[1;33m\u001b[0m\u001b[1;33m\u001b[0m\u001b[0m\n\u001b[0m\u001b[0;32m    322\u001b[0m             response['value'] = self._unwrap_value(\n\u001b[0;32m    323\u001b[0m                 response.get('value', None))\n",
      "\u001b[1;32m~\\anaconda3\\lib\\site-packages\\selenium\\webdriver\\remote\\errorhandler.py\u001b[0m in \u001b[0;36mcheck_response\u001b[1;34m(self, response)\u001b[0m\n\u001b[0;32m    240\u001b[0m                 \u001b[0malert_text\u001b[0m \u001b[1;33m=\u001b[0m \u001b[0mvalue\u001b[0m\u001b[1;33m[\u001b[0m\u001b[1;34m'alert'\u001b[0m\u001b[1;33m]\u001b[0m\u001b[1;33m.\u001b[0m\u001b[0mget\u001b[0m\u001b[1;33m(\u001b[0m\u001b[1;34m'text'\u001b[0m\u001b[1;33m)\u001b[0m\u001b[1;33m\u001b[0m\u001b[1;33m\u001b[0m\u001b[0m\n\u001b[0;32m    241\u001b[0m             \u001b[1;32mraise\u001b[0m \u001b[0mexception_class\u001b[0m\u001b[1;33m(\u001b[0m\u001b[0mmessage\u001b[0m\u001b[1;33m,\u001b[0m \u001b[0mscreen\u001b[0m\u001b[1;33m,\u001b[0m \u001b[0mstacktrace\u001b[0m\u001b[1;33m,\u001b[0m \u001b[0malert_text\u001b[0m\u001b[1;33m)\u001b[0m\u001b[1;33m\u001b[0m\u001b[1;33m\u001b[0m\u001b[0m\n\u001b[1;32m--> 242\u001b[1;33m         \u001b[1;32mraise\u001b[0m \u001b[0mexception_class\u001b[0m\u001b[1;33m(\u001b[0m\u001b[0mmessage\u001b[0m\u001b[1;33m,\u001b[0m \u001b[0mscreen\u001b[0m\u001b[1;33m,\u001b[0m \u001b[0mstacktrace\u001b[0m\u001b[1;33m)\u001b[0m\u001b[1;33m\u001b[0m\u001b[1;33m\u001b[0m\u001b[0m\n\u001b[0m\u001b[0;32m    243\u001b[0m \u001b[1;33m\u001b[0m\u001b[0m\n\u001b[0;32m    244\u001b[0m     \u001b[1;32mdef\u001b[0m \u001b[0m_value_or_default\u001b[0m\u001b[1;33m(\u001b[0m\u001b[0mself\u001b[0m\u001b[1;33m,\u001b[0m \u001b[0mobj\u001b[0m\u001b[1;33m,\u001b[0m \u001b[0mkey\u001b[0m\u001b[1;33m,\u001b[0m \u001b[0mdefault\u001b[0m\u001b[1;33m)\u001b[0m\u001b[1;33m:\u001b[0m\u001b[1;33m\u001b[0m\u001b[1;33m\u001b[0m\u001b[0m\n",
      "\u001b[1;31mNoSuchElementException\u001b[0m: Message: no such element: Unable to locate element: {\"method\":\"xpath\",\"selector\":\"//button[@class=\"gd-ui-button ml-std col-auto SearchStyles__newSearchButton css-iixdfr\"]\"}\n  (Session info: chrome=93.0.4577.63)\n"
     ]
    }
   ],
   "source": [
    "# Extracting the web element of the search button and clicking on it.\n",
    "\n",
    "src_btn = driver.find_element_by_xpath('//button[@class=\"gd-ui-button ml-std col-auto SearchStyles__newSearchButton css-iixdfr\"]')\n",
    "\n",
    "src_btn.click()\n"
   ]
  },
  {
   "cell_type": "code",
   "execution_count": 102,
   "metadata": {},
   "outputs": [
    {
     "data": {
      "text/plain": [
       "['Noisy Lion',\n",
       " 'Liberin Technologies Private Limited',\n",
       " 'AlgoScale Technologies Private Limited',\n",
       " 'Grail Insights',\n",
       " 'Lenskart',\n",
       " 'Grail Insights',\n",
       " 'Salasar New Age Technologies',\n",
       " 'Genpact',\n",
       " 'IBM',\n",
       " 'Newgen Software',\n",
       " 'Ericsson',\n",
       " 'Techlive',\n",
       " 'Salasar New Age Technologies',\n",
       " 'Monotype',\n",
       " 'Airtel India',\n",
       " 'ING',\n",
       " 'SearchUrCollege',\n",
       " 'Crowe',\n",
       " 'Ishatva Management Solutions',\n",
       " 'OneAssist Consumer Solutions Private Limited',\n",
       " 'Biz2Credit Inc',\n",
       " 'limeroad.com',\n",
       " 'Crypto Mize',\n",
       " 'WishFin',\n",
       " 'Saishaa Services',\n",
       " 'CSTEP',\n",
       " 'NEC Opportunities',\n",
       " 'McKinsey & Company',\n",
       " '2COMs',\n",
       " 'Adobe']"
      ]
     },
     "execution_count": 102,
     "metadata": {},
     "output_type": "execute_result"
    }
   ],
   "source": [
    "# Extracting the web elements of the company name.\n",
    "\n",
    "comp_name= driver.find_elements_by_xpath('//div[@class=\"d-flex justify-content-between align-items-start\"]//a//span')\n",
    "\n",
    "comp_name\n",
    "company=[]\n",
    "for i in comp_name:\n",
    "    company.append(i.text)\n",
    "company"
   ]
  },
  {
   "cell_type": "code",
   "execution_count": 100,
   "metadata": {},
   "outputs": [
    {
     "data": {
      "text/plain": [
       "['30d+', '1d', '1d', '2d', '30d+', '30d+', '24h', '6d', '30d+', '24h']"
      ]
     },
     "execution_count": 100,
     "metadata": {},
     "output_type": "execute_result"
    }
   ],
   "source": [
    "# Extracting the web elements of the company name.\n",
    "\n",
    "days= driver.find_elements_by_xpath('//div[@class=\"d-flex justify-content-between css-pa6dqi\"]' and '//div[@class=\"d-flex align-items-end pl-std css-17n8uzw\"]')\n",
    "\n",
    "\n",
    "no_days=[]\n",
    "for i in days:\n",
    "    no_days.append(i.text)\n",
    "no_days"
   ]
  },
  {
   "cell_type": "code",
   "execution_count": 99,
   "metadata": {},
   "outputs": [
    {
     "data": {
      "text/plain": [
       "['3.9',\n",
       " '3.5',\n",
       " '3.6',\n",
       " '3.5',\n",
       " '3.8',\n",
       " '3.9',\n",
       " '3.3',\n",
       " '4.1',\n",
       " '3.9',\n",
       " '3.8',\n",
       " '4.0',\n",
       " '3.8',\n",
       " '3.6',\n",
       " '4.2',\n",
       " '5.0',\n",
       " '3.8',\n",
       " '3.2',\n",
       " '4.4',\n",
       " '3.8',\n",
       " '4.4']"
      ]
     },
     "execution_count": 99,
     "metadata": {},
     "output_type": "execute_result"
    }
   ],
   "source": [
    "rating= driver.find_elements_by_xpath('//span[@class=\" job-search-key-srfzj0 e1cjmv6j0\"]')\n",
    "\n",
    "\n",
    "comp_rating=[]\n",
    "for i in rating:\n",
    "    comp_rating.append(i.text)\n",
    "comp_rating\n",
    "    "
   ]
  },
  {
   "cell_type": "code",
   "execution_count": 103,
   "metadata": {},
   "outputs": [
    {
     "data": {
      "text/html": [
       "<div>\n",
       "<style scoped>\n",
       "    .dataframe tbody tr th:only-of-type {\n",
       "        vertical-align: middle;\n",
       "    }\n",
       "\n",
       "    .dataframe tbody tr th {\n",
       "        vertical-align: top;\n",
       "    }\n",
       "\n",
       "    .dataframe thead th {\n",
       "        text-align: right;\n",
       "    }\n",
       "</style>\n",
       "<table border=\"1\" class=\"dataframe\">\n",
       "  <thead>\n",
       "    <tr style=\"text-align: right;\">\n",
       "      <th></th>\n",
       "      <th>Comapny Name</th>\n",
       "      <th>No of Days</th>\n",
       "      <th>Rating</th>\n",
       "    </tr>\n",
       "  </thead>\n",
       "  <tbody>\n",
       "    <tr>\n",
       "      <th>0</th>\n",
       "      <td>Noisy Lion</td>\n",
       "      <td>30d+</td>\n",
       "      <td>3.9</td>\n",
       "    </tr>\n",
       "    <tr>\n",
       "      <th>1</th>\n",
       "      <td>Liberin Technologies Private Limited</td>\n",
       "      <td>1d</td>\n",
       "      <td>3.5</td>\n",
       "    </tr>\n",
       "    <tr>\n",
       "      <th>2</th>\n",
       "      <td>AlgoScale Technologies Private Limited</td>\n",
       "      <td>1d</td>\n",
       "      <td>3.6</td>\n",
       "    </tr>\n",
       "    <tr>\n",
       "      <th>3</th>\n",
       "      <td>Grail Insights</td>\n",
       "      <td>2d</td>\n",
       "      <td>3.5</td>\n",
       "    </tr>\n",
       "    <tr>\n",
       "      <th>4</th>\n",
       "      <td>Lenskart</td>\n",
       "      <td>30d+</td>\n",
       "      <td>3.8</td>\n",
       "    </tr>\n",
       "    <tr>\n",
       "      <th>5</th>\n",
       "      <td>Grail Insights</td>\n",
       "      <td>30d+</td>\n",
       "      <td>3.9</td>\n",
       "    </tr>\n",
       "    <tr>\n",
       "      <th>6</th>\n",
       "      <td>Salasar New Age Technologies</td>\n",
       "      <td>24h</td>\n",
       "      <td>3.3</td>\n",
       "    </tr>\n",
       "    <tr>\n",
       "      <th>7</th>\n",
       "      <td>Genpact</td>\n",
       "      <td>6d</td>\n",
       "      <td>4.1</td>\n",
       "    </tr>\n",
       "    <tr>\n",
       "      <th>8</th>\n",
       "      <td>IBM</td>\n",
       "      <td>30d+</td>\n",
       "      <td>3.9</td>\n",
       "    </tr>\n",
       "    <tr>\n",
       "      <th>9</th>\n",
       "      <td>Newgen Software</td>\n",
       "      <td>24h</td>\n",
       "      <td>3.8</td>\n",
       "    </tr>\n",
       "  </tbody>\n",
       "</table>\n",
       "</div>"
      ],
      "text/plain": [
       "                             Comapny Name No of Days Rating\n",
       "0                              Noisy Lion       30d+    3.9\n",
       "1    Liberin Technologies Private Limited         1d    3.5\n",
       "2  AlgoScale Technologies Private Limited         1d    3.6\n",
       "3                          Grail Insights         2d    3.5\n",
       "4                                Lenskart       30d+    3.8\n",
       "5                          Grail Insights       30d+    3.9\n",
       "6            Salasar New Age Technologies        24h    3.3\n",
       "7                                 Genpact         6d    4.1\n",
       "8                                     IBM       30d+    3.9\n",
       "9                         Newgen Software        24h    3.8"
      ]
     },
     "execution_count": 103,
     "metadata": {},
     "output_type": "execute_result"
    }
   ],
   "source": [
    "df3=pd.DataFrame({})\n",
    "df3['Comapny Name']=company[:10]\n",
    "df3['No of Days']=no_days[1:20:2]\n",
    "df3['Rating']=comp_rating[:10]\n",
    "df3\n"
   ]
  },
  {
   "cell_type": "markdown",
   "metadata": {},
   "source": [
    ". No. 5:- Write a python program to scrape the salary data for Data Scientist designation in Noida location. You have to scrape Company name, Number of salaries, Average salary, Min salary, Max Salary.¶\n"
   ]
  },
  {
   "cell_type": "code",
   "execution_count": 154,
   "metadata": {},
   "outputs": [],
   "source": [
    "driver=webdriver.Chrome(r\"C:\\Users\\dell\\Downloads\\chromedriver_win32\\chromedriver.exe\")\n",
    "# opening of web page through URL\n",
    "url=\"https://www.glassdoor.co.in/Salaries/index.htm\"\n",
    "driver.get(url)\n"
   ]
  },
  {
   "cell_type": "code",
   "execution_count": 155,
   "metadata": {},
   "outputs": [],
   "source": [
    "# Extracting the web element of the sign in button and clicking on it.\n",
    "\n",
    "sign_in_tag = driver.find_element_by_xpath('//button[@class=\"d-none d-lg-block p-0 LockedHomeHeaderStyles__signInButton\"]')\n",
    "\n",
    "sign_in_tag.click()"
   ]
  },
  {
   "cell_type": "code",
   "execution_count": 157,
   "metadata": {},
   "outputs": [
    {
     "data": {
      "text/plain": [
       "<selenium.webdriver.remote.webelement.WebElement (session=\"04f0ddd0bce23e05778e6cea85027307\", element=\"bc5525af-cf31-4a73-81c1-0673da7f77dd\")>"
      ]
     },
     "execution_count": 157,
     "metadata": {},
     "output_type": "execute_result"
    }
   ],
   "source": [
    "# Extracting the web element of the email input field.\n",
    "\n",
    "email_tag = driver.find_element_by_xpath('//input[@id=\"userEmail\"]')\n",
    "\n",
    "email_tag"
   ]
  },
  {
   "cell_type": "code",
   "execution_count": 158,
   "metadata": {},
   "outputs": [],
   "source": [
    "# Entering my email id.\n",
    "\n",
    "email_tag.send_keys('rekhaadak@gmail.com')\n"
   ]
  },
  {
   "cell_type": "code",
   "execution_count": 159,
   "metadata": {},
   "outputs": [],
   "source": [
    "# Extracting the web element and entering the password of my account.\n",
    "\n",
    "password_tag = driver.find_element_by_xpath('//input[@id=\"userPassword\"]')\n",
    "\n",
    "password_tag.send_keys('Santosh@1707')\n"
   ]
  },
  {
   "cell_type": "code",
   "execution_count": 160,
   "metadata": {},
   "outputs": [],
   "source": [
    "# Clicking on the sign in button.\n",
    "\n",
    "sign_tag = driver.find_element_by_xpath('//button[@class=\"gd-ui-button minWidthBtn css-8i7bc2\"]')\n",
    "sign_tag.click()"
   ]
  },
  {
   "cell_type": "code",
   "execution_count": 163,
   "metadata": {},
   "outputs": [],
   "source": [
    "# Extracting the web element of the job title search bar\n",
    "\n",
    "jb_src = driver.find_element_by_xpath('//input[@id=\"KeywordSearch\"]')\n",
    "\n",
    "jb_src\n",
    "\n",
    "\n",
    "jb_src.send_keys('Data Scientist')\n"
   ]
  },
  {
   "cell_type": "code",
   "execution_count": 165,
   "metadata": {},
   "outputs": [],
   "source": [
    "# Extracting the web element of the location search bar and entering 'Noida'.\n",
    "\n",
    "loc_src = driver.find_element_by_xpath('//input[@id=\"LocationSearch\"]')\n",
    "\n",
    "\n",
    "loc_src.send_keys('Noida')\n"
   ]
  },
  {
   "cell_type": "code",
   "execution_count": 167,
   "metadata": {},
   "outputs": [],
   "source": [
    "# Now we'll extract the web element of the search button.\n",
    "\n",
    "src_btn = driver.find_element_by_xpath('//button[@class=\"gd-btn-mkt\"]')\n",
    "\n",
    "src_btn\n",
    "src_btn.click()\n"
   ]
  },
  {
   "cell_type": "code",
   "execution_count": 150,
   "metadata": {},
   "outputs": [
    {
     "data": {
      "text/plain": [
       "['Tata Consultancy Services',\n",
       " 'IBM',\n",
       " 'Accenture',\n",
       " 'Delhivery',\n",
       " 'Ericsson-Worldwide',\n",
       " 'UnitedHealth Group',\n",
       " 'Optum',\n",
       " 'Optum Global Solutions',\n",
       " 'Valiance Solutions',\n",
       " 'EXL Service',\n",
       " 'Cognizant Technology Solutions',\n",
       " 'ZS Associates',\n",
       " 'Nagarro',\n",
       " 'Innovaccer',\n",
       " 'OYO',\n",
       " 'dunnhumby',\n",
       " 'Amazon',\n",
       " 'CARS24.com',\n",
       " 'Vidooly Media Tech',\n",
       " 'ParallelDots']"
      ]
     },
     "execution_count": 150,
     "metadata": {},
     "output_type": "execute_result"
    }
   ],
   "source": [
    "comp_name1= driver.find_elements_by_xpath('//a[@class=\"css-f3vw95 e1aj7ssy3\"]')\n",
    "\n",
    "comp_name1\n",
    "company=[]\n",
    "for i in comp_name1:\n",
    "    company.append(i.text)\n",
    "company"
   ]
  },
  {
   "cell_type": "code",
   "execution_count": 132,
   "metadata": {},
   "outputs": [
    {
     "data": {
      "text/plain": [
       "['₹6,31,184',\n",
       " '₹9,08,246',\n",
       " '₹11,93,390',\n",
       " '₹12,49,716',\n",
       " '₹7,58,335',\n",
       " '₹12,80,000',\n",
       " '₹13,55,086',\n",
       " '₹14,55,430',\n",
       " '₹8,86,064',\n",
       " '₹11,10,000',\n",
       " '₹9,62,227',\n",
       " '₹11,71,868',\n",
       " '₹11,01,815',\n",
       " '₹12,40,275',\n",
       " '₹14,51,902',\n",
       " '₹11,30,374',\n",
       " '₹20,63,782',\n",
       " '₹10,80,727',\n",
       " '₹35,040',\n",
       " '₹8,48,220']"
      ]
     },
     "execution_count": 132,
     "metadata": {},
     "output_type": "execute_result"
    }
   ],
   "source": [
    "# Extracting the web elements of the average salary\n",
    "\n",
    "avg_tag5 = driver.find_elements_by_xpath('//div[@class=\"col-12 col-lg-4 px-lg-0 d-flex align-items-baseline\"]//h3')\n",
    "avg_tag5\n",
    "avg_sal\n",
    "for i in avg_tag5:\n",
    "    avg_sal.append(i.text)\n",
    "avg_sal\n",
    "    \n"
   ]
  },
  {
   "cell_type": "code",
   "execution_count": 187,
   "metadata": {},
   "outputs": [
    {
     "data": {
      "text/plain": [
       "['₹4L', '₹1L', '₹6L', '₹5L', '₹4L', '₹8L', '₹8L', '₹10L', '₹5L', '₹6L']"
      ]
     },
     "execution_count": 187,
     "metadata": {},
     "output_type": "execute_result"
    }
   ],
   "source": [
    "# Extracting the web elements of the minimum salary.\n",
    "\n",
    "minmaxsal = driver.find_elements_by_xpath('//div[@class=\"d-flex mt-xxsm css-79elbk epuxyqn0\"]//p')\n",
    "\n",
    "minmax_sal=[]\n",
    "for i in minmaxsal:\n",
    "    minmax_sal.append(i.text)\n",
    "minmax_sal\n"
   ]
  },
  {
   "cell_type": "code",
   "execution_count": 178,
   "metadata": {},
   "outputs": [
    {
     "data": {
      "text/plain": [
       "['3.9',\n",
       " '3.9',\n",
       " '4.1',\n",
       " '3.8',\n",
       " '4',\n",
       " '3.7',\n",
       " '3.7',\n",
       " '3.9',\n",
       " '4.2',\n",
       " '3.6',\n",
       " '3.8',\n",
       " '4',\n",
       " '4',\n",
       " '3.8',\n",
       " '3.3',\n",
       " '4.1',\n",
       " '3.8',\n",
       " '4.1',\n",
       " '3.8',\n",
       " '3.8']"
      ]
     },
     "execution_count": 178,
     "metadata": {},
     "output_type": "execute_result"
    }
   ],
   "source": [
    "rating1=driver.find_elements_by_xpath('//span[@class=\"m-0 css-kyx745\"]')\n",
    "comp_rating=[]\n",
    "\n",
    "for i in rating1:\n",
    "    comp_rating.append(i.text)\n",
    "comp_rating"
   ]
  },
  {
   "cell_type": "code",
   "execution_count": 193,
   "metadata": {},
   "outputs": [
    {
     "data": {
      "text/html": [
       "<div>\n",
       "<style scoped>\n",
       "    .dataframe tbody tr th:only-of-type {\n",
       "        vertical-align: middle;\n",
       "    }\n",
       "\n",
       "    .dataframe tbody tr th {\n",
       "        vertical-align: top;\n",
       "    }\n",
       "\n",
       "    .dataframe thead th {\n",
       "        text-align: right;\n",
       "    }\n",
       "</style>\n",
       "<table border=\"1\" class=\"dataframe\">\n",
       "  <thead>\n",
       "    <tr style=\"text-align: right;\">\n",
       "      <th></th>\n",
       "      <th>Comapany_name</th>\n",
       "      <th>Avarage Salary</th>\n",
       "      <th>Minimum Salary</th>\n",
       "      <th>Maximum Salary</th>\n",
       "      <th>Company rating</th>\n",
       "    </tr>\n",
       "  </thead>\n",
       "  <tbody>\n",
       "    <tr>\n",
       "      <th>0</th>\n",
       "      <td>Tata Consultancy Services</td>\n",
       "      <td>₹6,31,184</td>\n",
       "      <td>₹4L</td>\n",
       "      <td>₹13L</td>\n",
       "      <td>3.9</td>\n",
       "    </tr>\n",
       "    <tr>\n",
       "      <th>1</th>\n",
       "      <td>IBM</td>\n",
       "      <td>₹9,08,246</td>\n",
       "      <td>₹1L</td>\n",
       "      <td>₹28L</td>\n",
       "      <td>3.9</td>\n",
       "    </tr>\n",
       "    <tr>\n",
       "      <th>2</th>\n",
       "      <td>Accenture</td>\n",
       "      <td>₹11,93,390</td>\n",
       "      <td>₹6L</td>\n",
       "      <td>₹23L</td>\n",
       "      <td>4.1</td>\n",
       "    </tr>\n",
       "    <tr>\n",
       "      <th>3</th>\n",
       "      <td>Delhivery</td>\n",
       "      <td>₹12,49,716</td>\n",
       "      <td>₹5L</td>\n",
       "      <td>₹1Cr</td>\n",
       "      <td>3.8</td>\n",
       "    </tr>\n",
       "    <tr>\n",
       "      <th>4</th>\n",
       "      <td>Ericsson-Worldwide</td>\n",
       "      <td>₹7,58,335</td>\n",
       "      <td>₹4L</td>\n",
       "      <td>₹17L</td>\n",
       "      <td>4</td>\n",
       "    </tr>\n",
       "    <tr>\n",
       "      <th>5</th>\n",
       "      <td>UnitedHealth Group</td>\n",
       "      <td>₹12,80,000</td>\n",
       "      <td>₹8L</td>\n",
       "      <td>₹16L</td>\n",
       "      <td>3.7</td>\n",
       "    </tr>\n",
       "    <tr>\n",
       "      <th>6</th>\n",
       "      <td>Optum</td>\n",
       "      <td>₹13,55,086</td>\n",
       "      <td>₹8L</td>\n",
       "      <td>₹20L</td>\n",
       "      <td>3.7</td>\n",
       "    </tr>\n",
       "    <tr>\n",
       "      <th>7</th>\n",
       "      <td>Optum Global Solutions</td>\n",
       "      <td>₹14,55,430</td>\n",
       "      <td>₹10L</td>\n",
       "      <td>₹18L</td>\n",
       "      <td>3.9</td>\n",
       "    </tr>\n",
       "    <tr>\n",
       "      <th>8</th>\n",
       "      <td>Valiance Solutions</td>\n",
       "      <td>₹8,86,064</td>\n",
       "      <td>₹5L</td>\n",
       "      <td>₹15L</td>\n",
       "      <td>4.2</td>\n",
       "    </tr>\n",
       "    <tr>\n",
       "      <th>9</th>\n",
       "      <td>EXL Service</td>\n",
       "      <td>₹11,10,000</td>\n",
       "      <td>₹6L</td>\n",
       "      <td>₹16L</td>\n",
       "      <td>3.6</td>\n",
       "    </tr>\n",
       "  </tbody>\n",
       "</table>\n",
       "</div>"
      ],
      "text/plain": [
       "               Comapany_name Avarage Salary Minimum Salary Maximum Salary  \\\n",
       "0  Tata Consultancy Services      ₹6,31,184            ₹4L           ₹13L   \n",
       "1                        IBM      ₹9,08,246            ₹1L           ₹28L   \n",
       "2                  Accenture     ₹11,93,390            ₹6L           ₹23L   \n",
       "3                  Delhivery     ₹12,49,716            ₹5L           ₹1Cr   \n",
       "4         Ericsson-Worldwide      ₹7,58,335            ₹4L           ₹17L   \n",
       "5         UnitedHealth Group     ₹12,80,000            ₹8L           ₹16L   \n",
       "6                      Optum     ₹13,55,086            ₹8L           ₹20L   \n",
       "7     Optum Global Solutions     ₹14,55,430           ₹10L           ₹18L   \n",
       "8         Valiance Solutions      ₹8,86,064            ₹5L           ₹15L   \n",
       "9                EXL Service     ₹11,10,000            ₹6L           ₹16L   \n",
       "\n",
       "  Company rating  \n",
       "0            3.9  \n",
       "1            3.9  \n",
       "2            4.1  \n",
       "3            3.8  \n",
       "4              4  \n",
       "5            3.7  \n",
       "6            3.7  \n",
       "7            3.9  \n",
       "8            4.2  \n",
       "9            3.6  "
      ]
     },
     "execution_count": 193,
     "metadata": {},
     "output_type": "execute_result"
    }
   ],
   "source": [
    "saldf=pd.DataFrame({})\n",
    "saldf[\"Comapany_name\"]=company[:10]\n",
    "saldf['Avarage Salary']=avg_sal[:10]\n",
    "saldf['Minimum Salary']=minmax_sal[0:20:2]\n",
    "saldf['Maximum Salary']=minmax_sal[1:21:2]\n",
    "saldf['Company rating']=comp_rating[:10]\n",
    "saldf"
   ]
  },
  {
   "cell_type": "markdown",
   "metadata": {},
   "source": [
    "Q6 : Scrape data of first 100 sunglasses listings on flipkart.com. You have to \n",
    "scrape four attributes:\n",
    "1. Brand\n",
    "2. Product Description\n",
    "3. Price\n",
    "4. Discount "
   ]
  },
  {
   "cell_type": "code",
   "execution_count": 44,
   "metadata": {},
   "outputs": [],
   "source": [
    "#Loading the web-page \n",
    "\n",
    "driver=webdriver.Chrome(r\"C:\\Users\\dell\\Downloads\\chromedriver_win32\\chromedriver.exe\")\n",
    "\n",
    "urlflip = 'https://www.flipkart.com/'\n",
    "\n",
    "driver.get(urlflip)\n"
   ]
  },
  {
   "cell_type": "code",
   "execution_count": 45,
   "metadata": {},
   "outputs": [],
   "source": [
    "# Extracting the web element of the search bar.\n",
    "\n",
    "search = driver.find_element_by_xpath('//input[@class=\"_3704LK\"]')\n",
    "search\n",
    " #Entering 'sunglasses' in the search bar.\n",
    "search.send_keys('sunglasses')\n"
   ]
  },
  {
   "cell_type": "code",
   "execution_count": 46,
   "metadata": {},
   "outputs": [],
   "source": [
    "# Clicking on the search button.\n",
    "\n",
    "src_bttn = driver.find_element_by_xpath('//button[@class=\"L0Z3Pu\"]')\n",
    "\n",
    "src_bttn.click()"
   ]
  },
  {
   "cell_type": "code",
   "execution_count": 11,
   "metadata": {},
   "outputs": [
    {
     "data": {
      "text/plain": [
       "['WROGN',\n",
       " 'Villain',\n",
       " 'SHAAH COLLECTIONS',\n",
       " 'PIRASO',\n",
       " 'Elligator',\n",
       " 'kingsunglasses',\n",
       " 'PIRASO',\n",
       " 'LAURELS',\n",
       " 'Fastrack',\n",
       " 'Fastrack',\n",
       " 'ROYAL SON',\n",
       " 'ROZZETTA CRAFT',\n",
       " 'kingsunglasses',\n",
       " 'ROZZETTA CRAFT',\n",
       " 'SHAAH COLLECTIONS',\n",
       " 'AISLIN',\n",
       " 'SHAAH COLLECTIONS',\n",
       " 'Fastrack',\n",
       " 'SUNBEE',\n",
       " 'ROYAL SON',\n",
       " 'NuVew',\n",
       " 'PHENOMENAL',\n",
       " 'kingsunglasses',\n",
       " 'AISLIN',\n",
       " 'DEIXELS',\n",
       " 'ROZZETTA CRAFT',\n",
       " 'Silver Kartz',\n",
       " 'AISLIN',\n",
       " 'PIRASO',\n",
       " 'ROZZETTA CRAFT',\n",
       " 'Rich Club',\n",
       " 'NuVew',\n",
       " 'PIRASO',\n",
       " 'PIRASO',\n",
       " 'Fastrack',\n",
       " 'AISLIN',\n",
       " 'Fastrack',\n",
       " 'OCCARIO',\n",
       " 'ROYAL SON',\n",
       " 'AISLIN']"
      ]
     },
     "execution_count": 11,
     "metadata": {},
     "output_type": "execute_result"
    }
   ],
   "source": [
    "#Extracting the web elements of the brand.\n",
    "\n",
    "brandtag = driver.find_elements_by_xpath('//div[@class=\"_2WkVRV\"]')\n",
    "brandtag\n",
    "# Extracting texts from the web elements.\n",
    "\n",
    "brand_name = []\n",
    "for b in brandtag:\n",
    "    brand_name.append(b.text)   \n",
    "brand_name \n"
   ]
  },
  {
   "cell_type": "code",
   "execution_count": 12,
   "metadata": {},
   "outputs": [
    {
     "data": {
      "text/plain": [
       "40"
      ]
     },
     "execution_count": 12,
     "metadata": {},
     "output_type": "execute_result"
    }
   ],
   "source": [
    "len(brand_name)"
   ]
  },
  {
   "cell_type": "code",
   "execution_count": 16,
   "metadata": {},
   "outputs": [
    {
     "data": {
      "text/plain": [
       "['UV Protection Aviator Sunglasses (60)',\n",
       " 'Others Wayfarer Sunglasses (Free Size)',\n",
       " 'UV Protection, Polarized, Mirrored Rectangular Sunglass...',\n",
       " 'UV Protection Aviator Sunglasses (54)',\n",
       " 'UV Protection Round Sunglasses (54)',\n",
       " 'Mirrored, UV Protection Wayfarer Sunglasses (Free Size)',\n",
       " 'UV Protection Aviator Sunglasses (54)',\n",
       " 'UV Protection Wayfarer Sunglasses (53)',\n",
       " 'Gradient, UV Protection Wayfarer Sunglasses (Free Size)',\n",
       " 'UV Protection Wayfarer Sunglasses (Free Size)',\n",
       " 'UV Protection Rectangular Sunglasses (58)',\n",
       " 'UV Protection, Gradient Retro Square Sunglasses (Free S...',\n",
       " 'UV Protection Round Sunglasses (54)',\n",
       " 'UV Protection, Gradient Rectangular Sunglasses (Free Si...',\n",
       " 'UV Protection Round Sunglasses (Free Size)',\n",
       " 'UV Protection, Polarized, Mirrored Rectangular Sunglass...',\n",
       " 'UV Protection Aviator Sunglasses (Free Size)',\n",
       " 'UV Protection, Polarized, Mirrored Wayfarer Sunglasses ...',\n",
       " 'Polarized, UV Protection Aviator Sunglasses (58)',\n",
       " 'UV Protection, Mirrored Aviator Sunglasses (58)',\n",
       " 'UV Protection Retro Square Sunglasses (Free Size)',\n",
       " 'Mirrored, UV Protection Wayfarer Sunglasses (Free Size)',\n",
       " 'UV Protection, Gradient Butterfly, Retro Square Sunglas...',\n",
       " 'UV Protection Aviator, Wayfarer Sunglasses (Free Size)',\n",
       " 'UV Protection Retro Square Sunglasses (Free Size)',\n",
       " 'UV Protection Wayfarer Sunglasses (Free Size)',\n",
       " 'UV Protection, Gradient Round, Cat-eye Sunglasses (60)',\n",
       " 'UV Protection Aviator Sunglasses (54)',\n",
       " 'UV Protection, Riding Glasses Rectangular Sunglasses (F...',\n",
       " 'UV Protection, Mirrored, Gradient Round Sunglasses (51)',\n",
       " 'UV Protection, Night Vision, Riding Glasses, Polarized ...',\n",
       " 'UV Protection Aviator Sunglasses (58)',\n",
       " 'UV Protection Butterfly Sunglasses (65)',\n",
       " 'UV Protection Wayfarer Sunglasses (Free Size)',\n",
       " 'UV Protection Aviator Sunglasses (60)',\n",
       " 'UV Protection Wayfarer Sunglasses (57)',\n",
       " 'Others Round Sunglasses (52)',\n",
       " 'Mirrored Aviator Sunglasses (55)',\n",
       " 'UV Protection, Gradient Oval Sunglasses (58)']"
      ]
     },
     "execution_count": 16,
     "metadata": {},
     "output_type": "execute_result"
    }
   ],
   "source": [
    "#Extracting the web elements of the product description.\n",
    "\n",
    "pdt_desc = driver.find_elements_by_xpath('//a[@class=\"IRpwTa\"]')\n",
    "pdt_desc\n",
    "\n",
    "pdtdesc=[]\n",
    "for i in pdt_desc:\n",
    "    pdtdesc.append(i.text)\n",
    "pdtdesc"
   ]
  },
  {
   "cell_type": "code",
   "execution_count": 17,
   "metadata": {},
   "outputs": [
    {
     "data": {
      "text/plain": [
       "39"
      ]
     },
     "execution_count": 17,
     "metadata": {},
     "output_type": "execute_result"
    }
   ],
   "source": [
    "len(pdtdesc)"
   ]
  },
  {
   "cell_type": "code",
   "execution_count": 20,
   "metadata": {},
   "outputs": [
    {
     "data": {
      "text/plain": [
       "['₹3,086',\n",
       " '₹599',\n",
       " '₹198',\n",
       " '₹237',\n",
       " '₹329',\n",
       " '₹284',\n",
       " '₹237',\n",
       " '₹329',\n",
       " '₹509',\n",
       " '₹758',\n",
       " '₹474',\n",
       " '₹404',\n",
       " '₹213',\n",
       " '₹404',\n",
       " '₹331',\n",
       " '₹498',\n",
       " '₹215',\n",
       " '₹520',\n",
       " '₹265',\n",
       " '₹711',\n",
       " '₹186',\n",
       " '₹399',\n",
       " '₹284',\n",
       " '₹498',\n",
       " '₹202',\n",
       " '₹499',\n",
       " '₹246',\n",
       " '₹498',\n",
       " '₹237',\n",
       " '₹449',\n",
       " '₹215',\n",
       " '₹375',\n",
       " '₹399',\n",
       " '₹449',\n",
       " '₹854',\n",
       " '₹450',\n",
       " '₹499',\n",
       " '₹179',\n",
       " '₹379',\n",
       " '₹495']"
      ]
     },
     "execution_count": 20,
     "metadata": {},
     "output_type": "execute_result"
    }
   ],
   "source": [
    "# Extracting the web elements of the price.\n",
    "\n",
    "prc_tag = driver.find_elements_by_xpath('//div[@class=\"_30jeq3\"]')\n",
    "\n",
    "prc_tag\n",
    "pdt_price=[]\n",
    "for i in prc_tag:\n",
    "    pdt_price.append(i.text)\n",
    "pdt_price"
   ]
  },
  {
   "cell_type": "code",
   "execution_count": 21,
   "metadata": {},
   "outputs": [
    {
     "data": {
      "text/plain": [
       "40"
      ]
     },
     "execution_count": 21,
     "metadata": {},
     "output_type": "execute_result"
    }
   ],
   "source": [
    "len(pdt_price)"
   ]
  },
  {
   "cell_type": "code",
   "execution_count": 23,
   "metadata": {},
   "outputs": [
    {
     "data": {
      "text/plain": [
       "['5% off',\n",
       " '40% off',\n",
       " '88% off',\n",
       " '85% off',\n",
       " '86% off',\n",
       " '89% off',\n",
       " '85% off',\n",
       " '72% off',\n",
       " '36% off',\n",
       " '15% off',\n",
       " '68% off',\n",
       " '79% off',\n",
       " '80% off',\n",
       " '79% off',\n",
       " '80% off',\n",
       " '70% off',\n",
       " '78% off',\n",
       " '34% off',\n",
       " '73% off',\n",
       " '64% off',\n",
       " '78% off',\n",
       " '80% off',\n",
       " '89% off',\n",
       " '67% off',\n",
       " '83% off',\n",
       " '77% off',\n",
       " '83% off',\n",
       " '70% off',\n",
       " '85% off',\n",
       " '79% off',\n",
       " '73% off',\n",
       " '77% off',\n",
       " '84% off',\n",
       " '82% off',\n",
       " '5% off',\n",
       " '72% off',\n",
       " '37% off',\n",
       " '69% off',\n",
       " '74% off',\n",
       " '67% off']"
      ]
     },
     "execution_count": 23,
     "metadata": {},
     "output_type": "execute_result"
    }
   ],
   "source": [
    "#Extracting the web elements of the %Discount.\n",
    "\n",
    "disctag = driver.find_elements_by_xpath('//div[@class=\"_3Ay6Sb\"]')\n",
    "disctag\n",
    "\n",
    "dis=[]\n",
    "for i in disctag:\n",
    "    dis.append(i.text)\n",
    "dis"
   ]
  },
  {
   "cell_type": "code",
   "execution_count": 24,
   "metadata": {},
   "outputs": [
    {
     "data": {
      "text/plain": [
       "40"
      ]
     },
     "execution_count": 24,
     "metadata": {},
     "output_type": "execute_result"
    }
   ],
   "source": [
    "len(dis)"
   ]
  },
  {
   "cell_type": "code",
   "execution_count": 47,
   "metadata": {},
   "outputs": [],
   "source": [
    "# web element for next button\n",
    "\n",
    "nxt_btn1 = driver.find_element_by_xpath('//a[@class=\"_1LKTO3\"]')\n",
    "\n",
    "nxt_btn1.click()\n"
   ]
  },
  {
   "cell_type": "code",
   "execution_count": 28,
   "metadata": {},
   "outputs": [
    {
     "data": {
      "text/plain": [
       "['hipe',\n",
       " 'HIPPON',\n",
       " 'Elligator',\n",
       " 'WROGN',\n",
       " 'GANSTA',\n",
       " 'Singco India',\n",
       " 'ROZZETTA CRAFT',\n",
       " 'Villain',\n",
       " 'kingsunglasses',\n",
       " 'SUNBEE',\n",
       " 'kingsunglasses',\n",
       " 'AISLIN',\n",
       " 'Elligator',\n",
       " 'hipe',\n",
       " 'hipe',\n",
       " 'ROZZETTA CRAFT',\n",
       " 'PHENOMENAL',\n",
       " 'kingsunglasses',\n",
       " 'kingsunglasses',\n",
       " 'AISLIN',\n",
       " 'Elligator',\n",
       " 'kingsunglasses',\n",
       " 'PHENOMENAL',\n",
       " 'AISLIN',\n",
       " 'Fastrack',\n",
       " 'Elligator',\n",
       " 'ROYAL SON',\n",
       " 'ROYAL SON',\n",
       " 'SUNBEE',\n",
       " 'Singco',\n",
       " 'PIRASO',\n",
       " 'NuVew',\n",
       " 'Silver Kartz',\n",
       " 'Fastrack',\n",
       " 'ROYAL SON',\n",
       " 'AISLIN',\n",
       " 'SRPM',\n",
       " 'NuVew',\n",
       " 'Singco India',\n",
       " 'NuVew']"
      ]
     },
     "execution_count": 28,
     "metadata": {},
     "output_type": "execute_result"
    }
   ],
   "source": [
    "#Extracting the web elements of the brand name from the 2nd page.\n",
    "\n",
    "brandtag2 = driver.find_elements_by_xpath('//div[@class=\"_2WkVRV\"]')\n",
    "brandtag2\n",
    "\n",
    "brand2=[]\n",
    "for i in brandtag2:\n",
    "    brand2.append(i.text)\n",
    "brand2"
   ]
  },
  {
   "cell_type": "code",
   "execution_count": 29,
   "metadata": {},
   "outputs": [
    {
     "data": {
      "text/plain": [
       "40"
      ]
     },
     "execution_count": 29,
     "metadata": {},
     "output_type": "execute_result"
    }
   ],
   "source": [
    "len(brand2)"
   ]
  },
  {
   "cell_type": "code",
   "execution_count": 32,
   "metadata": {},
   "outputs": [
    {
     "data": {
      "text/plain": [
       "['UV Protection, Gradient, Mirrored, Riding Glasses Aviat...',\n",
       " 'UV Protection Wayfarer Sunglasses (55)',\n",
       " 'Mirrored Round Sunglasses (53)',\n",
       " 'UV Protection Aviator Sunglasses (60)',\n",
       " 'UV Protection, Night Vision, Riding Glasses Aviator Sun...',\n",
       " 'UV Protection Aviator Sunglasses (Free Size)',\n",
       " 'UV Protection, Gradient Round Sunglasses (Free Size)',\n",
       " 'Others Wayfarer Sunglasses (Free Size)',\n",
       " 'UV Protection Round Sunglasses (Free Size)',\n",
       " 'UV Protection, Polarized, Mirrored Wayfarer Sunglasses ...',\n",
       " 'UV Protection Rectangular Sunglasses (55)',\n",
       " 'UV Protection, Riding Glasses Rectangular, Retro Square...',\n",
       " 'UV Protection, Night Vision, Riding Glasses, Gradient, ...',\n",
       " 'UV Protection, Night Vision, Gradient, Mirrored Round, ...',\n",
       " 'UV Protection, Gradient Retro Square Sunglasses (Free S...',\n",
       " 'UV Protection Round Sunglasses (53)',\n",
       " 'UV Protection, Mirrored Round Sunglasses (54)',\n",
       " 'UV Protection, Mirrored Round Sunglasses (Free Size)',\n",
       " 'UV Protection, Gradient Butterfly, Retro Square Sunglas...',\n",
       " 'UV Protection Round Sunglasses (55)',\n",
       " 'UV Protection Rectangular Sunglasses (Free Size)',\n",
       " 'UV Protection, Mirrored Retro Square Sunglasses (53)',\n",
       " 'UV Protection, Gradient Round, Cat-eye Sunglasses (60)',\n",
       " 'UV Protection Aviator Sunglasses (Free Size)',\n",
       " 'UV Protection, Riding Glasses Rectangular, Retro Square...',\n",
       " 'UV Protection Retro Square Sunglasses (58)',\n",
       " 'Polarized, UV Protection Aviator Sunglasses (58)',\n",
       " 'UV Protection, Polarized, Mirrored Wayfarer Sunglasses ...',\n",
       " 'Mirrored Aviator Sunglasses (53)',\n",
       " 'UV Protection Aviator Sunglasses (Free Size)',\n",
       " 'UV Protection, Night Vision, Riding Glasses, Polarized ...',\n",
       " 'UV Protection Oval Sunglasses (56)',\n",
       " 'UV Protection Aviator Sunglasses (58)',\n",
       " 'UV Protection Retro Square Sunglasses (88)',\n",
       " 'UV Protection Aviator Sunglasses (60)',\n",
       " 'UV Protection Wayfarer Sunglasses (53)',\n",
       " 'UV Protection Aviator Sunglasses (58)',\n",
       " 'Riding Glasses, Others, UV Protection Wrap-around Sungl...',\n",
       " 'UV Protection Cat-eye Sunglasses (60)']"
      ]
     },
     "execution_count": 32,
     "metadata": {},
     "output_type": "execute_result"
    }
   ],
   "source": [
    "# Extracting the web elements of the product description.\n",
    "\n",
    "pddes2 = driver.find_elements_by_xpath('//a[@class=\"IRpwTa\"]')\n",
    "pddes2\n",
    "\n",
    "desc2=[]\n",
    "for i in pddes2:\n",
    "    desc2.append(i.text)\n",
    "desc2\n"
   ]
  },
  {
   "cell_type": "code",
   "execution_count": 33,
   "metadata": {},
   "outputs": [
    {
     "data": {
      "text/plain": [
       "39"
      ]
     },
     "execution_count": 33,
     "metadata": {},
     "output_type": "execute_result"
    }
   ],
   "source": [
    "len(desc2)"
   ]
  },
  {
   "cell_type": "code",
   "execution_count": 34,
   "metadata": {},
   "outputs": [
    {
     "data": {
      "text/plain": [
       "['₹209',\n",
       " '₹257',\n",
       " '₹355',\n",
       " '₹3,086',\n",
       " '₹295',\n",
       " '₹334',\n",
       " '₹449',\n",
       " '₹599',\n",
       " '₹331',\n",
       " '₹284',\n",
       " '₹199',\n",
       " '₹498',\n",
       " '₹443',\n",
       " '₹210',\n",
       " '₹210',\n",
       " '₹404',\n",
       " '₹295',\n",
       " '₹236',\n",
       " '₹274',\n",
       " '₹498',\n",
       " '₹266',\n",
       " '₹197',\n",
       " '₹399',\n",
       " '₹498',\n",
       " '₹695',\n",
       " '₹443',\n",
       " '₹474',\n",
       " '₹711',\n",
       " '₹314',\n",
       " '₹239',\n",
       " '₹331',\n",
       " '₹375',\n",
       " '₹284',\n",
       " '₹1,085',\n",
       " '₹569',\n",
       " '₹450',\n",
       " '₹230',\n",
       " '₹202',\n",
       " '₹293',\n",
       " '₹403']"
      ]
     },
     "execution_count": 34,
     "metadata": {},
     "output_type": "execute_result"
    }
   ],
   "source": [
    "# Extracting the web elements of the price second page.\n",
    "\n",
    "prc_tag2 = driver.find_elements_by_xpath('//div[@class=\"_30jeq3\"]')\n",
    "\n",
    "prc_tag2\n",
    "pdt_price2=[]\n",
    "for i in prc_tag2:\n",
    "    pdt_price2.append(i.text)\n",
    "pdt_price2"
   ]
  },
  {
   "cell_type": "code",
   "execution_count": 35,
   "metadata": {},
   "outputs": [
    {
     "data": {
      "text/plain": [
       "40"
      ]
     },
     "execution_count": 35,
     "metadata": {},
     "output_type": "execute_result"
    }
   ],
   "source": [
    "len(pdt_price2)"
   ]
  },
  {
   "cell_type": "code",
   "execution_count": 36,
   "metadata": {},
   "outputs": [
    {
     "data": {
      "text/plain": [
       "['79% off',\n",
       " '78% off',\n",
       " '85% off',\n",
       " '5% off',\n",
       " '85% off',\n",
       " '72% off',\n",
       " '77% off',\n",
       " '40% off',\n",
       " '79% off',\n",
       " '71% off',\n",
       " '84% off',\n",
       " '70% off',\n",
       " '70% off',\n",
       " '83% off',\n",
       " '78% off',\n",
       " '79% off',\n",
       " '87% off',\n",
       " '80% off',\n",
       " '83% off',\n",
       " '67% off',\n",
       " '86% off',\n",
       " '83% off',\n",
       " '80% off',\n",
       " '70% off',\n",
       " '13% off',\n",
       " '70% off',\n",
       " '68% off',\n",
       " '64% off',\n",
       " '75% off',\n",
       " '76% off',\n",
       " '79% off',\n",
       " '77% off',\n",
       " '76% off',\n",
       " '16% off',\n",
       " '71% off',\n",
       " '72% off',\n",
       " '76% off',\n",
       " '74% off',\n",
       " '82% off',\n",
       " '72% off']"
      ]
     },
     "execution_count": 36,
     "metadata": {},
     "output_type": "execute_result"
    }
   ],
   "source": [
    "#Extracting the web elements of the %Discount.\n",
    "\n",
    "disctag2 = driver.find_elements_by_xpath('//div[@class=\"_3Ay6Sb\"]')\n",
    "disctag2\n",
    "\n",
    "dis2=[]\n",
    "for i in disctag2:\n",
    "    dis2.append(i.text)\n",
    "dis2"
   ]
  },
  {
   "cell_type": "code",
   "execution_count": 37,
   "metadata": {},
   "outputs": [
    {
     "data": {
      "text/plain": [
       "40"
      ]
     },
     "execution_count": 37,
     "metadata": {},
     "output_type": "execute_result"
    }
   ],
   "source": [
    "len(dis2)"
   ]
  },
  {
   "cell_type": "code",
   "execution_count": 48,
   "metadata": {},
   "outputs": [],
   "source": [
    "# Now we'll move to the 3rd page.\n",
    "\n",
    "nxt_btn2 = driver.find_element_by_xpath('//*[@id=\"container\"]/div/div[3]/div[1]/div[2]/div[12]/div/div/nav/a[3]')\n",
    "nxt_btn2\n",
    "nxt_btn2.click()\n"
   ]
  },
  {
   "cell_type": "code",
   "execution_count": 51,
   "metadata": {},
   "outputs": [
    {
     "data": {
      "text/plain": [
       "['Elligator',\n",
       " 'HIPPON',\n",
       " 'SUNBEE',\n",
       " 'LIZA ANGEL',\n",
       " 'kingsunglasses',\n",
       " 'hipe',\n",
       " 'GANSTA',\n",
       " 'NuVew',\n",
       " 'ROZZETTA CRAFT',\n",
       " 'Elligator',\n",
       " 'hipe',\n",
       " 'NuVew',\n",
       " 'kingsunglasses',\n",
       " 'Elligator',\n",
       " 'Singco India',\n",
       " 'AISLIN',\n",
       " 'hipe',\n",
       " 'PHENOMENAL',\n",
       " 'kingsunglasses',\n",
       " 'NuVew',\n",
       " 'kingsunglasses',\n",
       " 'Elligator',\n",
       " 'PHENOMENAL',\n",
       " 'NuVew',\n",
       " 'Fastrack',\n",
       " 'SUNBEE',\n",
       " 'ROYAL SON',\n",
       " 'ROZZETTA CRAFT',\n",
       " 'kingsunglasses',\n",
       " 'kingsunglasses',\n",
       " 'Fastrack',\n",
       " 'NuVew',\n",
       " 'ROYAL SON',\n",
       " 'SRPM',\n",
       " 'PIRASO',\n",
       " 'VINCENT CHASE',\n",
       " 'Singco',\n",
       " 'Silver Kartz',\n",
       " 'povty',\n",
       " 'AISLIN']"
      ]
     },
     "execution_count": 51,
     "metadata": {},
     "output_type": "execute_result"
    }
   ],
   "source": [
    "#Extracting the web elements of the brand name from the 3nd page.\n",
    "\n",
    "\n",
    "brand_tag3 = driver.find_elements_by_xpath('//div[@class=\"_2WkVRV\"]')\n",
    "brand_tag3\n",
    "\n",
    "brand3\n",
    "for i in brand_tag3:\n",
    "    brand3.append(i.text)\n",
    "brand3"
   ]
  },
  {
   "cell_type": "code",
   "execution_count": 52,
   "metadata": {},
   "outputs": [
    {
     "data": {
      "text/plain": [
       "['Mirrored Round Sunglasses (53)',\n",
       " 'UV Protection Wayfarer Sunglasses (55)',\n",
       " 'UV Protection, Polarized, Mirrored Wayfarer Sunglasses ...',\n",
       " 'UV Protection Round Sunglasses (Free Size)',\n",
       " 'UV Protection, Gradient, Mirrored, Riding Glasses Aviat...',\n",
       " 'UV Protection, Night Vision, Riding Glasses Aviator Sun...',\n",
       " 'UV Protection Sports Sunglasses (73)',\n",
       " 'UV Protection, Gradient Round Sunglasses (Free Size)',\n",
       " 'UV Protection Round Sunglasses (55)',\n",
       " 'UV Protection, Night Vision, Riding Glasses, Gradient, ...',\n",
       " 'UV Protection, Mirrored Aviator Sunglasses (58)',\n",
       " 'UV Protection Rectangular Sunglasses (55)',\n",
       " 'UV Protection, Riding Glasses Rectangular, Retro Square...',\n",
       " 'UV Protection Aviator Sunglasses (Free Size)',\n",
       " 'UV Protection, Gradient Aviator Sunglasses (56)',\n",
       " 'UV Protection, Night Vision, Gradient, Mirrored Round, ...',\n",
       " 'UV Protection, Mirrored Retro Square Sunglasses (53)',\n",
       " 'UV Protection, Mirrored Round Sunglasses (54)',\n",
       " 'UV Protection, Gradient, Night Vision, Mirrored Aviator...',\n",
       " 'UV Protection, Mirrored Round Sunglasses (Free Size)',\n",
       " 'UV Protection, Riding Glasses Rectangular, Retro Square...',\n",
       " 'UV Protection Round Sunglasses (53)',\n",
       " 'UV Protection Aviator Sunglasses (Free Size)',\n",
       " 'UV Protection Aviator Sunglasses (Free Size)',\n",
       " 'UV Protection, Polarized, Mirrored Wayfarer Sunglasses ...',\n",
       " 'UV Protection Retro Square Sunglasses (58)',\n",
       " 'UV Protection, Gradient Retro Square Sunglasses (Free S...',\n",
       " 'UV Protection Rectangular Sunglasses (Free Size)',\n",
       " 'UV Protection Rectangular Sunglasses (Free Size)',\n",
       " 'UV Protection Aviator Sunglasses (58)',\n",
       " 'Polarized, UV Protection Aviator Sunglasses (58)',\n",
       " 'UV Protection Retro Square Sunglasses (88)',\n",
       " 'UV Protection Wayfarer Sunglasses (53)',\n",
       " 'UV Protection Aviator Sunglasses (Free Size)',\n",
       " 'UV Protection, Polarized Aviator Sunglasses (56)',\n",
       " 'Mirrored Aviator Sunglasses (53)',\n",
       " 'UV Protection Oval Sunglasses (56)',\n",
       " 'UV Protection Wayfarer Sunglasses (Free Size)',\n",
       " 'Polarized, UV Protection Wayfarer, Rectangular Sunglass...']"
      ]
     },
     "execution_count": 52,
     "metadata": {},
     "output_type": "execute_result"
    }
   ],
   "source": [
    "# Extracting the web elements of the product description on the 3rd page.\n",
    "\n",
    "pddes3 = driver.find_elements_by_xpath('//a[@class=\"IRpwTa\"]')\n",
    "\n",
    "pddes3\n",
    "productdesc3 = []\n",
    "\n",
    "for i in pddes3:\n",
    "    productdesc3.append(i.text)\n",
    "    \n",
    "productdesc3"
   ]
  },
  {
   "cell_type": "code",
   "execution_count": 53,
   "metadata": {},
   "outputs": [
    {
     "data": {
      "text/plain": [
       "['₹312',\n",
       " '₹257',\n",
       " '₹284',\n",
       " '₹479',\n",
       " '₹314',\n",
       " '₹209',\n",
       " '₹279',\n",
       " '₹355',\n",
       " '₹449',\n",
       " '₹266',\n",
       " '₹210',\n",
       " '₹398',\n",
       " '₹189',\n",
       " '₹398',\n",
       " '₹334',\n",
       " '₹675',\n",
       " '₹210',\n",
       " '₹399',\n",
       " '₹224',\n",
       " '₹365',\n",
       " '₹260',\n",
       " '₹398',\n",
       " '₹295',\n",
       " '₹396',\n",
       " '₹695',\n",
       " '₹314',\n",
       " '₹474',\n",
       " '₹404',\n",
       " '₹206',\n",
       " '₹189',\n",
       " '₹1,085',\n",
       " '₹298',\n",
       " '₹569',\n",
       " '₹230',\n",
       " '₹314',\n",
       " '₹1,415',\n",
       " '₹239',\n",
       " '₹284',\n",
       " '₹349',\n",
       " '₹625']"
      ]
     },
     "execution_count": 53,
     "metadata": {},
     "output_type": "execute_result"
    }
   ],
   "source": [
    "# Extracting the web elements of the price third page.\n",
    "\n",
    "prc_tag3 = driver.find_elements_by_xpath('//div[@class=\"_30jeq3\"]')\n",
    "\n",
    "prc_tag3\n",
    "pdt_price3=[]\n",
    "for i in prc_tag3:\n",
    "    pdt_price3.append(i.text)\n",
    "pdt_price3"
   ]
  },
  {
   "cell_type": "code",
   "execution_count": 54,
   "metadata": {},
   "outputs": [
    {
     "data": {
      "text/plain": [
       "['87% off',\n",
       " '78% off',\n",
       " '71% off',\n",
       " '63% off',\n",
       " '80% off',\n",
       " '79% off',\n",
       " '86% off',\n",
       " '71% off',\n",
       " '77% off',\n",
       " '86% off',\n",
       " '83% off',\n",
       " '68% off',\n",
       " '85% off',\n",
       " '73% off',\n",
       " '72% off',\n",
       " '76% off',\n",
       " '78% off',\n",
       " '80% off',\n",
       " '81% off',\n",
       " '68% off',\n",
       " '84% off',\n",
       " '73% off',\n",
       " '87% off',\n",
       " '68% off',\n",
       " '13% off',\n",
       " '75% off',\n",
       " '68% off',\n",
       " '79% off',\n",
       " '81% off',\n",
       " '84% off',\n",
       " '16% off',\n",
       " '80% off',\n",
       " '71% off',\n",
       " '76% off',\n",
       " '80% off',\n",
       " '29% off',\n",
       " '76% off',\n",
       " '76% off',\n",
       " '65% off',\n",
       " '74% off']"
      ]
     },
     "execution_count": 54,
     "metadata": {},
     "output_type": "execute_result"
    }
   ],
   "source": [
    "#Extracting the web elements of the %Discount third page.\n",
    "\n",
    "disctag3 = driver.find_elements_by_xpath('//div[@class=\"_3Ay6Sb\"]')\n",
    "disctag3\n",
    "\n",
    "dis3=[]\n",
    "for i in disctag3:\n",
    "    dis3.append(i.text)\n",
    "dis3"
   ]
  },
  {
   "cell_type": "code",
   "execution_count": 67,
   "metadata": {},
   "outputs": [
    {
     "data": {
      "text/html": [
       "<div>\n",
       "<style scoped>\n",
       "    .dataframe tbody tr th:only-of-type {\n",
       "        vertical-align: middle;\n",
       "    }\n",
       "\n",
       "    .dataframe tbody tr th {\n",
       "        vertical-align: top;\n",
       "    }\n",
       "\n",
       "    .dataframe thead th {\n",
       "        text-align: right;\n",
       "    }\n",
       "</style>\n",
       "<table border=\"1\" class=\"dataframe\">\n",
       "  <thead>\n",
       "    <tr style=\"text-align: right;\">\n",
       "      <th></th>\n",
       "      <th>Brand Name</th>\n",
       "      <th>Product Description</th>\n",
       "      <th>Price</th>\n",
       "      <th>discount</th>\n",
       "    </tr>\n",
       "  </thead>\n",
       "  <tbody>\n",
       "    <tr>\n",
       "      <th>0</th>\n",
       "      <td>WROGN</td>\n",
       "      <td>UV Protection Aviator Sunglasses (60)</td>\n",
       "      <td>₹3,086</td>\n",
       "      <td>5% off</td>\n",
       "    </tr>\n",
       "    <tr>\n",
       "      <th>1</th>\n",
       "      <td>Villain</td>\n",
       "      <td>Others Wayfarer Sunglasses (Free Size)</td>\n",
       "      <td>₹599</td>\n",
       "      <td>40% off</td>\n",
       "    </tr>\n",
       "    <tr>\n",
       "      <th>2</th>\n",
       "      <td>SHAAH COLLECTIONS</td>\n",
       "      <td>UV Protection, Polarized, Mirrored Rectangular...</td>\n",
       "      <td>₹198</td>\n",
       "      <td>88% off</td>\n",
       "    </tr>\n",
       "    <tr>\n",
       "      <th>3</th>\n",
       "      <td>PIRASO</td>\n",
       "      <td>UV Protection Aviator Sunglasses (54)</td>\n",
       "      <td>₹237</td>\n",
       "      <td>85% off</td>\n",
       "    </tr>\n",
       "    <tr>\n",
       "      <th>4</th>\n",
       "      <td>Elligator</td>\n",
       "      <td>UV Protection Round Sunglasses (54)</td>\n",
       "      <td>₹329</td>\n",
       "      <td>86% off</td>\n",
       "    </tr>\n",
       "    <tr>\n",
       "      <th>...</th>\n",
       "      <td>...</td>\n",
       "      <td>...</td>\n",
       "      <td>...</td>\n",
       "      <td>...</td>\n",
       "    </tr>\n",
       "    <tr>\n",
       "      <th>95</th>\n",
       "      <td>AISLIN</td>\n",
       "      <td>UV Protection, Mirrored Round Sunglasses (54)</td>\n",
       "      <td>₹675</td>\n",
       "      <td>76% off</td>\n",
       "    </tr>\n",
       "    <tr>\n",
       "      <th>96</th>\n",
       "      <td>hipe</td>\n",
       "      <td>UV Protection, Gradient, Night Vision, Mirrore...</td>\n",
       "      <td>₹210</td>\n",
       "      <td>78% off</td>\n",
       "    </tr>\n",
       "    <tr>\n",
       "      <th>97</th>\n",
       "      <td>PHENOMENAL</td>\n",
       "      <td>UV Protection, Mirrored Round Sunglasses (Free...</td>\n",
       "      <td>₹399</td>\n",
       "      <td>80% off</td>\n",
       "    </tr>\n",
       "    <tr>\n",
       "      <th>98</th>\n",
       "      <td>kingsunglasses</td>\n",
       "      <td>UV Protection, Riding Glasses Rectangular, Ret...</td>\n",
       "      <td>₹224</td>\n",
       "      <td>81% off</td>\n",
       "    </tr>\n",
       "    <tr>\n",
       "      <th>99</th>\n",
       "      <td>NuVew</td>\n",
       "      <td>UV Protection Round Sunglasses (53)</td>\n",
       "      <td>₹365</td>\n",
       "      <td>68% off</td>\n",
       "    </tr>\n",
       "  </tbody>\n",
       "</table>\n",
       "<p>100 rows × 4 columns</p>\n",
       "</div>"
      ],
      "text/plain": [
       "           Brand Name                                Product Description  \\\n",
       "0               WROGN              UV Protection Aviator Sunglasses (60)   \n",
       "1             Villain             Others Wayfarer Sunglasses (Free Size)   \n",
       "2   SHAAH COLLECTIONS  UV Protection, Polarized, Mirrored Rectangular...   \n",
       "3              PIRASO              UV Protection Aviator Sunglasses (54)   \n",
       "4           Elligator                UV Protection Round Sunglasses (54)   \n",
       "..                ...                                                ...   \n",
       "95             AISLIN      UV Protection, Mirrored Round Sunglasses (54)   \n",
       "96               hipe  UV Protection, Gradient, Night Vision, Mirrore...   \n",
       "97         PHENOMENAL  UV Protection, Mirrored Round Sunglasses (Free...   \n",
       "98     kingsunglasses  UV Protection, Riding Glasses Rectangular, Ret...   \n",
       "99              NuVew                UV Protection Round Sunglasses (53)   \n",
       "\n",
       "     Price discount  \n",
       "0   ₹3,086   5% off  \n",
       "1     ₹599  40% off  \n",
       "2     ₹198  88% off  \n",
       "3     ₹237  85% off  \n",
       "4     ₹329  86% off  \n",
       "..     ...      ...  \n",
       "95    ₹675  76% off  \n",
       "96    ₹210  78% off  \n",
       "97    ₹399  80% off  \n",
       "98    ₹224  81% off  \n",
       "99    ₹365  68% off  \n",
       "\n",
       "[100 rows x 4 columns]"
      ]
     },
     "execution_count": 67,
     "metadata": {},
     "output_type": "execute_result"
    }
   ],
   "source": [
    "#combining data of all pages together\n",
    "\n",
    "brand_name4=brand_name+brand2+brand3\n",
    "prod_desc4=pdtdesc+desc2+productdesc3\n",
    "price4=pdt_price+pdt_price2+pdt_price3\n",
    "discount=dis+dis2+dis3\n",
    "\n",
    "#storing data in dataframe\n",
    "\n",
    "sun_df=pd.DataFrame({})\n",
    "sun_df[\"Brand Name\"]=brand_name4[:100]\n",
    "sun_df['Product Description']=prod_desc4[:100]\n",
    "sun_df['Price']=price4[:100]\n",
    "sun_df['discount']=discount[:100]\n",
    "sun_df\n"
   ]
  },
  {
   "cell_type": "markdown",
   "metadata": {},
   "source": [
    "Q.No. 7 :- Scrape 100 reviews data from flipkart.com for iphone11 phone. You have to go the link: https://www.flipkart.com/apple-iphone-11-black-64-gb-includesearpods-poweradapter/p/itm0f37c2240b217?pid=MOBFKCTSVZAXUHGR&lid=LSTMOBFKCTSVZAXUHGREPBFGI&marketplace.\n"
   ]
  },
  {
   "cell_type": "code",
   "execution_count": 68,
   "metadata": {},
   "outputs": [],
   "source": [
    "url7 = 'https://www.flipkart.com/apple-iphone-11-black-64-gb-includes%02earpods-power%02adapter/p/itm0f37c2240b217?pid=MOBFKCTSVZAXUHGR&lid=LSTMOBFKC%20TSVZAXUHGREPBFGI&marketplace'\n",
    "\n",
    "driver.get(url7)"
   ]
  },
  {
   "cell_type": "code",
   "execution_count": 70,
   "metadata": {},
   "outputs": [],
   "source": [
    "# Extracting the web elements of the button to view 'All review'.\n",
    "\n",
    "rating_btn = driver.find_element_by_xpath('//div[@class=\"_3UAT2v _16PBlm\"]')\n",
    "\n",
    "rating_btn.click()"
   ]
  },
  {
   "cell_type": "code",
   "execution_count": 71,
   "metadata": {},
   "outputs": [
    {
     "data": {
      "text/html": [
       "<div>\n",
       "<style scoped>\n",
       "    .dataframe tbody tr th:only-of-type {\n",
       "        vertical-align: middle;\n",
       "    }\n",
       "\n",
       "    .dataframe tbody tr th {\n",
       "        vertical-align: top;\n",
       "    }\n",
       "\n",
       "    .dataframe thead th {\n",
       "        text-align: right;\n",
       "    }\n",
       "</style>\n",
       "<table border=\"1\" class=\"dataframe\">\n",
       "  <thead>\n",
       "    <tr style=\"text-align: right;\">\n",
       "      <th></th>\n",
       "      <th>Number of Stars</th>\n",
       "      <th>Short Review</th>\n",
       "      <th>Full Review</th>\n",
       "    </tr>\n",
       "  </thead>\n",
       "  <tbody>\n",
       "    <tr>\n",
       "      <th>0</th>\n",
       "      <td>5</td>\n",
       "      <td>Brilliant</td>\n",
       "      <td>The Best Phone for the Money\\n\\nThe iPhone 11 ...</td>\n",
       "    </tr>\n",
       "    <tr>\n",
       "      <th>1</th>\n",
       "      <td>5</td>\n",
       "      <td>Simply awesome</td>\n",
       "      <td>Really satisfied with the Product I received.....</td>\n",
       "    </tr>\n",
       "    <tr>\n",
       "      <th>2</th>\n",
       "      <td>5</td>\n",
       "      <td>Best in the market!</td>\n",
       "      <td>Great iPhone very snappy experience as apple k...</td>\n",
       "    </tr>\n",
       "    <tr>\n",
       "      <th>3</th>\n",
       "      <td>5</td>\n",
       "      <td>Perfect product!</td>\n",
       "      <td>Amazing phone with great cameras and better ba...</td>\n",
       "    </tr>\n",
       "    <tr>\n",
       "      <th>4</th>\n",
       "      <td>5</td>\n",
       "      <td>Fabulous!</td>\n",
       "      <td>This is my first iOS phone. I am very happy wi...</td>\n",
       "    </tr>\n",
       "    <tr>\n",
       "      <th>...</th>\n",
       "      <td>...</td>\n",
       "      <td>...</td>\n",
       "      <td>...</td>\n",
       "    </tr>\n",
       "    <tr>\n",
       "      <th>95</th>\n",
       "      <td>5</td>\n",
       "      <td>Just wow!</td>\n",
       "      <td>The ultimate performance\\nCamera is superb\\nTh...</td>\n",
       "    </tr>\n",
       "    <tr>\n",
       "      <th>96</th>\n",
       "      <td>5</td>\n",
       "      <td>Terrific purchase</td>\n",
       "      <td>I use a Note10+ and have been using both iOS a...</td>\n",
       "    </tr>\n",
       "    <tr>\n",
       "      <th>97</th>\n",
       "      <td>5</td>\n",
       "      <td>Awesome</td>\n",
       "      <td>The phone is completely good\\nAs far as camera...</td>\n",
       "    </tr>\n",
       "    <tr>\n",
       "      <th>98</th>\n",
       "      <td>3</td>\n",
       "      <td>Decent product</td>\n",
       "      <td>Everything u ll like it when u use this iPhone...</td>\n",
       "    </tr>\n",
       "    <tr>\n",
       "      <th>99</th>\n",
       "      <td>5</td>\n",
       "      <td>Awesome</td>\n",
       "      <td>Can’t beat the software and hardware integrati...</td>\n",
       "    </tr>\n",
       "  </tbody>\n",
       "</table>\n",
       "<p>100 rows × 3 columns</p>\n",
       "</div>"
      ],
      "text/plain": [
       "   Number of Stars         Short Review  \\\n",
       "0                5            Brilliant   \n",
       "1                5       Simply awesome   \n",
       "2                5  Best in the market!   \n",
       "3                5     Perfect product!   \n",
       "4                5            Fabulous!   \n",
       "..             ...                  ...   \n",
       "95               5            Just wow!   \n",
       "96               5    Terrific purchase   \n",
       "97               5              Awesome   \n",
       "98               3       Decent product   \n",
       "99               5              Awesome   \n",
       "\n",
       "                                          Full Review  \n",
       "0   The Best Phone for the Money\\n\\nThe iPhone 11 ...  \n",
       "1   Really satisfied with the Product I received.....  \n",
       "2   Great iPhone very snappy experience as apple k...  \n",
       "3   Amazing phone with great cameras and better ba...  \n",
       "4   This is my first iOS phone. I am very happy wi...  \n",
       "..                                                ...  \n",
       "95  The ultimate performance\\nCamera is superb\\nTh...  \n",
       "96  I use a Note10+ and have been using both iOS a...  \n",
       "97  The phone is completely good\\nAs far as camera...  \n",
       "98  Everything u ll like it when u use this iPhone...  \n",
       "99  Can’t beat the software and hardware integrati...  \n",
       "\n",
       "[100 rows x 3 columns]"
      ]
     },
     "execution_count": 71,
     "metadata": {},
     "output_type": "execute_result"
    }
   ],
   "source": [
    "url = \"https://www.flipkart.com/apple-iphone-11-black-64-gb-includes-earpods-power-adapter/product-reviews/itm0f37c2240b217?pid=MOBFKCTSVZAXUHGR&lid=LSTMOBFKCTSVZAXUHGREPBFGI&marketplace=FLIPKART\"\n",
    "driver.get(url)\n",
    "\n",
    "time.sleep(2)\n",
    "\n",
    "# Creating empty list\n",
    "urls=[]\n",
    "short_review=[]\n",
    "complete_review=[]\n",
    "stars=[]\n",
    "time.sleep(2)\n",
    "\n",
    "#scraping 10 pages url\n",
    "url_1 = driver.find_elements_by_xpath(\"//a[@class='ge-49M _2Kfbh8']\")\n",
    "for i in url_1:\n",
    "    urls.append(i.get_attribute('href'))\n",
    "url_2 = driver.find_elements_by_xpath(\"//a[@class='ge-49M']\")\n",
    "for i in url_2:\n",
    "    urls.append(i.get_attribute('href'))\n",
    "time.sleep(4)\n",
    "\n",
    "\n",
    "for i in urls:\n",
    "    driver.get(i)\n",
    "    #for scrapping the number of stars\n",
    "    for j in driver.find_elements_by_xpath(\"//div[@class='col _2wzgFH K0kLPL']/div[1]/div[1]\"):\n",
    "        stars.append(j.text)\n",
    "    #for scrapping the short review\n",
    "    for k in driver.find_elements_by_xpath(\"//p[@class='_2-N8zT']\"):\n",
    "        short_review.append(k.text)\n",
    "    #for scrapping the complete review\n",
    "    for l in driver.find_elements_by_xpath(\"//div[@class='t-ZTKy']/div/div\"):\n",
    "        complete_review.append(l.text)\n",
    "        \n",
    "        \n",
    "        \n",
    "#Combining all the lists into a single dataframe\n",
    "df=pd.DataFrame({'Number of Stars': stars,\n",
    "                'Short Review': short_review,\n",
    "               'Full Review': complete_review})\n",
    "df\n"
   ]
  },
  {
   "cell_type": "markdown",
   "metadata": {},
   "source": [
    "Q. No. 8 :- Scrape data for first 100 sneakers you find when you visit flipkart.com and search for “sneakers” in the search field.\n"
   ]
  },
  {
   "cell_type": "code",
   "execution_count": 72,
   "metadata": {},
   "outputs": [],
   "source": [
    "# Loading the web-page.\n",
    "\n",
    "url8 = 'https://www.flipkart.com/'\n",
    "\n",
    "driver.get(url8)\n"
   ]
  },
  {
   "cell_type": "code",
   "execution_count": 73,
   "metadata": {},
   "outputs": [],
   "source": [
    "# Extracting the webelement of the search bar.\n",
    "\n",
    "src_tag8 = driver.find_element_by_xpath('//input[@class=\"_3704LK\"]')\n",
    "# Entering 'sneakers' in the search bar.\n",
    "\n",
    "src_tag8.send_keys('sneakers')\n"
   ]
  },
  {
   "cell_type": "code",
   "execution_count": 74,
   "metadata": {},
   "outputs": [],
   "source": [
    "# Extracting the web element of the search button and clicking on the search button.\n",
    "\n",
    "src_btn8 = driver.find_element_by_xpath('//button[@class=\"L0Z3Pu\"]')\n",
    "\n",
    "src_btn8.click()"
   ]
  },
  {
   "cell_type": "code",
   "execution_count": 93,
   "metadata": {},
   "outputs": [],
   "source": [
    "#Extracting the url for next page\n",
    "url_list = []\n",
    "for j in range(0,3):\n",
    "    tile = driver.find_elements_by_xpath(\"//a[@class= '_2UzuFa']\")\n",
    "    for i in tile:\n",
    "        url_list.append(i.get_attribute('href'))\n",
    "        next_btn = driver.find_element_by_xpath(\"//a[@class = '_1LKTO3']/span\")\n",
    "        if next_btn.text == 'Next':\n",
    "             next_btn.click()\n"
   ]
  },
  {
   "cell_type": "code",
   "execution_count": 94,
   "metadata": {},
   "outputs": [],
   "source": [
    "#extracting data\n",
    "brand_name = []\n",
    "product_description = []\n",
    "price = []\n",
    "discount = []\n",
    "for i in url_list[0:100]:\n",
    "    driver.get(i)\n",
    "    time.sleep(1)\n",
    "    brand = driver.find_element_by_xpath(\"//span[@class='G6XhRU']\")\n",
    "    brand_name.append(brand.text)\n",
    "    des = driver.find_element_by_xpath(\"//span[@class='B_NuCI']\")\n",
    "    product_description.append(des.text)\n",
    "    pri = driver.find_element_by_xpath(\"//div[@class = '_30jeq3 _16Jk6d']\")\n",
    "    price.append(pri.text)\n",
    "    dis = driver.find_element_by_xpath(\"//div[@class = '_3Ay6Sb _31Dcoz pZkvcx']\")\n",
    "    discount.append(dis.text)\n",
    "    \n",
    "driver.close()\n"
   ]
  },
  {
   "cell_type": "code",
   "execution_count": 95,
   "metadata": {},
   "outputs": [
    {
     "data": {
      "text/html": [
       "<div>\n",
       "<style scoped>\n",
       "    .dataframe tbody tr th:only-of-type {\n",
       "        vertical-align: middle;\n",
       "    }\n",
       "\n",
       "    .dataframe tbody tr th {\n",
       "        vertical-align: top;\n",
       "    }\n",
       "\n",
       "    .dataframe thead th {\n",
       "        text-align: right;\n",
       "    }\n",
       "</style>\n",
       "<table border=\"1\" class=\"dataframe\">\n",
       "  <thead>\n",
       "    <tr style=\"text-align: right;\">\n",
       "      <th></th>\n",
       "      <th>brand</th>\n",
       "      <th>description</th>\n",
       "      <th>price</th>\n",
       "      <th>discount</th>\n",
       "    </tr>\n",
       "  </thead>\n",
       "  <tbody>\n",
       "    <tr>\n",
       "      <th>0</th>\n",
       "      <td>believe</td>\n",
       "      <td>Sneakers for men(black_6) Sneakers For Men  (B...</td>\n",
       "      <td>₹449</td>\n",
       "      <td>55% off</td>\n",
       "    </tr>\n",
       "    <tr>\n",
       "      <th>1</th>\n",
       "      <td>D-SNEAKERZ</td>\n",
       "      <td>Casual , Partywear Sneakers Shoes For Men's An...</td>\n",
       "      <td>₹348</td>\n",
       "      <td>47% off</td>\n",
       "    </tr>\n",
       "    <tr>\n",
       "      <th>2</th>\n",
       "      <td>HOC</td>\n",
       "      <td>Luxury Fashionable Breathable Casual Sneakers ...</td>\n",
       "      <td>₹378</td>\n",
       "      <td>81% off</td>\n",
       "    </tr>\n",
       "    <tr>\n",
       "      <th>3</th>\n",
       "      <td>STRANGER BROTHERS</td>\n",
       "      <td>Sneakers For Men  (White, Black)</td>\n",
       "      <td>₹449</td>\n",
       "      <td>55% off</td>\n",
       "    </tr>\n",
       "    <tr>\n",
       "      <th>4</th>\n",
       "      <td>bluemaker</td>\n",
       "      <td>casual for men (blue 10) Sneakers For Men  (Blue)</td>\n",
       "      <td>₹404</td>\n",
       "      <td>59% off</td>\n",
       "    </tr>\n",
       "    <tr>\n",
       "      <th>...</th>\n",
       "      <td>...</td>\n",
       "      <td>...</td>\n",
       "      <td>...</td>\n",
       "      <td>...</td>\n",
       "    </tr>\n",
       "    <tr>\n",
       "      <th>95</th>\n",
       "      <td>WELDONE</td>\n",
       "      <td>Fashion Sneakers For Men  (Black)</td>\n",
       "      <td>₹277</td>\n",
       "      <td>44% off</td>\n",
       "    </tr>\n",
       "    <tr>\n",
       "      <th>96</th>\n",
       "      <td>BIRDE</td>\n",
       "      <td>Combo Pack of 2 Casual Shoes Sneakers For Men ...</td>\n",
       "      <td>₹472</td>\n",
       "      <td>52% off</td>\n",
       "    </tr>\n",
       "    <tr>\n",
       "      <th>97</th>\n",
       "      <td>India hub</td>\n",
       "      <td>Fashionable sneaker casual shoes Sneakers For ...</td>\n",
       "      <td>₹399</td>\n",
       "      <td>80% off</td>\n",
       "    </tr>\n",
       "    <tr>\n",
       "      <th>98</th>\n",
       "      <td>Chevit</td>\n",
       "      <td>Unique &amp; Perfect Collection Combo Pack of 02 S...</td>\n",
       "      <td>₹420</td>\n",
       "      <td>71% off</td>\n",
       "    </tr>\n",
       "    <tr>\n",
       "      <th>99</th>\n",
       "      <td>Brainer</td>\n",
       "      <td>Sneakers For Men  (White)</td>\n",
       "      <td>₹499</td>\n",
       "      <td>50% off</td>\n",
       "    </tr>\n",
       "  </tbody>\n",
       "</table>\n",
       "<p>100 rows × 4 columns</p>\n",
       "</div>"
      ],
      "text/plain": [
       "                 brand                                        description  \\\n",
       "0             believe   Sneakers for men(black_6) Sneakers For Men  (B...   \n",
       "1          D-SNEAKERZ   Casual , Partywear Sneakers Shoes For Men's An...   \n",
       "2                 HOC   Luxury Fashionable Breathable Casual Sneakers ...   \n",
       "3   STRANGER BROTHERS                    Sneakers For Men  (White, Black)   \n",
       "4           bluemaker   casual for men (blue 10) Sneakers For Men  (Blue)   \n",
       "..                 ...                                                ...   \n",
       "95            WELDONE                   Fashion Sneakers For Men  (Black)   \n",
       "96              BIRDE   Combo Pack of 2 Casual Shoes Sneakers For Men ...   \n",
       "97          India hub   Fashionable sneaker casual shoes Sneakers For ...   \n",
       "98             Chevit   Unique & Perfect Collection Combo Pack of 02 S...   \n",
       "99            Brainer                           Sneakers For Men  (White)   \n",
       "\n",
       "   price discount  \n",
       "0   ₹449  55% off  \n",
       "1   ₹348  47% off  \n",
       "2   ₹378  81% off  \n",
       "3   ₹449  55% off  \n",
       "4   ₹404  59% off  \n",
       "..   ...      ...  \n",
       "95  ₹277  44% off  \n",
       "96  ₹472  52% off  \n",
       "97  ₹399  80% off  \n",
       "98  ₹420  71% off  \n",
       "99  ₹499  50% off  \n",
       "\n",
       "[100 rows x 4 columns]"
      ]
     },
     "execution_count": 95,
     "metadata": {},
     "output_type": "execute_result"
    }
   ],
   "source": [
    "df = pd.DataFrame({})\n",
    "df['brand']= brand_name[0:100]\n",
    "df['description']= product_description[0:100]\n",
    "df['price']= price[0:100]\n",
    "df['discount']= discount[0:100]\n",
    "df"
   ]
  },
  {
   "cell_type": "markdown",
   "metadata": {},
   "source": [
    "Q. No. 9 :- Go to the link - https://www.myntra.com/shoes Set Price filter to “Rs. 6649 to Rs. 13099” , Color filter to “Black”"
   ]
  },
  {
   "cell_type": "code",
   "execution_count": 36,
   "metadata": {},
   "outputs": [],
   "source": [
    "#get the web driver\n",
    "driver=webdriver.Chrome(r\"C:\\Users\\dell\\Downloads\\chromedriver_win32\\chromedriver.exe\")\n",
    "# loding the web-page https://www.myntra.com/shoes\n",
    "\n",
    "url9 = 'https://www.myntra.com/shoes'\n",
    "\n",
    "driver.get(url9)\n"
   ]
  },
  {
   "cell_type": "code",
   "execution_count": 37,
   "metadata": {},
   "outputs": [],
   "source": [
    "# Extracting the web-element of the price filter and clicking on it to get the desired results.\n",
    "\n",
    "price_check= driver.find_element_by_xpath('//*[@id=\"mountRoot\"]/div/div[1]/main/div[3]/div[1]/section/div/div[5]/ul/li[2]/label/div')\n",
    "\n",
    "price_check.click()"
   ]
  },
  {
   "cell_type": "code",
   "execution_count": 38,
   "metadata": {},
   "outputs": [],
   "source": [
    "# Extracting the web-element of the color filter and clicking on it to get the desired results.\n",
    "\n",
    "color_check = driver.find_element_by_xpath('//*[@id=\"mountRoot\"]/div/div[1]/main/div[3]/div[1]/section/div/div[6]/ul/li[1]/label/div')\n",
    "\n",
    "color_check.click()"
   ]
  },
  {
   "cell_type": "code",
   "execution_count": 40,
   "metadata": {},
   "outputs": [
    {
     "data": {
      "text/plain": [
       "['ALDO',\n",
       " 'Puma',\n",
       " 'Puma',\n",
       " 'Puma',\n",
       " 'Puma',\n",
       " 'Hush Puppies',\n",
       " 'ROSSO BRUNELLO',\n",
       " 'Puma',\n",
       " 'Nike',\n",
       " 'UNDER ARMOUR',\n",
       " 'Geox',\n",
       " 'J.FONTINI',\n",
       " 'UNDER ARMOUR',\n",
       " 'ASICS',\n",
       " 'Puma',\n",
       " 'Puma',\n",
       " 'Geox',\n",
       " 'Puma',\n",
       " 'ROSSO BRUNELLO',\n",
       " 'Hush Puppies',\n",
       " 'UNDER ARMOUR',\n",
       " 'FORCLAZ By Decathlon',\n",
       " 'Calvin Klein',\n",
       " 'Hush Puppies',\n",
       " 'UNDER ARMOUR',\n",
       " 'UNDER ARMOUR',\n",
       " 'UNDER ARMOUR',\n",
       " 'Hush Puppies',\n",
       " 'Puma',\n",
       " 'UNDER ARMOUR',\n",
       " 'ASICS',\n",
       " 'PUMA Motorsport',\n",
       " 'Clarks',\n",
       " 'ASICS',\n",
       " 'Puma',\n",
       " 'RARE RABBIT',\n",
       " 'Geox',\n",
       " 'Hush Puppies',\n",
       " 'DAVINCHI',\n",
       " 'UNDER ARMOUR',\n",
       " 'PUMA Motorsport',\n",
       " 'J.FONTINI',\n",
       " 'PUMA Motorsport',\n",
       " 'ALDO',\n",
       " 'Geox',\n",
       " 'Puma',\n",
       " 'ROSSO BRUNELLO',\n",
       " 'Heel & Buckle London',\n",
       " 'ROSSO BRUNELLO',\n",
       " 'PUMA Motorsport']"
      ]
     },
     "execution_count": 40,
     "metadata": {},
     "output_type": "execute_result"
    }
   ],
   "source": [
    "# Extracting the web-elements of the brands of the shoes.\n",
    "\n",
    "brand_tag1 = driver.find_elements_by_xpath('//h3[@class=\"product-brand\"]')\n",
    "\n",
    "brand_tag1\n",
    "b_name1 = []\n",
    "\n",
    "for b1 in brand_tag1:\n",
    "    b_name1.append(b1.text)  \n",
    "b_name1"
   ]
  },
  {
   "cell_type": "code",
   "execution_count": 41,
   "metadata": {},
   "outputs": [
    {
     "data": {
      "text/plain": [
       "50"
      ]
     },
     "execution_count": 41,
     "metadata": {},
     "output_type": "execute_result"
    }
   ],
   "source": [
    "len(b_name1)"
   ]
  },
  {
   "cell_type": "code",
   "execution_count": 45,
   "metadata": {},
   "outputs": [
    {
     "data": {
      "text/plain": [
       "['Men Driving Shoes',\n",
       " 'Men Cell Fraction Fade Running',\n",
       " 'Men Velocity Nitro Running',\n",
       " 'Mesh Hybrid Fuego Running',\n",
       " 'Men BlackTraining or Gym Shoes',\n",
       " 'Men Solid Leather Formal Slip-Ons',\n",
       " 'Men Solid Leather Formal Monk Shoes',\n",
       " 'Men FUSE Training Shoes',\n",
       " \"Men BlazerLow '77 Sneakers\",\n",
       " 'Men HOVR Infinite Running',\n",
       " 'Men Printed Slip-On Sneakers',\n",
       " 'Men Black Leather Loafers',\n",
       " 'Women HOVR Sonic 4 FnRn',\n",
       " 'Men Tennis Shoes',\n",
       " 'Men Liberate NITRO Running',\n",
       " 'Men Jamming 2.0 Running Shoes',\n",
       " 'Men Sneakers',\n",
       " 'Men Black Shoes',\n",
       " 'Men Leather Formal Loafers',\n",
       " 'Men Solid Leather Formal Slip-Ons',\n",
       " 'Women Charged Impulse Shft',\n",
       " 'TREKKING 100 Boots',\n",
       " 'Men Loafers',\n",
       " 'Men Leather Slip-On Sneakers',\n",
       " 'Men HOVR Sonic STRT Tech Shoes',\n",
       " 'Women Charged Vantage ClrShft',\n",
       " 'Women HOVR Sonic 4 Running',\n",
       " 'Men Formal Derbys',\n",
       " 'Men Football Shoes',\n",
       " 'Women Charged Assert 8 Running',\n",
       " 'Women GlideRide Running Shoes',\n",
       " 'Unisex Mercedes F1 Sneakers',\n",
       " 'Men Solid Formal Leather Derbys',\n",
       " 'Women Running Shoes',\n",
       " 'Women Eternity Nitro Running',\n",
       " 'Men Leather Flat Boots',\n",
       " 'Men Leather Flat Boots',\n",
       " 'Men Solid Leather Formal Derbys',\n",
       " 'Men Textured Formal Leather Loafers',\n",
       " 'Women Charged Bandit 6 Running',\n",
       " 'Unisex FerrariRS-Fast Sneakers',\n",
       " 'Men Solid Loafers',\n",
       " 'Unisex Ferrari Drift8 Sneakers',\n",
       " 'Women Woven Design Sneakers',\n",
       " 'Men Solid Sneakers',\n",
       " 'Unisex Colourblocked Sneakers',\n",
       " 'Men Solid Formal Monks Shoes',\n",
       " 'Women Solid Leather Gladiators',\n",
       " 'Men Leather Formal Loafers',\n",
       " 'Women BMW M Motorsport Shoes']"
      ]
     },
     "execution_count": 45,
     "metadata": {},
     "output_type": "execute_result"
    }
   ],
   "source": [
    "\n",
    "# Extracting the web-elements of the short description.\n",
    "\n",
    "p_desc_tag1 = driver.find_elements_by_xpath('//h4[@class=\"product-product\"]')\n",
    "desc1=[]\n",
    "for  i in p_desc_tag1:\n",
    "    desc1.append(i.text)\n",
    "desc1"
   ]
  },
  {
   "cell_type": "code",
   "execution_count": 46,
   "metadata": {},
   "outputs": [
    {
     "data": {
      "text/plain": [
       "50"
      ]
     },
     "execution_count": 46,
     "metadata": {},
     "output_type": "execute_result"
    }
   ],
   "source": [
    "len(desc1)"
   ]
  },
  {
   "cell_type": "code",
   "execution_count": 48,
   "metadata": {},
   "outputs": [
    {
     "data": {
      "text/plain": [
       "['Rs. 11999',\n",
       " 'Rs. 6999',\n",
       " 'Rs. 10999',\n",
       " 'Rs. 6999',\n",
       " 'Rs. 6999',\n",
       " 'Rs. 8099Rs. 8999(10% OFF)',\n",
       " 'Rs. 12999',\n",
       " 'Rs. 7999',\n",
       " 'Rs. 7195',\n",
       " 'Rs. 11999',\n",
       " 'Rs. 10999',\n",
       " 'Rs. 8490',\n",
       " 'Rs. 10999',\n",
       " 'Rs. 9999',\n",
       " 'Rs. 9999',\n",
       " 'Rs. 12999',\n",
       " 'Rs. 9999',\n",
       " 'Rs. 6999',\n",
       " 'Rs. 11999',\n",
       " 'Rs. 8999Rs. 9999(10% OFF)',\n",
       " 'Rs. 7499',\n",
       " 'Rs. 6999',\n",
       " 'Rs. 7649Rs. 8999(15% OFF)',\n",
       " 'Rs. 6999Rs. 9999(30% OFF)',\n",
       " 'Rs. 9999',\n",
       " 'Rs. 7999',\n",
       " 'Rs. 10999',\n",
       " 'Rs. 8999Rs. 9999(10% OFF)',\n",
       " 'Rs. 12749Rs. 16999(25% OFF)',\n",
       " 'Rs. 6999',\n",
       " 'Rs. 11199Rs. 13999(20% OFF)',\n",
       " 'Rs. 7999',\n",
       " 'Rs. 9999',\n",
       " 'Rs. 8999',\n",
       " 'Rs. 7149Rs. 12999(45% OFF)',\n",
       " 'Rs. 10999',\n",
       " 'Rs. 11999',\n",
       " 'Rs. 8999Rs. 9999(10% OFF)',\n",
       " 'Rs. 8990',\n",
       " 'Rs. 8999',\n",
       " 'Rs. 9999',\n",
       " 'Rs. 8990',\n",
       " 'Rs. 7999',\n",
       " 'Rs. 7799Rs. 12999(40% OFF)',\n",
       " 'Rs. 9999',\n",
       " 'Rs. 6999',\n",
       " 'Rs. 12999',\n",
       " 'Rs. 6993Rs. 9990(30% OFF)',\n",
       " 'Rs. 12999',\n",
       " 'Rs. 6999']"
      ]
     },
     "execution_count": 48,
     "metadata": {},
     "output_type": "execute_result"
    }
   ],
   "source": [
    "# Extracting the web-elements of the product prices.\n",
    "\n",
    "price_tag1 = driver.find_elements_by_xpath('//div[@class=\"product-price\"]')\n",
    "price1=[]\n",
    "for i in price_tag1:\n",
    "    price1.append(i.text)\n",
    "price1"
   ]
  },
  {
   "cell_type": "code",
   "execution_count": 49,
   "metadata": {},
   "outputs": [
    {
     "data": {
      "text/plain": [
       "50"
      ]
     },
     "execution_count": 49,
     "metadata": {},
     "output_type": "execute_result"
    }
   ],
   "source": [
    "len(price1)"
   ]
  },
  {
   "cell_type": "code",
   "execution_count": 50,
   "metadata": {},
   "outputs": [],
   "source": [
    "# Visiting the next page. For this we'll extract the web-element of the next page button.\n",
    "\n",
    "next_page = driver.find_element_by_xpath('//*[@id=\"desktopSearchResults\"]/div[2]/section/div[2]/ul/li[12]/a')\n",
    "\n",
    "next_page.click()"
   ]
  },
  {
   "cell_type": "code",
   "execution_count": 51,
   "metadata": {},
   "outputs": [
    {
     "data": {
      "text/plain": [
       "['ASICS',\n",
       " 'ROSSO BRUNELLO',\n",
       " 'Geox',\n",
       " 'J.FONTINI',\n",
       " 'Clarks',\n",
       " 'Saint G',\n",
       " 'ROSSO BRUNELLO',\n",
       " 'Heel & Buckle London',\n",
       " 'KIPRUN By Decathlon',\n",
       " 'UNDER ARMOUR',\n",
       " 'Puma',\n",
       " 'Puma',\n",
       " 'Cole Haan',\n",
       " 'Cole Haan',\n",
       " 'Cole Haan',\n",
       " 'Nike',\n",
       " 'Quechua By Decathlon',\n",
       " 'VIONIC',\n",
       " 'J.FONTINI',\n",
       " 'J.FONTINI',\n",
       " 'J.FONTINI',\n",
       " 'Geox',\n",
       " 'PUMA Motorsport',\n",
       " 'Heel & Buckle London',\n",
       " 'Kalenji By Decathlon',\n",
       " 'Heel & Buckle London',\n",
       " 'Saint G',\n",
       " 'Saint G',\n",
       " 'Saint G',\n",
       " 'Kenneth Cole',\n",
       " 'PUMA Hoops',\n",
       " 'Geox',\n",
       " 'J.FONTINI',\n",
       " 'ASICS',\n",
       " 'Ruosh',\n",
       " 'Geox',\n",
       " 'Geox',\n",
       " 'ALDO',\n",
       " 'Cole Haan',\n",
       " 'Florsheim',\n",
       " 'Heel & Buckle London',\n",
       " 'J.FONTINI',\n",
       " 'ALDO',\n",
       " 'Nike',\n",
       " 'J.FONTINI',\n",
       " 'Nike',\n",
       " 'J.FONTINI',\n",
       " 'Kenneth Cole',\n",
       " 'Kenneth Cole',\n",
       " 'Nike']"
      ]
     },
     "execution_count": 51,
     "metadata": {},
     "output_type": "execute_result"
    }
   ],
   "source": [
    "# Extracting the web-elements of the brands of the shoes on second page.\n",
    "\n",
    "brand_tag2 = driver.find_elements_by_xpath('//h3[@class=\"product-brand\"]')\n",
    "\n",
    "brand_tag2\n",
    "b_name2 = []\n",
    "\n",
    "for b1 in brand_tag2:\n",
    "    b_name2.append(b1.text)  \n",
    "b_name2"
   ]
  },
  {
   "cell_type": "code",
   "execution_count": 53,
   "metadata": {},
   "outputs": [
    {
     "data": {
      "text/plain": [
       "50"
      ]
     },
     "execution_count": 53,
     "metadata": {},
     "output_type": "execute_result"
    }
   ],
   "source": [
    "len(b_name2)"
   ]
  },
  {
   "cell_type": "code",
   "execution_count": 54,
   "metadata": {},
   "outputs": [
    {
     "data": {
      "text/plain": [
       "['Women GlideRide Running Shoes',\n",
       " 'Men Solid Leather Formal Monk Shoes',\n",
       " 'Men Sneakers',\n",
       " 'Men Solid Leather Formal Derbys',\n",
       " 'Men Solid Formal Leather Derbys',\n",
       " 'Women Leather Heeled Boots',\n",
       " 'Men Leather Formal Loafers',\n",
       " 'Women Peep Toe Heels',\n",
       " 'Women Running Shoes',\n",
       " 'Women Charged Rogue 2.5ClrSft',\n",
       " 'Women Liberate NITRO Running',\n",
       " 'Women Eternity NITRO Shoes',\n",
       " 'Men Wingtip Oxford Sneakers',\n",
       " 'Men GENERATION ZEROGRAND STITCHLITE',\n",
       " 'Leather Sneakers',\n",
       " 'Women Air Zoom Running Shoes',\n",
       " 'Men Trekking Shoes',\n",
       " 'Men Textured Sneakers',\n",
       " 'Men Solid Leather Loafers',\n",
       " 'Men Textured Leather Loafers',\n",
       " 'Men Textured Leather Loafers',\n",
       " 'Men Leather Formal Slip-Ons',\n",
       " 'Unisex BMW MMS RS-FastSneakers',\n",
       " 'Men Leather Formal Loafers',\n",
       " 'Men KD500 Running Shoe',\n",
       " 'Women Solid Leather Heels',\n",
       " 'Women Leather Heeled Boots',\n",
       " 'Women Leather Heeled Boots',\n",
       " 'Women Heeled Boots',\n",
       " 'Women Leather Pumps',\n",
       " 'Unisex Clyde Basketball Shoes',\n",
       " 'Men Leather Formal Slip-Ons',\n",
       " 'Men Textured Leather Loafers',\n",
       " 'Men Black Running Sports Shoes',\n",
       " 'Men Solid Leather Formal Monks',\n",
       " 'Men Solid Sneakers',\n",
       " 'Men Leather Driving Shoes',\n",
       " 'Women Solid Sneakers',\n",
       " 'Women Open Toe Flats',\n",
       " 'Men Solid Leather Formal Derbys',\n",
       " 'Women Leather Pumps',\n",
       " 'Men Solid Leather Formal Slip-Ons',\n",
       " 'Women Woven Design Sneakers',\n",
       " 'Men ZOOM WINFLO8 Running Shoes',\n",
       " 'Men Solid Leather Formal Slip-Ons',\n",
       " 'Men Vomero 16 Running Shoes',\n",
       " 'Men Leather Formal Loafers',\n",
       " 'Women LeatherSneakers',\n",
       " 'Women Solid Flat Boots',\n",
       " 'Men AIR MAX INFINITY Sneakers']"
      ]
     },
     "execution_count": 54,
     "metadata": {},
     "output_type": "execute_result"
    }
   ],
   "source": [
    "# Extracting the web-elements of the short description on second page.\n",
    "\n",
    "p_desc_tag2 = driver.find_elements_by_xpath('//h4[@class=\"product-product\"]')\n",
    "desc2=[]\n",
    "for  i in p_desc_tag2:\n",
    "    desc2.append(i.text)\n",
    "desc2"
   ]
  },
  {
   "cell_type": "code",
   "execution_count": 55,
   "metadata": {},
   "outputs": [
    {
     "data": {
      "text/plain": [
       "50"
      ]
     },
     "execution_count": 55,
     "metadata": {},
     "output_type": "execute_result"
    }
   ],
   "source": [
    "len(desc2)"
   ]
  },
  {
   "cell_type": "code",
   "execution_count": 56,
   "metadata": {},
   "outputs": [
    {
     "data": {
      "text/plain": [
       "['Rs. 11199Rs. 13999(20% OFF)',\n",
       " 'Rs. 12999',\n",
       " 'Rs. 9999',\n",
       " 'Rs. 6990',\n",
       " 'Rs. 9999',\n",
       " 'Rs. 7600',\n",
       " 'Rs. 11999',\n",
       " 'Rs. 7192Rs. 8990(20% OFF)',\n",
       " 'Rs. 7006Rs. 7149(2% OFF)',\n",
       " 'Rs. 7999',\n",
       " 'Rs. 9999',\n",
       " 'Rs. 12999',\n",
       " 'Rs. 12999',\n",
       " 'Rs. 11999',\n",
       " 'Rs. 10999',\n",
       " 'Rs. 10295',\n",
       " 'Rs. 9999',\n",
       " 'Rs. 7039Rs. 10999(36% OFF)',\n",
       " 'Rs. 7990',\n",
       " 'Rs. 7990',\n",
       " 'Rs. 7990',\n",
       " 'Rs. 8999',\n",
       " 'Rs. 7999Rs. 9999(20% OFF)',\n",
       " 'Rs. 6993Rs. 9990(30% OFF)',\n",
       " 'Rs. 7773Rs. 8449(8% OFF)',\n",
       " 'Rs. 6993Rs. 9990(30% OFF)',\n",
       " 'Rs. 8500',\n",
       " 'Rs. 8900',\n",
       " 'Rs. 8000',\n",
       " 'Rs. 10493Rs. 14990(30% OFF)',\n",
       " 'Rs. 8999',\n",
       " 'Rs. 11242Rs. 14990(25% OFF)',\n",
       " 'Rs. 6990',\n",
       " 'Rs. 7999',\n",
       " 'Rs. 8990',\n",
       " 'Rs. 10999',\n",
       " 'Rs. 9999',\n",
       " 'Rs. 7999',\n",
       " 'Rs. 11999',\n",
       " 'Rs. 6995',\n",
       " 'Rs. 7192Rs. 8990(20% OFF)',\n",
       " 'Rs. 7990',\n",
       " 'Rs. 8999',\n",
       " 'Rs. 8295',\n",
       " 'Rs. 7990',\n",
       " 'Rs. 13495',\n",
       " 'Rs. 6990',\n",
       " 'Rs. 7343Rs. 10490(30% OFF)',\n",
       " 'Rs. 9513Rs. 13590(30% OFF)',\n",
       " 'Rs. 8295']"
      ]
     },
     "execution_count": 56,
     "metadata": {},
     "output_type": "execute_result"
    }
   ],
   "source": [
    "# Extracting the web-elements of the product prices.\n",
    "\n",
    "price_tag2 = driver.find_elements_by_xpath('//div[@class=\"product-price\"]')\n",
    "price2=[]\n",
    "for i in price_tag2:\n",
    "    price2.append(i.text)\n",
    "price2"
   ]
  },
  {
   "cell_type": "code",
   "execution_count": 57,
   "metadata": {},
   "outputs": [
    {
     "data": {
      "text/plain": [
       "50"
      ]
     },
     "execution_count": 57,
     "metadata": {},
     "output_type": "execute_result"
    }
   ],
   "source": [
    "len(price2)"
   ]
  },
  {
   "cell_type": "code",
   "execution_count": 61,
   "metadata": {},
   "outputs": [
    {
     "data": {
      "text/html": [
       "<div>\n",
       "<style scoped>\n",
       "    .dataframe tbody tr th:only-of-type {\n",
       "        vertical-align: middle;\n",
       "    }\n",
       "\n",
       "    .dataframe tbody tr th {\n",
       "        vertical-align: top;\n",
       "    }\n",
       "\n",
       "    .dataframe thead th {\n",
       "        text-align: right;\n",
       "    }\n",
       "</style>\n",
       "<table border=\"1\" class=\"dataframe\">\n",
       "  <thead>\n",
       "    <tr style=\"text-align: right;\">\n",
       "      <th></th>\n",
       "      <th>Product name</th>\n",
       "      <th>PRoduct Description</th>\n",
       "      <th>Product Price</th>\n",
       "    </tr>\n",
       "  </thead>\n",
       "  <tbody>\n",
       "    <tr>\n",
       "      <th>0</th>\n",
       "      <td>ALDO</td>\n",
       "      <td>Men Driving Shoes</td>\n",
       "      <td>Rs. 11999</td>\n",
       "    </tr>\n",
       "    <tr>\n",
       "      <th>1</th>\n",
       "      <td>Puma</td>\n",
       "      <td>Men Cell Fraction Fade Running</td>\n",
       "      <td>Rs. 6999</td>\n",
       "    </tr>\n",
       "    <tr>\n",
       "      <th>2</th>\n",
       "      <td>Puma</td>\n",
       "      <td>Men Velocity Nitro Running</td>\n",
       "      <td>Rs. 10999</td>\n",
       "    </tr>\n",
       "    <tr>\n",
       "      <th>3</th>\n",
       "      <td>Puma</td>\n",
       "      <td>Mesh Hybrid Fuego Running</td>\n",
       "      <td>Rs. 6999</td>\n",
       "    </tr>\n",
       "    <tr>\n",
       "      <th>4</th>\n",
       "      <td>Puma</td>\n",
       "      <td>Men BlackTraining or Gym Shoes</td>\n",
       "      <td>Rs. 6999</td>\n",
       "    </tr>\n",
       "    <tr>\n",
       "      <th>...</th>\n",
       "      <td>...</td>\n",
       "      <td>...</td>\n",
       "      <td>...</td>\n",
       "    </tr>\n",
       "    <tr>\n",
       "      <th>95</th>\n",
       "      <td>Nike</td>\n",
       "      <td>Men Vomero 16 Running Shoes</td>\n",
       "      <td>Rs. 13495</td>\n",
       "    </tr>\n",
       "    <tr>\n",
       "      <th>96</th>\n",
       "      <td>J.FONTINI</td>\n",
       "      <td>Men Leather Formal Loafers</td>\n",
       "      <td>Rs. 6990</td>\n",
       "    </tr>\n",
       "    <tr>\n",
       "      <th>97</th>\n",
       "      <td>Kenneth Cole</td>\n",
       "      <td>Women LeatherSneakers</td>\n",
       "      <td>Rs. 7343Rs. 10490(30% OFF)</td>\n",
       "    </tr>\n",
       "    <tr>\n",
       "      <th>98</th>\n",
       "      <td>Kenneth Cole</td>\n",
       "      <td>Women Solid Flat Boots</td>\n",
       "      <td>Rs. 9513Rs. 13590(30% OFF)</td>\n",
       "    </tr>\n",
       "    <tr>\n",
       "      <th>99</th>\n",
       "      <td>Nike</td>\n",
       "      <td>Men AIR MAX INFINITY Sneakers</td>\n",
       "      <td>Rs. 8295</td>\n",
       "    </tr>\n",
       "  </tbody>\n",
       "</table>\n",
       "<p>100 rows × 3 columns</p>\n",
       "</div>"
      ],
      "text/plain": [
       "    Product name             PRoduct Description               Product Price\n",
       "0           ALDO               Men Driving Shoes                   Rs. 11999\n",
       "1           Puma  Men Cell Fraction Fade Running                    Rs. 6999\n",
       "2           Puma      Men Velocity Nitro Running                   Rs. 10999\n",
       "3           Puma       Mesh Hybrid Fuego Running                    Rs. 6999\n",
       "4           Puma  Men BlackTraining or Gym Shoes                    Rs. 6999\n",
       "..           ...                             ...                         ...\n",
       "95          Nike     Men Vomero 16 Running Shoes                   Rs. 13495\n",
       "96     J.FONTINI      Men Leather Formal Loafers                    Rs. 6990\n",
       "97  Kenneth Cole           Women LeatherSneakers  Rs. 7343Rs. 10490(30% OFF)\n",
       "98  Kenneth Cole          Women Solid Flat Boots  Rs. 9513Rs. 13590(30% OFF)\n",
       "99          Nike   Men AIR MAX INFINITY Sneakers                    Rs. 8295\n",
       "\n",
       "[100 rows x 3 columns]"
      ]
     },
     "execution_count": 61,
     "metadata": {},
     "output_type": "execute_result"
    }
   ],
   "source": [
    "productname=b_name1+b_name2\n",
    "descript=desc1+desc2\n",
    "prod_price=price1+price2\n",
    "\n",
    "df10=pd.DataFrame({})\n",
    "df10[\"Product name\"]=productname\n",
    "df10[\"PRoduct Description\"]=descript\n",
    "df10[\"Product Price\"]=prod_price\n",
    "df10"
   ]
  },
  {
   "cell_type": "markdown",
   "metadata": {},
   "source": [
    "Q. No. 10 :- Go to webpage https://www.amazon.in/ Enter “Laptop” in the search field and then click the search icon.¶"
   ]
  },
  {
   "cell_type": "code",
   "execution_count": 20,
   "metadata": {},
   "outputs": [],
   "source": [
    "# Loading the web-page https://www.amazon.in/.\n",
    "\n",
    "url10 = 'https://www.amazon.in/'\n",
    "\n",
    "driver.get(url10)\n"
   ]
  },
  {
   "cell_type": "code",
   "execution_count": 21,
   "metadata": {},
   "outputs": [],
   "source": [
    "# Entering 'Laptops' in the search bar.\n",
    "\n",
    "src_Laptop = driver.find_element_by_xpath('//input[@id=\"twotabsearchtextbox\"]')\n",
    "\n",
    "src_Laptop.send_keys('Laptops')\n"
   ]
  },
  {
   "cell_type": "code",
   "execution_count": 22,
   "metadata": {},
   "outputs": [],
   "source": [
    "# Extracting the web-element of the search button and clicking on it to get the desired results.\n",
    "\n",
    "src_btn10 = driver.find_element_by_xpath('//input[@id=\"nav-search-submit-button\"]')\n",
    "\n",
    "src_btn10.click()\n"
   ]
  },
  {
   "cell_type": "code",
   "execution_count": 23,
   "metadata": {},
   "outputs": [],
   "source": [
    "# Extracting the web element of the filter buttons and clicking on it.\n",
    "\n",
    "filter1 = driver.find_element_by_xpath('//*[@id=\"p_n_feature_thirteen_browse-bin/12598163031\"]/span/a/div/label/i')\n",
    "\n",
    "filter1.click()"
   ]
  },
  {
   "cell_type": "code",
   "execution_count": 24,
   "metadata": {},
   "outputs": [],
   "source": [
    "filter2 = driver.find_element_by_xpath('//*[@id=\"p_n_feature_thirteen_browse-bin/16757432031\"]/span/a/div/label/i')\n",
    "\n",
    "filter2.click()"
   ]
  },
  {
   "cell_type": "code",
   "execution_count": 28,
   "metadata": {},
   "outputs": [
    {
     "data": {
      "text/plain": [
       "['HP Envy 11th Gen Core i7 Processor 13.3-inch (33.78 cms) FHD Touchscreen Laptop (16GB/1TB SSD/Win 10/NVIDIA MX450 2GB/Natural Silver/1.3 kg), 13-ba1018TX',\n",
       " 'Lenovo IdeaPad S540 11th Gen Intel Core i7 13.3\" QHD IPS Thin & Light Laptop (16GB/512GB SSD/Windows 10/MS Office 2019/Intel Iris Xe Graphics/Iron Grey/1.28Kg), 82H1002CIN',\n",
       " 'Mi Notebook Horizon Edition 14 Intel Core i7-10510U 10th Gen Thin and Light Laptop(8GB/512GB SSD/Windows 10/Nvidia MX350 2GB Graphics/Grey/1.35Kg)(Without Webcam) XMA1904-AF',\n",
       " 'Lenovo IdeaPad Gaming 3 Intel Core i7 10th Gen 15.6\" FHD IPS 250Nits Gaming Laptop (8GB/512GB SSD/Win10/NVIDIA GTX 1650 4GB GDDR6 Graphics/120Hz/Onyx Black/2.2Kg), 81Y4019EIN',\n",
       " 'MSI GF75 Thin, Intel i7-10750H, 17.3\" (43.9 cm) FHD IPS-Level 144Hz Panel Laptop (8GB/512GB NVMe SSD/Windows 10 Home/Nvidia GTX1650 4GB GDDR6/Black/2.2Kg), 10SCXR-654IN',\n",
       " 'ASUS TUF Dash F15 (2021), 15.6-inch (39.62 cms) FHD 144Hz, Intel Core i7-11370H 11th Gen, RTX 3050 4GB Graphics Gaming Laptop (16GB RAM/512GB SSD/Windows 10/Gray/2 kg), FX516PC-HN063T',\n",
       " 'HP Pavilion 13(2021) 11th Gen Intel Core i7 Laptop, 16GB RAM, 1TB SSD, 13.3-inch(33.8 cm) FHD Screen, Win 10, MS Office, Ceramic White, 1.24 Kg (13-bb0078TU)',\n",
       " 'Fujitsu UH-X 11th Gen Intel Core i7 13.3” (33.78cm) FHD IPS 400Nits 2-in1 Touch Convertible Laptop (16GB/1TB SSD/Win10/Office/Iris Xe Graphics/Backlit Kb/Black/997gms), 4ZR1D71993',\n",
       " 'HP Pavilion x360 (2021) 14\" (35.56cms) FHD Touchscreen Laptop, 11th Gen Core i7, 8 GB RAM, 512GB SSD, 2-in-1 Convertible, Windows 10, MS Office, Finger Print Reader (14-dw1040TU)',\n",
       " 'HP Envy 11th Gen Core i7 Processor 13.3-inch (33.78 cms) FHD Touchscreen Laptop (16GB/1TB SSD/Win 10/NVIDIA MX450 2GB/Natural Silver/1.3 kg), 13-ba1018TX',\n",
       " 'ASUS TUF Gaming F17 (2021), 17.3-inch (43.94 cms) FHD 144Hz, Intel Core i7-11800H 11th Gen, GeForce RTX 3050 Ti 4GB Graphics, Gaming Laptop (16GB/1TB SSD/Windows 10/Eclipse Gray/2.6 Kg) FX766HE-HX022T',\n",
       " 'HP Pavilion (2021) Thin & Light 11th Gen Core i7 Laptop, 16 GB RAM, 1TB SSD, Iris Xe Graphics, 14\" (35.56cms) FHD Screen, Windows 10, MS Office, Backlit Keyboard (14-dv0058TU)',\n",
       " '(Renewed) Hp Intel 7th Gen Core i7 13.3-inch (33.78 Cms) 1920 x 1080 TOUCHSCREEN Laptop (16GB RAM/1TB SSD/Windows 10 Pro/MS Office/Intel HD Integrated Graphics/ Silver/1.2Kg) EliteBook x360 G2',\n",
       " 'Lenovo IdeaPad Flex 5 11th Gen Intel Core i7 14\"(35.56cm) FHD IPS 2-in-1 Touchscreen Laptop(16GB/512GB SSD/Windows 10/MS Office/Lenovo Digital Pen/Fingerprint Reader/Graphite Grey/1.5Kg), 82HS0092IN',\n",
       " '(Renewed) Hp Intel 4th Gen Core i7 15.6-inch (39.56 Cms) 1920 x 1080 Laptop (32GB RAM /1TB SSD/Windows 10 Pro/MS Office/NVIDIA Graphics/ Gray/2.5kg) HP ZBook 15 Mobile Workstation',\n",
       " 'ASUS ZenBook 13 OLED (2021) Intel Core i7-1165G7 11th Gen 14\" (35.56cms) FHD Thin and Light Laptop (16GB/1TB SSD/Windows 10/Office 2019/Intel Iris Xᵉ Graphics/Lilac Mist/1.14 kg), UX325EA-KG701TS',\n",
       " 'ASUS VivoBook S S14 Intel Core i7-1165G7 11th Gen, 14-inch FHD Thin and Light Laptop (8GB RAM/512GB SSD + 32GB Optane Memory/Windows 10/Office 2019/Iris X Graphics- Indie Black/1.4 Kg), S433EA-AM701TS',\n",
       " 'ASUS VivoBook S S15 (2021), 15.6-inch (39.62 cms) FHD Intel Core i7-1165G7 11th Gen, Thin and Light Laptop (8GB/512GB SSD/Office 2019/Windows 10/2GB NVIDIA MX350 Graphics/Silver/1.8 kg) S532EQ-BQ702TS',\n",
       " '(Renewed) Hp Intel 4th Gen Core i7 15.6-inch (39.56 Cms) 1920 x 1080 Laptop (32GB RAM/512GB SSD/Windows 10 Pro/MS Office/NVIDIA Graphics/ Gray/2.5kg) HP ZBook 15 Mobile Workstation',\n",
       " '(Renewed) Hp Intel 4th Gen Core i7 15.6-inch (39.56 Cms) 1920 x 1080 Laptop (16GB RAM /1TB SSD/Windows 10 Pro/MS Office/NVIDIA Graphics/ Gray/2.5kg) HP ZBook 15 Mobile Workstation',\n",
       " '(Renewed) Hp Intel 4th Gen Core i7 15.6-inch (39.56 Cms) 1920 x 1080 Laptop (16GB RAM/512GB SSD/Windows 10 Pro/MS Office/NVIDIA Graphics/ Gray/2.5kg) HP ZBook 15 Mobile Workstation',\n",
       " '(Renewed) Hp Intel 4th Gen Core i7 15.6-inch (39.56 Cms) 1920 x 1080 Laptop (4GB RAM/500GB HDD/Windows 10 Pro/MS Office/NVIDIA Graphics/ Gray/2.5kg) HP ZBook 15 Mobile Workstation',\n",
       " '(Renewed) Hp Intel 4th Gen Core i7 15.6-inch (39.56 Cms) 1920 x 1080 Laptop (8GB RAM/256GB SSD/Windows 10 Pro/MS Office/NVIDIA Graphics/ Gray/2.5kg) HP ZBook 15 Mobile Workstation',\n",
       " 'Lenovo Legion 5 11th Gen Intel Core i7 15.6\"(39.62cm) FHD IPS Gaming Laptop (16GB/512GB SSD/NVIDIA RTX 3050 4GB/120Hz Refresh Rate/Windows 10/MS Office/Backlit Keyboard/Phantom Blue/2.4Kg), 82JK007WIN',\n",
       " 'Life Digital Laptop 15.6-inch (39.62 cms) (Intel Core i7, 8GB RAM, 512GB SSD, Windows 10), ZED AIR CX7']"
      ]
     },
     "execution_count": 28,
     "metadata": {},
     "output_type": "execute_result"
    }
   ],
   "source": [
    "# Extracting the web element of the titles.\n",
    "\n",
    "laptop_title= driver.find_elements_by_xpath('//span[@class=\"a-size-medium a-color-base a-text-normal\"]')\n",
    "\n",
    "title = []\n",
    "\n",
    "for i in laptop_title:\n",
    "    title.append(i.text)\n",
    "title\n",
    "    "
   ]
  },
  {
   "cell_type": "code",
   "execution_count": 29,
   "metadata": {},
   "outputs": [
    {
     "data": {
      "text/plain": [
       "['https://www.amazon.in/gp/slredirect/picassoRedirect.html/ref=pa_sp_atf_computers_sr_pg1_1?ie=UTF8&adId=A10081262K6KZOZ37JXYV&url=%2FHP-Processor-13-3-inch-Touchscreen-13-ba1018TX%2Fdp%2FB091FJ13Q5%2Fref%3Dsr_1_1_sspa%3Fdchild%3D1%26keywords%3DLaptops%26qid%3D1631275781%26refinements%3Dp_n_feature_thirteen_browse-bin%253A12598163031%257C16757432031%26rnid%3D12598141031%26s%3Dcomputers%26sr%3D1-1-spons%26psc%3D1&qualifier=1631275781&id=6964991677857161&widgetName=sp_atf',\n",
       " 'https://www.amazon.in/Lenovo-IdeaPad-Windows-Graphics-82H1002CIN/dp/B094XJPQ6N/ref=sr_1_2?dchild=1&keywords=Laptops&qid=1631275781&refinements=p_n_feature_thirteen_browse-bin%3A12598163031%7C16757432031&rnid=12598141031&s=computers&sr=1-2',\n",
       " 'https://www.amazon.in/Notebook-Horizon-i7-10510U-Graphics-XMA1904-AF/dp/B089DFJHZ8/ref=sr_1_3?dchild=1&keywords=Laptops&qid=1631275781&refinements=p_n_feature_thirteen_browse-bin%3A12598163031%7C16757432031&rnid=12598141031&s=computers&sr=1-3',\n",
       " 'https://www.amazon.in/Lenovo-IdeaPad-250Nits-Graphics-81Y4019EIN/dp/B097TZMG7R/ref=sr_1_4?dchild=1&keywords=Laptops&qid=1631275781&refinements=p_n_feature_thirteen_browse-bin%3A12598163031%7C16757432031&rnid=12598141031&s=computers&sr=1-4',\n",
       " 'https://www.amazon.in/MSI-i7-10750H-IPS-Level-Windows-10SCXR-654IN/dp/B093L8QGL7/ref=sr_1_5?dchild=1&keywords=Laptops&qid=1631275781&refinements=p_n_feature_thirteen_browse-bin%3A12598163031%7C16757432031&rnid=12598141031&s=computers&sr=1-5',\n",
       " 'https://www.amazon.in/ASUS-Dash-F15-15-6-inch-i7-11370H-FX516PC-HN063T/dp/B096KVJ5PC/ref=sr_1_6?dchild=1&keywords=Laptops&qid=1631275781&refinements=p_n_feature_thirteen_browse-bin%3A12598163031%7C16757432031&rnid=12598141031&s=computers&sr=1-6',\n",
       " 'https://www.amazon.in/HP-Pavilion-13-3-inch-Ceramic-13-bb0078TU/dp/B09839P9XB/ref=sr_1_7?dchild=1&keywords=Laptops&qid=1631275781&refinements=p_n_feature_thirteen_browse-bin%3A12598163031%7C16757432031&rnid=12598141031&s=computers&sr=1-7',\n",
       " 'https://www.amazon.in/Fujitsu-33-78cm-Convertible-Graphics-4ZR1D71993/dp/B098P4M233/ref=sr_1_8?dchild=1&keywords=Laptops&qid=1631275781&refinements=p_n_feature_thirteen_browse-bin%3A12598163031%7C16757432031&rnid=12598141031&s=computers&sr=1-8',\n",
       " 'https://www.amazon.in/HP-Pavilion-Touchscreen-Convertible-14-dw1040TU/dp/B08R843NHL/ref=sr_1_9?dchild=1&keywords=Laptops&qid=1631275781&refinements=p_n_feature_thirteen_browse-bin%3A12598163031%7C16757432031&rnid=12598141031&s=computers&sr=1-9',\n",
       " 'https://www.amazon.in/HP-Processor-13-3-inch-Touchscreen-13-ba1018TX/dp/B091FJ13Q5/ref=sr_1_10?dchild=1&keywords=Laptops&qid=1631275781&refinements=p_n_feature_thirteen_browse-bin%3A12598163031%7C16757432031&rnid=12598141031&s=computers&sr=1-10',\n",
       " 'https://www.amazon.in/ASUS-17-3-inch-i7-11800H-GeForce-RTX-3050-Ti-FX766HE-HX022T/dp/B0987S6PG1/ref=sr_1_11?dchild=1&keywords=Laptops&qid=1631275781&refinements=p_n_feature_thirteen_browse-bin%3A12598163031%7C16757432031&rnid=12598141031&s=computers&sr=1-11',\n",
       " 'https://www.amazon.in/HP-Pavilion-Graphics-35-56cms-14-dv0058TU/dp/B08WB857GB/ref=sr_1_12?dchild=1&keywords=Laptops&qid=1631275781&refinements=p_n_feature_thirteen_browse-bin%3A12598163031%7C16757432031&rnid=12598141031&s=computers&sr=1-12',\n",
       " 'https://www.amazon.in/13-3-inch-TOUCHSCREEN-Integrated-Graphics-EliteBook/dp/B09CMZLGYG/ref=sr_1_13?dchild=1&keywords=Laptops&qid=1631275781&refinements=p_n_feature_thirteen_browse-bin%3A12598163031%7C16757432031&rnid=12598141031&s=computers&sr=1-13',\n",
       " 'https://www.amazon.in/Lenovo-Touchscreen-Fingerprint-Graphite-82HS0092IN/dp/B08WRZQBQ6/ref=sr_1_14?dchild=1&keywords=Laptops&qid=1631275781&refinements=p_n_feature_thirteen_browse-bin%3A12598163031%7C16757432031&rnid=12598141031&s=computers&sr=1-14',\n",
       " 'https://www.amazon.in/15-6-inch-HP-ZBook-15-Workstation/dp/B09DQ4DZ5N/ref=sr_1_15?dchild=1&keywords=Laptops&qid=1631275781&refinements=p_n_feature_thirteen_browse-bin%3A12598163031%7C16757432031&rnid=12598141031&s=computers&sr=1-15',\n",
       " 'https://www.amazon.in/ASUS-i7-1165G7-35-56cms-Graphics-UX325EA-KG701TS/dp/B095C55Q7P/ref=sr_1_16?dchild=1&keywords=Laptops&qid=1631275781&refinements=p_n_feature_thirteen_browse-bin%3A12598163031%7C16757432031&rnid=12598141031&s=computers&sr=1-16',\n",
       " 'https://www.amazon.in/ASUS-VivoBook-i7-1165G7-Graphics-S433EA-AM701TS/dp/B08PQTZB3Z/ref=sr_1_17?dchild=1&keywords=Laptops&qid=1631275781&refinements=p_n_feature_thirteen_browse-bin%3A12598163031%7C16757432031&rnid=12598141031&s=computers&sr=1-17',\n",
       " 'https://www.amazon.in/ASUS-VivoBook-S532EQ-BQ702TS-I7-1165G7-SILVER/dp/B08PZ3VRCS/ref=sr_1_18?dchild=1&keywords=Laptops&qid=1631275781&refinements=p_n_feature_thirteen_browse-bin%3A12598163031%7C16757432031&rnid=12598141031&s=computers&sr=1-18',\n",
       " 'https://www.amazon.in/15-6-inch-HP-ZBook-15-Workstation/dp/B09DQ33KWV/ref=sr_1_19?dchild=1&keywords=Laptops&qid=1631275781&refinements=p_n_feature_thirteen_browse-bin%3A12598163031%7C16757432031&rnid=12598141031&s=computers&sr=1-19',\n",
       " 'https://www.amazon.in/15-6-inch-HP-ZBook-15-Workstation/dp/B09DQ2ZKRS/ref=sr_1_20?dchild=1&keywords=Laptops&qid=1631275781&refinements=p_n_feature_thirteen_browse-bin%3A12598163031%7C16757432031&rnid=12598141031&s=computers&sr=1-20',\n",
       " 'https://www.amazon.in/15-6-inch-HP-ZBook-15-Workstation/dp/B09DQ4ZZ49/ref=sr_1_21?dchild=1&keywords=Laptops&qid=1631275781&refinements=p_n_feature_thirteen_browse-bin%3A12598163031%7C16757432031&rnid=12598141031&s=computers&sr=1-21',\n",
       " 'https://www.amazon.in/15-6-inch-HP-ZBook-15-Workstation/dp/B09DQ4V2F8/ref=sr_1_22?dchild=1&keywords=Laptops&qid=1631275781&refinements=p_n_feature_thirteen_browse-bin%3A12598163031%7C16757432031&rnid=12598141031&s=computers&sr=1-22',\n",
       " 'https://www.amazon.in/15-6-inch-HP-ZBook-15-Workstation/dp/B09DQ4DKF6/ref=sr_1_23?dchild=1&keywords=Laptops&qid=1631275781&refinements=p_n_feature_thirteen_browse-bin%3A12598163031%7C16757432031&rnid=12598141031&s=computers&sr=1-23',\n",
       " 'https://www.amazon.in/Lenovo-39-62cm-Refresh-Keyboard-82JK007WIN/dp/B09DMYZW5Q/ref=sr_1_24?dchild=1&keywords=Laptops&qid=1631275781&refinements=p_n_feature_thirteen_browse-bin%3A12598163031%7C16757432031&rnid=12598141031&s=computers&sr=1-24',\n",
       " 'https://www.amazon.in/LifeDigital-Laptop-Intel%C2%AE-Storage-Windows/dp/B08HRHFV23/ref=sr_1_25?dchild=1&keywords=Laptops&qid=1631275781&refinements=p_n_feature_thirteen_browse-bin%3A12598163031%7C16757432031&rnid=12598141031&s=computers&sr=1-25']"
      ]
     },
     "execution_count": 29,
     "metadata": {},
     "output_type": "execute_result"
    }
   ],
   "source": [
    "# To extract the ratings of the laptops firstly we'll extract the page urls of every laptop.\n",
    "\n",
    "laptop_ratings_urls = []\n",
    "\n",
    "url10 = driver.find_elements_by_xpath('//h2[@class=\"a-size-mini a-spacing-none a-color-base s-line-clamp-2\"]//a')\n",
    "for u10 in url10:\n",
    "    laptop_ratings_urls.append(u10.get_attribute('href'))\n",
    "    \n",
    "laptop_ratings_urls\n"
   ]
  },
  {
   "cell_type": "code",
   "execution_count": 30,
   "metadata": {},
   "outputs": [
    {
     "data": {
      "text/plain": [
       "['4.1 out of 5',\n",
       " '4.3 out of 5',\n",
       " '4.2 out of 5',\n",
       " '4.4 out of 5',\n",
       " '4.2 out of 5',\n",
       " '3.5 out of 5',\n",
       " '5 out of 5',\n",
       " '4.2 out of 5',\n",
       " '4 out of 5',\n",
       " '4.1 out of 5',\n",
       " '4.3 out of 5',\n",
       " '4.1 out of 5',\n",
       " '5 out of 5',\n",
       " '4 out of 5',\n",
       " '4.3 out of 5',\n",
       " '4.2 out of 5',\n",
       " '3.2 out of 5']"
      ]
     },
     "execution_count": 30,
     "metadata": {},
     "output_type": "execute_result"
    }
   ],
   "source": [
    "# Extracting texts from the page urls of the laptops.\n",
    "\n",
    "rating10 = []\n",
    "\n",
    "for r10 in laptop_ratings_urls:\n",
    "    driver.get(r10)\n",
    "    time.sleep(10)\n",
    "    try:\n",
    "        ratings_tag10 = driver.find_element_by_xpath('//span[@class=\"a-size-medium a-color-base\"]')\n",
    "        rating10.append(ratings_tag10.text)\n",
    "    except:\n",
    "        pass\n",
    "rating10"
   ]
  },
  {
   "cell_type": "code",
   "execution_count": 34,
   "metadata": {},
   "outputs": [
    {
     "data": {
      "text/plain": [
       "['1,23,300',\n",
       " '76,999',\n",
       " '77,990',\n",
       " '57,990',\n",
       " '73,990',\n",
       " '74,990',\n",
       " '87,990',\n",
       " '1,13,990',\n",
       " '91,990',\n",
       " '1,07,990',\n",
       " '86,990',\n",
       " '1,23,300',\n",
       " '63,999',\n",
       " '52,999',\n",
       " '1,01,910',\n",
       " '81,290',\n",
       " '84,688',\n",
       " '50,999',\n",
       " '47,999',\n",
       " '45,999',\n",
       " '39,999',\n",
       " '41,999',\n",
       " '1,25,390',\n",
       " '429.',\n",
       " '1,12,990.',\n",
       " '13,800.',\n",
       " '10,990.',\n",
       " '263.',\n",
       " '359.',\n",
       " '13,800.']"
      ]
     },
     "execution_count": 34,
     "metadata": {},
     "output_type": "execute_result"
    }
   ],
   "source": [
    "# Extracting the web elements of the prices.\n",
    "\n",
    "laptop_price= driver.find_elements_by_xpath('//span[@class=\"a-price-whole\"]')\n",
    "\n",
    "Laptop_price=[]\n",
    "for i in laptop_price:\n",
    "    Laptop_price.append(i.text)\n",
    "Laptop_price\n",
    "\n"
   ]
  },
  {
   "cell_type": "code",
   "execution_count": 64,
   "metadata": {},
   "outputs": [
    {
     "data": {
      "text/html": [
       "<div>\n",
       "<style scoped>\n",
       "    .dataframe tbody tr th:only-of-type {\n",
       "        vertical-align: middle;\n",
       "    }\n",
       "\n",
       "    .dataframe tbody tr th {\n",
       "        vertical-align: top;\n",
       "    }\n",
       "\n",
       "    .dataframe thead th {\n",
       "        text-align: right;\n",
       "    }\n",
       "</style>\n",
       "<table border=\"1\" class=\"dataframe\">\n",
       "  <thead>\n",
       "    <tr style=\"text-align: right;\">\n",
       "      <th></th>\n",
       "      <th>Brand Name</th>\n",
       "      <th>Rating</th>\n",
       "      <th>Price</th>\n",
       "    </tr>\n",
       "  </thead>\n",
       "  <tbody>\n",
       "    <tr>\n",
       "      <th>0</th>\n",
       "      <td>HP Envy 11th Gen Core i7 Processor 13.3-inch (...</td>\n",
       "      <td>4.1 out of 5</td>\n",
       "      <td>1,23,300</td>\n",
       "    </tr>\n",
       "    <tr>\n",
       "      <th>1</th>\n",
       "      <td>Lenovo IdeaPad S540 11th Gen Intel Core i7 13....</td>\n",
       "      <td>4.3 out of 5</td>\n",
       "      <td>76,999</td>\n",
       "    </tr>\n",
       "    <tr>\n",
       "      <th>2</th>\n",
       "      <td>Mi Notebook Horizon Edition 14 Intel Core i7-1...</td>\n",
       "      <td>4.2 out of 5</td>\n",
       "      <td>77,990</td>\n",
       "    </tr>\n",
       "    <tr>\n",
       "      <th>3</th>\n",
       "      <td>Lenovo IdeaPad Gaming 3 Intel Core i7 10th Gen...</td>\n",
       "      <td>4.4 out of 5</td>\n",
       "      <td>57,990</td>\n",
       "    </tr>\n",
       "    <tr>\n",
       "      <th>4</th>\n",
       "      <td>MSI GF75 Thin, Intel i7-10750H, 17.3\" (43.9 cm...</td>\n",
       "      <td>4.2 out of 5</td>\n",
       "      <td>73,990</td>\n",
       "    </tr>\n",
       "    <tr>\n",
       "      <th>5</th>\n",
       "      <td>ASUS TUF Dash F15 (2021), 15.6-inch (39.62 cms...</td>\n",
       "      <td>3.5 out of 5</td>\n",
       "      <td>74,990</td>\n",
       "    </tr>\n",
       "    <tr>\n",
       "      <th>6</th>\n",
       "      <td>HP Pavilion 13(2021) 11th Gen Intel Core i7 La...</td>\n",
       "      <td>5 out of 5</td>\n",
       "      <td>87,990</td>\n",
       "    </tr>\n",
       "    <tr>\n",
       "      <th>7</th>\n",
       "      <td>Fujitsu UH-X 11th Gen Intel Core i7 13.3” (33....</td>\n",
       "      <td>4.2 out of 5</td>\n",
       "      <td>1,13,990</td>\n",
       "    </tr>\n",
       "    <tr>\n",
       "      <th>8</th>\n",
       "      <td>HP Pavilion x360 (2021) 14\" (35.56cms) FHD Tou...</td>\n",
       "      <td>4 out of 5</td>\n",
       "      <td>91,990</td>\n",
       "    </tr>\n",
       "    <tr>\n",
       "      <th>9</th>\n",
       "      <td>HP Envy 11th Gen Core i7 Processor 13.3-inch (...</td>\n",
       "      <td>4.1 out of 5</td>\n",
       "      <td>1,07,990</td>\n",
       "    </tr>\n",
       "  </tbody>\n",
       "</table>\n",
       "</div>"
      ],
      "text/plain": [
       "                                          Brand Name        Rating     Price\n",
       "0  HP Envy 11th Gen Core i7 Processor 13.3-inch (...  4.1 out of 5  1,23,300\n",
       "1  Lenovo IdeaPad S540 11th Gen Intel Core i7 13....  4.3 out of 5    76,999\n",
       "2  Mi Notebook Horizon Edition 14 Intel Core i7-1...  4.2 out of 5    77,990\n",
       "3  Lenovo IdeaPad Gaming 3 Intel Core i7 10th Gen...  4.4 out of 5    57,990\n",
       "4  MSI GF75 Thin, Intel i7-10750H, 17.3\" (43.9 cm...  4.2 out of 5    73,990\n",
       "5  ASUS TUF Dash F15 (2021), 15.6-inch (39.62 cms...  3.5 out of 5    74,990\n",
       "6  HP Pavilion 13(2021) 11th Gen Intel Core i7 La...    5 out of 5    87,990\n",
       "7  Fujitsu UH-X 11th Gen Intel Core i7 13.3” (33....  4.2 out of 5  1,13,990\n",
       "8  HP Pavilion x360 (2021) 14\" (35.56cms) FHD Tou...    4 out of 5    91,990\n",
       "9  HP Envy 11th Gen Core i7 Processor 13.3-inch (...  4.1 out of 5  1,07,990"
      ]
     },
     "execution_count": 64,
     "metadata": {},
     "output_type": "execute_result"
    }
   ],
   "source": [
    "df10=pd.DataFrame({})\n",
    "df10['Brand Name']=title[:10]\n",
    "df10['Rating']=rating10[:10]\n",
    "df10['Price']=Laptop_price[:10]\n",
    "df10"
   ]
  },
  {
   "cell_type": "code",
   "execution_count": null,
   "metadata": {},
   "outputs": [],
   "source": []
  }
 ],
 "metadata": {
  "kernelspec": {
   "display_name": "Python 3",
   "language": "python",
   "name": "python3"
  }
 },
 "nbformat": 4,
 "nbformat_minor": 4
}
