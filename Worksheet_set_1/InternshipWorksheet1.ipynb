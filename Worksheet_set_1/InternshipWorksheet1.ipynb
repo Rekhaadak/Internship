{
 "cells": [
  {
   "cell_type": "code",
   "execution_count": 13,
   "metadata": {},
   "outputs": [
    {
     "name": "stdout",
     "output_type": "stream",
     "text": [
      "enter the number whose factorial to be found5\n",
      "The factorial of 5 is 120\n"
     ]
    }
   ],
   "source": [
    "fact=1\n",
    "num = int (input(\"enter the number whose factorial to be found\"))\n",
    "for i in range(1,num + 1):\n",
    "       fact =fact*i\n",
    "print(\"The factorial of\",num,\"is\",fact)"
   ]
  },
  {
   "cell_type": "code",
   "execution_count": 6,
   "metadata": {},
   "outputs": [
    {
     "name": "stdout",
     "output_type": "stream",
     "text": [
      "Enter a number to check whether its a prime number or composite number59\n",
      "prime\n"
     ]
    }
   ],
   "source": [
    "n= int (input(\"Enter a number to check whether its a prime number or composite number\"))\n",
    "p=0\n",
    "for i in range(2, n-1):\n",
    "    if n%i==0:\n",
    "        p=1\n",
    "    break\n",
    "\n",
    "if p==1:\n",
    "    print(\"compo\")\n",
    "else:\n",
    "    print(\"prime\")\n",
    "    "
   ]
  },
  {
   "cell_type": "code",
   "execution_count": 17,
   "metadata": {},
   "outputs": [
    {
     "name": "stdout",
     "output_type": "stream",
     "text": [
      "enter the stringrekha\n",
      "Entered string is not palindrome\n"
     ]
    }
   ],
   "source": [
    "\n",
    "str=input(\"enter the string\")\n",
    "j = -1\n",
    "ctr = 0\n",
    "for i in str:\n",
    "    if i != str[j]:\n",
    "      j = j - 1\n",
    "      ctr = 1\n",
    "      break\n",
    "    j = j - 1\n",
    "if ctr == 1:\n",
    "    print(\"Entered string is not palindrome\")\n",
    "else:\n",
    "    print(\"Entered string is palindrome\")"
   ]
  },
  {
   "cell_type": "code",
   "execution_count": 31,
   "metadata": {},
   "outputs": [
    {
     "name": "stdout",
     "output_type": "stream",
     "text": [
      "enter height of right angled triangle3\n",
      "enter length of right angled triangle4\n",
      "the third side of right angled triange is 5.0\n"
     ]
    }
   ],
   "source": [
    "import math\n",
    "h=float(input(\"enter height of right angled triangle\"))\n",
    "l=float(input(\"enter length of right angled triangle\"))\n",
    "add=0\n",
    "add=(h*h)+(l*l)\n",
    "third=math.sqrt(add)\n",
    "print(\"the third side of right angled triange is\", third)\n"
   ]
  },
  {
   "cell_type": "code",
   "execution_count": 2,
   "metadata": {},
   "outputs": [
    {
     "name": "stdout",
     "output_type": "stream",
     "text": [
      "enter the stringsantosh\n",
      "{'s': 2, 'a': 1, 'n': 1, 't': 1, 'o': 1, 'h': 1}\n"
     ]
    }
   ],
   "source": [
    "str=input(\"enter the string\")\n",
    "d1=dict()\n",
    "for c in str:\n",
    "    if c in d1:\n",
    "        d1[c]=d1[c]+1\n",
    "    else:\n",
    "        d1[c]=1\n",
    "print(d1)"
   ]
  },
  {
   "cell_type": "code",
   "execution_count": null,
   "metadata": {},
   "outputs": [],
   "source": []
  }
 ],
 "metadata": {
  "kernelspec": {
   "display_name": "Python 3",
   "language": "python",
   "name": "python3"
  },
  "language_info": {
   "codemirror_mode": {
    "name": "ipython",
    "version": 3
   },
   "file_extension": ".py",
   "mimetype": "text/x-python",
   "name": "python",
   "nbconvert_exporter": "python",
   "pygments_lexer": "ipython3",
   "version": "3.8.5"
  }
 },
 "nbformat": 4,
 "nbformat_minor": 4
}
